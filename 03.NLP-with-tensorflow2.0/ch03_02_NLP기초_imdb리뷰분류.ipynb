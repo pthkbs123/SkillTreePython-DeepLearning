{
  "nbformat": 4,
  "nbformat_minor": 0,
  "metadata": {
    "colab": {
      "name": "ch03_02_NLP기초_imdb리뷰분류.ipynb",
      "provenance": [],
      "collapsed_sections": [],
      "include_colab_link": true
    },
    "kernelspec": {
      "name": "python3",
      "display_name": "Python 3"
    },
    "language_info": {
      "name": "python"
    },
    "gpuClass": "standard"
  },
  "cells": [
    {
      "cell_type": "markdown",
      "metadata": {
        "id": "view-in-github",
        "colab_type": "text"
      },
      "source": [
        "<a href=\"https://colab.research.google.com/github/pthkbs123/SkillTreePython-DeepLearning/blob/main/03.NLP-with-tensorflow2.0/ch03_02_NLP%EA%B8%B0%EC%B4%88_imdb%EB%A6%AC%EB%B7%B0%EB%B6%84%EB%A5%98.ipynb\" target=\"_parent\"><img src=\"https://colab.research.google.com/assets/colab-badge.svg\" alt=\"Open In Colab\"/></a>"
      ]
    },
    {
      "cell_type": "markdown",
      "source": [
        "# ch03.02 NLP기초 - imdb 리뷰 분류\n",
        "---\n",
        "\n",
        "* 날짜: 2022-07-14\n",
        "* 이름: 박태현\n",
        "\n",
        "## 학습내용\n",
        "    - 텍스트 전처리 과정을 이해한다.\n",
        "      * 텍스트 토큰화\n",
        "      * 텍스트 인덱싱\n",
        "      * 원-핫 인코딩\n",
        "      * 텍스트 임베딩\n",
        "    - 간단한 문장을 분류하는 딥러닝 모델을 구현한다.\n",
        "\n"
      ],
      "metadata": {
        "id": "sWs2kEC1_b-P"
      }
    },
    {
      "cell_type": "markdown",
      "source": [
        "```\n",
        "! git clone https://github.com/yebiny/SkillTreePython-DeepLearning\n",
        "```"
      ],
      "metadata": {
        "id": "zml97VsFlWC1"
      }
    },
    {
      "cell_type": "code",
      "execution_count": 1,
      "metadata": {
        "id": "lqjonRF6KbGY",
        "colab": {
          "base_uri": "https://localhost:8080/"
        },
        "outputId": "0a614cfb-1540-4b04-b96c-04c04946cf25"
      },
      "outputs": [
        {
          "output_type": "stream",
          "name": "stdout",
          "text": [
            "Cloning into 'SkillTreePython-DeepLearning'...\n",
            "remote: Enumerating objects: 710, done.\u001b[K\n",
            "remote: Counting objects: 100% (283/283), done.\u001b[K\n",
            "remote: Compressing objects: 100% (127/127), done.\u001b[K\n",
            "remote: Total 710 (delta 174), reused 255 (delta 155), pack-reused 427\u001b[K\n",
            "Receiving objects: 100% (710/710), 38.09 MiB | 31.13 MiB/s, done.\n",
            "Resolving deltas: 100% (367/367), done.\n"
          ]
        }
      ],
      "source": [
        "! git clone https://github.com/yebiny/SkillTreePython-DeepLearning"
      ]
    },
    {
      "cell_type": "markdown",
      "source": [
        "```\n",
        "import sys\n",
        "sys.path.append('/content/SkillTreePython-DeepLearning/scripts')\n",
        "from import_lib import *\n",
        "```"
      ],
      "metadata": {
        "id": "iDliBVhLlYiY"
      }
    },
    {
      "cell_type": "code",
      "source": [
        "import sys\n",
        "sys.path.append('/content/SkillTreePython-DeepLearning/scripts')\n",
        "from import_lib import *"
      ],
      "metadata": {
        "id": "InMFlAq4Xwge"
      },
      "execution_count": 2,
      "outputs": []
    },
    {
      "cell_type": "markdown",
      "source": [
        "## FCN 모델을 이용한 영화리뷰 분류\n",
        "---"
      ],
      "metadata": {
        "id": "VU3BLoJCGSlV"
      }
    },
    {
      "cell_type": "markdown",
      "source": [
        "### **| 데이터 처리**"
      ],
      "metadata": {
        "id": "UiHqcR2ANSyg"
      }
    },
    {
      "cell_type": "code",
      "execution_count": 3,
      "metadata": {
        "id": "VVsT77Gieb4m",
        "colab": {
          "base_uri": "https://localhost:8080/"
        },
        "outputId": "25ce107c-9a63-4abf-a2c5-15a41a0ce971"
      },
      "outputs": [
        {
          "output_type": "stream",
          "name": "stdout",
          "text": [
            "Downloading data from https://storage.googleapis.com/tensorflow/tf-keras-datasets/imdb.npz\n",
            "17465344/17464789 [==============================] - 0s 0us/step\n",
            "17473536/17464789 [==============================] - 0s 0us/step\n",
            "(25000,) (25000,) (25000,) (25000,)\n"
          ]
        }
      ],
      "source": [
        "from tensorflow.keras.datasets import imdb\n",
        "# FCN : Fully connected network (Dense layer)\n",
        "max_features = 500 # 많은 단어를 사용할 수록 성능 향상? -> 다차원 데이터를 다루기 위해서는 FCN으로는 어렵다.\n",
        "max_len = 100 # 문장안에 존재할 최대 단어수\n",
        "# 문장 -> (단어의 개수 , 각 단어 벡터길이)\n",
        "(x_train, y_train), (x_test, y_test) = imdb.load_data(num_words = max_features ) # 몇개의 단어를 사용할 것인가 \n",
        "print(x_train.shape, y_train.shape, x_test.shape, y_test.shape)"
      ]
    },
    {
      "cell_type": "code",
      "source": [
        "print('첫번째 리뷰:', x_train[0], )\n",
        "print('첫번째 리뷰의 단어 개수:', len(x_train[0]))\n",
        "print('첫번째 리뷰의 클래스:', y_train[0])"
      ],
      "metadata": {
        "id": "30OhC62r3LUA",
        "colab": {
          "base_uri": "https://localhost:8080/"
        },
        "outputId": "6aff828a-19af-4a98-c896-c314ead689cb"
      },
      "execution_count": 4,
      "outputs": [
        {
          "output_type": "stream",
          "name": "stdout",
          "text": [
            "첫번째 리뷰: [1, 14, 22, 16, 43, 2, 2, 2, 2, 65, 458, 2, 66, 2, 4, 173, 36, 256, 5, 25, 100, 43, 2, 112, 50, 2, 2, 9, 35, 480, 284, 5, 150, 4, 172, 112, 167, 2, 336, 385, 39, 4, 172, 2, 2, 17, 2, 38, 13, 447, 4, 192, 50, 16, 6, 147, 2, 19, 14, 22, 4, 2, 2, 469, 4, 22, 71, 87, 12, 16, 43, 2, 38, 76, 15, 13, 2, 4, 22, 17, 2, 17, 12, 16, 2, 18, 2, 5, 62, 386, 12, 8, 316, 8, 106, 5, 4, 2, 2, 16, 480, 66, 2, 33, 4, 130, 12, 16, 38, 2, 5, 25, 124, 51, 36, 135, 48, 25, 2, 33, 6, 22, 12, 215, 28, 77, 52, 5, 14, 407, 16, 82, 2, 8, 4, 107, 117, 2, 15, 256, 4, 2, 7, 2, 5, 2, 36, 71, 43, 2, 476, 26, 400, 317, 46, 7, 4, 2, 2, 13, 104, 88, 4, 381, 15, 297, 98, 32, 2, 56, 26, 141, 6, 194, 2, 18, 4, 226, 22, 21, 134, 476, 26, 480, 5, 144, 30, 2, 18, 51, 36, 28, 224, 92, 25, 104, 4, 226, 65, 16, 38, 2, 88, 12, 16, 283, 5, 16, 2, 113, 103, 32, 15, 16, 2, 19, 178, 32]\n",
            "첫번째 리뷰의 단어 개수: 218\n",
            "첫번째 리뷰의 클래스: 1\n"
          ]
        }
      ]
    },
    {
      "cell_type": "code",
      "source": [
        "# 문장 안에 단어가 몇개씩 들어있는가?\n",
        "x_lens = [len(x) for x in x_train]\n",
        "_=plt.hist(x_lens, bins=50)"
      ],
      "metadata": {
        "id": "LR0PZndR34TE",
        "colab": {
          "base_uri": "https://localhost:8080/",
          "height": 265
        },
        "outputId": "582d41c9-e0a7-4a48-88ea-92939083ba8b"
      },
      "execution_count": 5,
      "outputs": [
        {
          "output_type": "display_data",
          "data": {
            "text/plain": [
              "<Figure size 432x288 with 1 Axes>"
            ],
            "image/png": "[encoded data removed]"
          },
          "metadata": {
            "needs_background": "light"
          }
        }
      ]
    },
    {
      "cell_type": "code",
      "source": [
        "# 딕셔너리\n",
        "word2index = imdb.get_word_index()\n",
        "#word2index"
      ],
      "metadata": {
        "id": "j_5TdG3l4A-V",
        "colab": {
          "base_uri": "https://localhost:8080/"
        },
        "outputId": "44ea68c7-558a-4cb2-a567-157069f86463"
      },
      "execution_count": 6,
      "outputs": [
        {
          "output_type": "stream",
          "name": "stdout",
          "text": [
            "Downloading data from https://storage.googleapis.com/tensorflow/tf-keras-datasets/imdb_word_index.json\n",
            "1646592/1641221 [==============================] - 0s 0us/step\n",
            "1654784/1641221 [==============================] - 0s 0us/step\n"
          ]
        }
      ]
    },
    {
      "cell_type": "code",
      "source": [
        "index2word = {}\n",
        "for word, idx in word2index.items():\n",
        "  index2word[idx+3]=word"
      ],
      "metadata": {
        "id": "Cl3Y75343_v7"
      },
      "execution_count": 7,
      "outputs": []
    },
    {
      "cell_type": "code",
      "source": [
        "# 첫번째 리뷰 해석\n",
        "review = x_train[3]\n",
        "trans = []\n",
        "for index in review:\n",
        "  if index in index2word.keys():\n",
        "    trans.append(index2word[index])\n",
        "print(' '.join(x for x in trans))\n",
        "print(review)"
      ],
      "metadata": {
        "id": "7bnMqQnae6Cm",
        "colab": {
          "base_uri": "https://localhost:8080/"
        },
        "outputId": "0b0ee69d-fb06-4035-d203-04fc72270485"
      },
      "execution_count": 8,
      "outputs": [
        {
          "output_type": "stream",
          "name": "stdout",
          "text": [
            "the at the sort many years after the i can still see in my an my mother the of she makes the characters come her is that of an one to the on the a or so from where she lives br br of course it many years before she was but you guess from the way she it the same story is in the and of as i it with a friend one night in a in to give his version the to time br br down like this become part of our being who doesn't remember the our us when we were children they become our world and as we they maybe still as or as an fact and with role and br br my name is like my and his before him our himself to us and also the story that back through it that the of its in the of yet is in this is what gives it its special it has a and with some of the you will ever br br his in before his death he with part of him to be in the first to out in but he is on the a br br yet there is a him he to know the the behind his where does end and he wants to know the behind the death of his br br he is to make a last to the of one of most can the be or is it all in br br in this story about we the of old and the more of in doing so we each with as he lives the story of his own life br br the is probably the most and beautiful film of ever made like i got with the of on more but also like i this once i saw the picture the of and its like you might even the of the man to see a film that is true to this one is probably if you maybe on it enough you might even the of and the old of there are some that be but only\n",
            "[1, 4, 2, 2, 33, 2, 4, 2, 432, 111, 153, 103, 4, 2, 13, 70, 131, 67, 11, 61, 2, 2, 35, 2, 2, 61, 2, 452, 2, 4, 2, 7, 2, 59, 166, 4, 105, 216, 2, 41, 2, 9, 15, 7, 35, 2, 2, 31, 8, 4, 2, 23, 4, 2, 2, 6, 2, 42, 38, 39, 121, 59, 456, 10, 10, 7, 265, 12, 2, 111, 153, 159, 59, 16, 2, 21, 25, 2, 482, 39, 4, 96, 59, 2, 12, 4, 172, 65, 9, 2, 11, 2, 4, 2, 5, 2, 7, 2, 17, 13, 2, 12, 19, 6, 464, 31, 314, 11, 2, 6, 2, 2, 11, 8, 202, 27, 310, 4, 2, 2, 8, 2, 58, 10, 10, 2, 2, 180, 40, 14, 413, 173, 7, 263, 112, 37, 152, 377, 4, 2, 263, 2, 2, 178, 54, 75, 71, 476, 36, 413, 263, 2, 182, 5, 17, 75, 2, 2, 36, 279, 131, 2, 17, 2, 42, 17, 35, 2, 2, 192, 5, 2, 2, 19, 2, 217, 2, 2, 2, 2, 2, 5, 2, 10, 10, 61, 403, 9, 2, 40, 61, 2, 5, 27, 2, 159, 90, 263, 2, 2, 309, 8, 178, 5, 82, 2, 4, 65, 15, 2, 145, 143, 2, 12, 2, 2, 2, 2, 2, 15, 2, 4, 2, 2, 7, 2, 94, 2, 2, 2, 11, 2, 4, 2, 7, 2, 246, 2, 9, 2, 11, 2, 14, 9, 51, 408, 12, 94, 318, 2, 12, 47, 6, 2, 2, 5, 2, 2, 19, 49, 7, 4, 2, 2, 2, 25, 80, 126, 2, 10, 10, 2, 2, 2, 27, 2, 11, 2, 2, 159, 27, 341, 29, 2, 19, 2, 173, 7, 90, 2, 8, 30, 11, 4, 2, 86, 2, 8, 2, 46, 11, 2, 21, 29, 9, 2, 23, 4, 2, 2, 2, 6, 2, 2, 2, 10, 10, 246, 50, 9, 6, 2, 2, 2, 90, 29, 2, 8, 124, 4, 2, 4, 2, 496, 27, 2, 2, 2, 121, 127, 2, 130, 5, 29, 494, 8, 124, 4, 2, 496, 4, 341, 7, 27, 2, 10, 10, 29, 9, 2, 8, 97, 6, 236, 2, 2, 8, 4, 2, 7, 31, 7, 2, 91, 2, 2, 70, 4, 2, 30, 2, 42, 9, 12, 32, 11, 2, 10, 10, 11, 14, 65, 44, 2, 75, 2, 2, 2, 2, 2, 4, 2, 7, 154, 5, 4, 2, 53, 2, 2, 7, 2, 2, 11, 399, 38, 75, 257, 2, 19, 2, 17, 29, 456, 4, 65, 7, 27, 205, 113, 10, 10, 2, 4, 2, 2, 9, 242, 4, 91, 2, 2, 5, 2, 307, 22, 7, 2, 126, 93, 40, 2, 13, 188, 2, 2, 19, 4, 2, 7, 2, 2, 23, 53, 2, 21, 82, 40, 2, 13, 2, 14, 280, 13, 219, 4, 2, 431, 2, 2, 4, 2, 2, 2, 7, 2, 5, 94, 40, 25, 238, 60, 2, 4, 2, 2, 2, 7, 4, 2, 132, 8, 67, 6, 22, 15, 9, 283, 8, 2, 14, 31, 9, 242, 2, 48, 25, 279, 2, 23, 12, 2, 195, 25, 238, 60, 2, 2, 4, 2, 7, 2, 5, 4, 2, 154, 2, 7, 2, 50, 26, 49, 2, 15, 2, 30, 2, 21, 64, 2]\n"
          ]
        }
      ]
    },
    {
      "cell_type": "code",
      "source": [
        "print('imdb 데이터에 있는 모든 단어수 : ', len(word2index), len(index2word))\n",
        "print('우리가 사용할 단어수 :', max_features)\n",
        "# 빈도수 순으로 500개 단어에 대해서만 원핫"
      ],
      "metadata": {
        "colab": {
          "base_uri": "https://localhost:8080/"
        },
        "id": "O4mW4L3FIhDF",
        "outputId": "590be3b0-a178-4290-bea9-edefd8e9498c"
      },
      "execution_count": 9,
      "outputs": [
        {
          "output_type": "stream",
          "name": "stdout",
          "text": [
            "imdb 데이터에 있는 모든 단어수 :  88584 88584\n",
            "우리가 사용할 단어수 : 500\n"
          ]
        }
      ]
    },
    {
      "cell_type": "code",
      "source": [
        "print('빈도가 높은 단어:', index2word[4], index2word[5], index2word[6])"
      ],
      "metadata": {
        "colab": {
          "base_uri": "https://localhost:8080/"
        },
        "id": "LOGceIeZJHpT",
        "outputId": "29a997b3-a82a-427e-9a99-015b730372eb"
      },
      "execution_count": 10,
      "outputs": [
        {
          "output_type": "stream",
          "name": "stdout",
          "text": [
            "빈도가 높은 단어: the and a\n"
          ]
        }
      ]
    },
    {
      "cell_type": "code",
      "source": [
        "from tensorflow.keras.datasets import imdb\n",
        "# FCN : Fully connected network (Dense layer)\n",
        "max_features = 500 # 많은 단어를 사용할 수록 성능 향상? -> 다차원 데이터를 다루기 위해서는 FCN으로는 어렵다.\n",
        "max_len = 100 # 문장안에 존재할 최대 단어수\n",
        "# 문장 -> (단어의 개수 , 각 단어 벡터길이)\n",
        "(x_train, y_train), (x_test, y_test) = imdb.load_data(num_words = max_features ) # 몇개의 단어를 사용할 것인가 \n",
        "print(x_train.shape, y_train.shape, x_test.shape, y_test.shape)\n",
        "\n",
        "print('패딩 전:', x_train.shape, y_test.shape)\n",
        "x_train = preprocessing.sequence.pad_sequences(x_train, maxlen=max_len)\n",
        "x_test = preprocessing.sequence.pad_sequences(x_test, maxlen=max_len)\n",
        "print('패딩 후:', x_train.shape, x_test.shape)"
      ],
      "metadata": {
        "colab": {
          "base_uri": "https://localhost:8080/"
        },
        "id": "sgcRPjNqJdIV",
        "outputId": "ac8c38d2-976b-437a-a52e-ce5320fe19c6"
      },
      "execution_count": 11,
      "outputs": [
        {
          "output_type": "stream",
          "name": "stdout",
          "text": [
            "(25000,) (25000,) (25000,) (25000,)\n",
            "패딩 전: (25000,) (25000,)\n",
            "패딩 후: (25000, 100) (25000, 100)\n"
          ]
        }
      ]
    },
    {
      "cell_type": "code",
      "source": [
        "x_train[0]"
      ],
      "metadata": {
        "id": "utrzF0TyKVNC",
        "colab": {
          "base_uri": "https://localhost:8080/"
        },
        "outputId": "3252739d-1407-484e-984c-57f6deb78482"
      },
      "execution_count": 12,
      "outputs": [
        {
          "output_type": "execute_result",
          "data": {
            "text/plain": [
              "array([  2,  33,   6,  22,  12, 215,  28,  77,  52,   5,  14, 407,  16,\n",
              "        82,   2,   8,   4, 107, 117,   2,  15, 256,   4,   2,   7,   2,\n",
              "         5,   2,  36,  71,  43,   2, 476,  26, 400, 317,  46,   7,   4,\n",
              "         2,   2,  13, 104,  88,   4, 381,  15, 297,  98,  32,   2,  56,\n",
              "        26, 141,   6, 194,   2,  18,   4, 226,  22,  21, 134, 476,  26,\n",
              "       480,   5, 144,  30,   2,  18,  51,  36,  28, 224,  92,  25, 104,\n",
              "         4, 226,  65,  16,  38,   2,  88,  12,  16, 283,   5,  16,   2,\n",
              "       113, 103,  32,  15,  16,   2,  19, 178,  32], dtype=int32)"
            ]
          },
          "metadata": {},
          "execution_count": 12
        }
      ]
    },
    {
      "cell_type": "markdown",
      "source": [
        "### **| 모델 학습**"
      ],
      "metadata": {
        "id": "x0b-joGlMQMw"
      }
    },
    {
      "cell_type": "code",
      "source": [
        "def create_model(max_len, max_features, emb_dims):\n",
        "  x = layers.Input(shape=max_len)\n",
        "  y = layers.Embedding(max_features, emb_dims)(x)\n",
        "  y = layers.Flatten()(y)\n",
        "  y = layers.Dense(32, activation='relu')(y)\n",
        "  y = layers.Dense(1, activation='sigmoid')(y) # 이진분류\n",
        "  return models.Model(x,y)"
      ],
      "metadata": {
        "id": "vhX0O85KMfJQ"
      },
      "execution_count": 13,
      "outputs": []
    },
    {
      "cell_type": "code",
      "source": [
        "model = create_model(max_len, max_features, 100)\n",
        "model.summary()"
      ],
      "metadata": {
        "id": "W3sT2c6Qf9EW",
        "colab": {
          "base_uri": "https://localhost:8080/"
        },
        "outputId": "3d93ea4f-8a09-4661-95ed-e4d2ae8b10a2"
      },
      "execution_count": 14,
      "outputs": [
        {
          "output_type": "stream",
          "name": "stdout",
          "text": [
            "Model: \"model\"\n",
            "_________________________________________________________________\n",
            " Layer (type)                Output Shape              Param #   \n",
            "=================================================================\n",
            " input_1 (InputLayer)        [(None, 100)]             0         \n",
            "                                                                 \n",
            " embedding (Embedding)       (None, 100, 100)          50000     \n",
            "                                                                 \n",
            " flatten (Flatten)           (None, 10000)             0         \n",
            "                                                                 \n",
            " dense (Dense)               (None, 32)                320032    \n",
            "                                                                 \n",
            " dense_1 (Dense)             (None, 1)                 33        \n",
            "                                                                 \n",
            "=================================================================\n",
            "Total params: 370,065\n",
            "Trainable params: 370,065\n",
            "Non-trainable params: 0\n",
            "_________________________________________________________________\n"
          ]
        }
      ]
    },
    {
      "cell_type": "code",
      "source": [
        "model.compile(optimizer='adam',\n",
        "              loss = 'binary_crossentropy',\n",
        "              metrics=['acc'])\n",
        "history = model.fit(x_train, y_train,\n",
        "                    epochs=20,\n",
        "                    batch_size=32,\n",
        "                    validation_split=0.2)"
      ],
      "metadata": {
        "id": "O9x4UJtINbfQ",
        "colab": {
          "base_uri": "https://localhost:8080/"
        },
        "outputId": "574f50ef-b5c0-4a8b-c108-42ba45d4444f"
      },
      "execution_count": 15,
      "outputs": [
        {
          "output_type": "stream",
          "name": "stdout",
          "text": [
            "Epoch 1/20\n",
            "625/625 [==============================] - 6s 9ms/step - loss: 0.5223 - acc: 0.7230 - val_loss: 0.4580 - val_acc: 0.7818\n",
            "Epoch 2/20\n",
            "625/625 [==============================] - 6s 9ms/step - loss: 0.3588 - acc: 0.8400 - val_loss: 0.4680 - val_acc: 0.7842\n",
            "Epoch 3/20\n",
            "625/625 [==============================] - 5s 9ms/step - loss: 0.2172 - acc: 0.9149 - val_loss: 0.5815 - val_acc: 0.7624\n",
            "Epoch 4/20\n",
            "625/625 [==============================] - 6s 9ms/step - loss: 0.0897 - acc: 0.9704 - val_loss: 0.8083 - val_acc: 0.7504\n",
            "Epoch 5/20\n",
            "625/625 [==============================] - 5s 9ms/step - loss: 0.0308 - acc: 0.9922 - val_loss: 1.0317 - val_acc: 0.7512\n",
            "Epoch 6/20\n",
            "625/625 [==============================] - 5s 8ms/step - loss: 0.0096 - acc: 0.9990 - val_loss: 1.2240 - val_acc: 0.7514\n",
            "Epoch 7/20\n",
            "625/625 [==============================] - 6s 9ms/step - loss: 0.0027 - acc: 0.9997 - val_loss: 1.3465 - val_acc: 0.7516\n",
            "Epoch 8/20\n",
            "625/625 [==============================] - 5s 9ms/step - loss: 0.0011 - acc: 1.0000 - val_loss: 1.4502 - val_acc: 0.7514\n",
            "Epoch 9/20\n",
            "625/625 [==============================] - 6s 9ms/step - loss: 6.0261e-04 - acc: 1.0000 - val_loss: 1.5223 - val_acc: 0.7504\n",
            "Epoch 10/20\n",
            "625/625 [==============================] - 6s 9ms/step - loss: 4.1962e-04 - acc: 1.0000 - val_loss: 1.6005 - val_acc: 0.7504\n",
            "Epoch 11/20\n",
            "625/625 [==============================] - 6s 9ms/step - loss: 2.9389e-04 - acc: 1.0000 - val_loss: 1.6654 - val_acc: 0.7518\n",
            "Epoch 12/20\n",
            "625/625 [==============================] - 6s 9ms/step - loss: 1.8655e-04 - acc: 1.0000 - val_loss: 1.7391 - val_acc: 0.7502\n",
            "Epoch 13/20\n",
            "625/625 [==============================] - 6s 9ms/step - loss: 1.2592e-04 - acc: 1.0000 - val_loss: 1.8098 - val_acc: 0.7496\n",
            "Epoch 14/20\n",
            "625/625 [==============================] - 5s 9ms/step - loss: 6.1197e-05 - acc: 1.0000 - val_loss: 1.8680 - val_acc: 0.7506\n",
            "Epoch 15/20\n",
            "625/625 [==============================] - 6s 9ms/step - loss: 4.1343e-05 - acc: 1.0000 - val_loss: 1.9279 - val_acc: 0.7508\n",
            "Epoch 16/20\n",
            "625/625 [==============================] - 6s 9ms/step - loss: 2.8733e-05 - acc: 1.0000 - val_loss: 1.9871 - val_acc: 0.7512\n",
            "Epoch 17/20\n",
            "625/625 [==============================] - 6s 9ms/step - loss: 2.0197e-05 - acc: 1.0000 - val_loss: 2.0441 - val_acc: 0.7508\n",
            "Epoch 18/20\n",
            "625/625 [==============================] - 6s 9ms/step - loss: 1.4188e-05 - acc: 1.0000 - val_loss: 2.1027 - val_acc: 0.7520\n",
            "Epoch 19/20\n",
            "625/625 [==============================] - 6s 9ms/step - loss: 1.0008e-05 - acc: 1.0000 - val_loss: 2.1619 - val_acc: 0.7518\n",
            "Epoch 20/20\n",
            "625/625 [==============================] - 6s 9ms/step - loss: 7.0556e-06 - acc: 1.0000 - val_loss: 2.2212 - val_acc: 0.7512\n"
          ]
        }
      ]
    },
    {
      "cell_type": "code",
      "source": [
        "from plot_result import plot_lcurve\n",
        "plot_lcurve([history], [''], ['dodgerblue'])"
      ],
      "metadata": {
        "colab": {
          "base_uri": "https://localhost:8080/",
          "height": 279
        },
        "id": "pQPmcDkNOWwc",
        "outputId": "7199cd74-e2c3-4f01-d69e-fc8f9d92f9a8"
      },
      "execution_count": 16,
      "outputs": [
        {
          "output_type": "display_data",
          "data": {
            "text/plain": [
              "<Figure size 864x288 with 2 Axes>"
            ],
            "image/png": "[encoded data removed]"
          },
          "metadata": {
            "needs_background": "light"
          }
        }
      ]
    },
    {
      "cell_type": "markdown",
      "source": [
        "## 사전 훈련된 Embedding 사용하기\n",
        "---\n",
        "\n"
      ],
      "metadata": {
        "id": "l3K7QrTBGI5f"
      }
    },
    {
      "cell_type": "markdown",
      "source": [
        "### **| GloVe 단어 임베딩 내려받기**\n",
        "\n",
        "```\n",
        "https://drive.google.com/u/0/uc?id=1ams5_zp8NrfmbxSzTDCglRpAvjFGi5JY&export=download\n",
        "```"
      ],
      "metadata": {
        "id": "Z6Ob1lPINhu4"
      }
    },
    {
      "cell_type": "code",
      "source": [
        "! gdown https://drive.google.com/u/0/uc?id=1ams5_zp8NrfmbxSzTDCglRpAvjFGi5JY&export=download"
      ],
      "metadata": {
        "id": "HCDADTlSqbYZ",
        "colab": {
          "base_uri": "https://localhost:8080/"
        },
        "outputId": "e0cf9bb7-9e23-4a71-ed16-9b10e9047d6c"
      },
      "execution_count": 17,
      "outputs": [
        {
          "output_type": "stream",
          "name": "stdout",
          "text": [
            "Downloading...\n",
            "From: https://drive.google.com/u/0/uc?id=1ams5_zp8NrfmbxSzTDCglRpAvjFGi5JY\n",
            "To: /content/glove.6B.zip\n",
            "100% 862M/862M [00:11<00:00, 76.4MB/s]\n"
          ]
        }
      ]
    },
    {
      "cell_type": "code",
      "source": [
        "! unzip /content/glove.6B.zip"
      ],
      "metadata": {
        "id": "37gKeekxmmHI",
        "colab": {
          "base_uri": "https://localhost:8080/"
        },
        "outputId": "2d061b23-afe1-4cf7-f104-28b649d44c96"
      },
      "execution_count": 18,
      "outputs": [
        {
          "output_type": "stream",
          "name": "stdout",
          "text": [
            "Archive:  /content/glove.6B.zip\n",
            "  inflating: glove.6B.50d.txt        \n",
            "  inflating: glove.6B.100d.txt       \n",
            "  inflating: glove.6B.200d.txt       \n",
            "  inflating: glove.6B.300d.txt       \n"
          ]
        }
      ]
    },
    {
      "cell_type": "code",
      "source": [
        "word2embedding = {}\n",
        "f = open('/content/glove.6B.100d.txt', encoding='utf8')\n",
        "for line in f:\n",
        "  word = line.split()[0] # 가장 첫번째가 단어,\n",
        "  vec = line.split()[1:] # 그 후는 단어에 대한 벡터\n",
        "  vec = np.asarray(vec, dtype='float32') # 문자-> 실수\n",
        "  #print(word, len(vec), vec)\n",
        "  #break\n",
        "  word2embedding[word] = vec\n",
        "f.close()"
      ],
      "metadata": {
        "id": "ClAAbJ56mItI"
      },
      "execution_count": 19,
      "outputs": []
    },
    {
      "cell_type": "code",
      "source": [
        "word2embedding = {}\n",
        "f = open('/content/glove.6B.100d.txt', encoding='utf8')\n",
        "for line in f:\n",
        "  word = line.split()[0] # 가장 첫번째가 단어,\n",
        "  vec = line.split()[1:] # 그 후는 단어에 대한 벡터\n",
        "  vec = np.asarray(vec, dtype='float32') # 문자-> 실수\n",
        "  print(word)\n",
        "  print(len(vec))\n",
        "  print(vec)\n",
        "  break\n",
        "  word2embedding[word] = vec\n",
        "f.close()"
      ],
      "metadata": {
        "colab": {
          "base_uri": "https://localhost:8080/"
        },
        "id": "UJfZlIEMrVrJ",
        "outputId": "55fa97dd-d32b-4247-be65-887c63beee7b"
      },
      "execution_count": 33,
      "outputs": [
        {
          "output_type": "stream",
          "name": "stdout",
          "text": [
            "the\n",
            "100\n",
            "[-0.038194 -0.24487   0.72812  -0.39961   0.083172  0.043953 -0.39141\n",
            "  0.3344   -0.57545   0.087459  0.28787  -0.06731   0.30906  -0.26384\n",
            " -0.13231  -0.20757   0.33395  -0.33848  -0.31743  -0.48336   0.1464\n",
            " -0.37304   0.34577   0.052041  0.44946  -0.46971   0.02628  -0.54155\n",
            " -0.15518  -0.14107  -0.039722  0.28277   0.14393   0.23464  -0.31021\n",
            "  0.086173  0.20397   0.52624   0.17164  -0.082378 -0.71787  -0.41531\n",
            "  0.20335  -0.12763   0.41367   0.55187   0.57908  -0.33477  -0.36559\n",
            " -0.54857  -0.062892  0.26584   0.30205   0.99775  -0.80481  -3.0243\n",
            "  0.01254  -0.36942   2.2167    0.72201  -0.24978   0.92136   0.034514\n",
            "  0.46745   1.1079   -0.19358  -0.074575  0.23353  -0.052062 -0.22044\n",
            "  0.057162 -0.15806  -0.30798  -0.41625   0.37972   0.15006  -0.53212\n",
            " -0.2055   -1.2526    0.071624  0.70565   0.49744  -0.42063   0.26148\n",
            " -1.538    -0.30223  -0.073438 -0.28312   0.37104  -0.25217   0.016215\n",
            " -0.017099 -0.38984   0.87424  -0.72569  -0.51058  -0.52028  -0.1459\n",
            "  0.8278    0.27062 ]\n"
          ]
        }
      ]
    },
    {
      "cell_type": "code",
      "source": [
        "word2embedding['the']"
      ],
      "metadata": {
        "colab": {
          "base_uri": "https://localhost:8080/"
        },
        "id": "htQwchYwQfdS",
        "outputId": "722ccca4-eb88-4b66-bee6-ef444fd3aca0"
      },
      "execution_count": 20,
      "outputs": [
        {
          "output_type": "execute_result",
          "data": {
            "text/plain": [
              "array([-0.038194, -0.24487 ,  0.72812 , -0.39961 ,  0.083172,  0.043953,\n",
              "       -0.39141 ,  0.3344  , -0.57545 ,  0.087459,  0.28787 , -0.06731 ,\n",
              "        0.30906 , -0.26384 , -0.13231 , -0.20757 ,  0.33395 , -0.33848 ,\n",
              "       -0.31743 , -0.48336 ,  0.1464  , -0.37304 ,  0.34577 ,  0.052041,\n",
              "        0.44946 , -0.46971 ,  0.02628 , -0.54155 , -0.15518 , -0.14107 ,\n",
              "       -0.039722,  0.28277 ,  0.14393 ,  0.23464 , -0.31021 ,  0.086173,\n",
              "        0.20397 ,  0.52624 ,  0.17164 , -0.082378, -0.71787 , -0.41531 ,\n",
              "        0.20335 , -0.12763 ,  0.41367 ,  0.55187 ,  0.57908 , -0.33477 ,\n",
              "       -0.36559 , -0.54857 , -0.062892,  0.26584 ,  0.30205 ,  0.99775 ,\n",
              "       -0.80481 , -3.0243  ,  0.01254 , -0.36942 ,  2.2167  ,  0.72201 ,\n",
              "       -0.24978 ,  0.92136 ,  0.034514,  0.46745 ,  1.1079  , -0.19358 ,\n",
              "       -0.074575,  0.23353 , -0.052062, -0.22044 ,  0.057162, -0.15806 ,\n",
              "       -0.30798 , -0.41625 ,  0.37972 ,  0.15006 , -0.53212 , -0.2055  ,\n",
              "       -1.2526  ,  0.071624,  0.70565 ,  0.49744 , -0.42063 ,  0.26148 ,\n",
              "       -1.538   , -0.30223 , -0.073438, -0.28312 ,  0.37104 , -0.25217 ,\n",
              "        0.016215, -0.017099, -0.38984 ,  0.87424 , -0.72569 , -0.51058 ,\n",
              "       -0.52028 , -0.1459  ,  0.8278  ,  0.27062 ], dtype=float32)"
            ]
          },
          "metadata": {},
          "execution_count": 20
        }
      ]
    },
    {
      "cell_type": "code",
      "source": [
        "len(word2embedding) # 40만개의 단어"
      ],
      "metadata": {
        "colab": {
          "base_uri": "https://localhost:8080/"
        },
        "id": "z8w9cLWjRfG8",
        "outputId": "1300ad67-f468-4b3c-ef2c-5e3da05cc3c8"
      },
      "execution_count": 21,
      "outputs": [
        {
          "output_type": "execute_result",
          "data": {
            "text/plain": [
              "400000"
            ]
          },
          "metadata": {},
          "execution_count": 21
        }
      ]
    },
    {
      "cell_type": "markdown",
      "source": [
        "### **| 임베딩 매트릭스 제작**\n"
      ],
      "metadata": {
        "id": "-0voM702NyN_"
      }
    },
    {
      "cell_type": "code",
      "source": [
        "print('imdb 딕셔너리의 모든 단어 수 :', len(word2index))\n",
        "print('우리 모델에서 사용할 모든 단어 수 :', max_features)\n",
        "print('glove 임베딩 에 있는 모든 단어 수 : ', len(word2embedding))"
      ],
      "metadata": {
        "id": "Qd2meCF_2brf",
        "colab": {
          "base_uri": "https://localhost:8080/"
        },
        "outputId": "0db1a87d-85c1-428b-b7c1-31dbd4d8f501"
      },
      "execution_count": 22,
      "outputs": [
        {
          "output_type": "stream",
          "name": "stdout",
          "text": [
            "imdb 딕셔너리의 모든 단어 수 : 88584\n",
            "우리 모델에서 사용할 모든 단어 수 : 500\n",
            "glove 임베딩 에 있는 모든 단어 수 :  400000\n"
          ]
        }
      ]
    },
    {
      "cell_type": "code",
      "source": [
        "embed_mx = np.zeros((max_features, 100))\n",
        "# 매트릭스의 크기 : (500, 100)\n",
        "embed_mx.shape"
      ],
      "metadata": {
        "colab": {
          "base_uri": "https://localhost:8080/"
        },
        "id": "XUHmo105TRFF",
        "outputId": "8bf2d5a7-f07d-46b9-ed3f-2a45ac4f44eb"
      },
      "execution_count": 23,
      "outputs": [
        {
          "output_type": "execute_result",
          "data": {
            "text/plain": [
              "(500, 100)"
            ]
          },
          "metadata": {},
          "execution_count": 23
        }
      ]
    },
    {
      "cell_type": "code",
      "source": [
        "for idx in range(4, 504):\n",
        "  word = index2word[idx]\n",
        "  embed = word2embedding.get(word) # 딕셔너리.get 함수는 없으면 None값 반환\n",
        "  #print(word, embed)\n",
        "  if embed is not None:\n",
        "    embed_mx[idx-4] = embed"
      ],
      "metadata": {
        "id": "11HaKUORnLau"
      },
      "execution_count": 24,
      "outputs": []
    },
    {
      "cell_type": "markdown",
      "source": [
        "### **| 임베딩 매트릭스 적용하기**"
      ],
      "metadata": {
        "id": "0NdnxekRN5x3"
      }
    },
    {
      "cell_type": "code",
      "source": [
        "model = create_model(max_len, max_features, 100)\n",
        "model.summary()"
      ],
      "metadata": {
        "id": "GgAXH_T7OBqQ",
        "colab": {
          "base_uri": "https://localhost:8080/"
        },
        "outputId": "fce00952-aee0-4c40-c124-d3632e341047"
      },
      "execution_count": 25,
      "outputs": [
        {
          "output_type": "stream",
          "name": "stdout",
          "text": [
            "Model: \"model_1\"\n",
            "_________________________________________________________________\n",
            " Layer (type)                Output Shape              Param #   \n",
            "=================================================================\n",
            " input_2 (InputLayer)        [(None, 100)]             0         \n",
            "                                                                 \n",
            " embedding_1 (Embedding)     (None, 100, 100)          50000     \n",
            "                                                                 \n",
            " flatten_1 (Flatten)         (None, 10000)             0         \n",
            "                                                                 \n",
            " dense_2 (Dense)             (None, 32)                320032    \n",
            "                                                                 \n",
            " dense_3 (Dense)             (None, 1)                 33        \n",
            "                                                                 \n",
            "=================================================================\n",
            "Total params: 370,065\n",
            "Trainable params: 370,065\n",
            "Non-trainable params: 0\n",
            "_________________________________________________________________\n"
          ]
        }
      ]
    },
    {
      "cell_type": "code",
      "source": [
        "model.layers[1].set_weights([embed_mx]) # 가중치를 Glove 값으로 초기화"
      ],
      "metadata": {
        "id": "2XBq_2UYzhgO"
      },
      "execution_count": 26,
      "outputs": []
    },
    {
      "cell_type": "code",
      "source": [
        "model.compile(optimizer='rmsprop',\n",
        "              loss = 'binary_crossentropy',\n",
        "              metrics=['acc'])\n",
        "history = model.fit(x_train, y_train,\n",
        "                    epochs=20,\n",
        "                    batch_size=32,\n",
        "                    validation_split=0.2)\n",
        "plot_lcurve([history], [''], ['dodgerblue'])"
      ],
      "metadata": {
        "colab": {
          "base_uri": "https://localhost:8080/",
          "height": 1000
        },
        "id": "xtICXYUxUgxM",
        "outputId": "c230d3c3-c985-45eb-81db-64802b08c446"
      },
      "execution_count": 27,
      "outputs": [
        {
          "output_type": "stream",
          "name": "stdout",
          "text": [
            "Epoch 1/20\n",
            "625/625 [==============================] - 7s 10ms/step - loss: 0.7157 - acc: 0.4985 - val_loss: 0.6933 - val_acc: 0.4938\n",
            "Epoch 2/20\n",
            "625/625 [==============================] - 6s 10ms/step - loss: 0.6941 - acc: 0.5009 - val_loss: 0.6932 - val_acc: 0.4938\n",
            "Epoch 3/20\n",
            "625/625 [==============================] - 6s 10ms/step - loss: 0.6949 - acc: 0.5039 - val_loss: 0.6951 - val_acc: 0.5178\n",
            "Epoch 4/20\n",
            "625/625 [==============================] - 6s 10ms/step - loss: 0.6961 - acc: 0.5033 - val_loss: 0.6931 - val_acc: 0.4964\n",
            "Epoch 5/20\n",
            "625/625 [==============================] - 6s 10ms/step - loss: 0.6941 - acc: 0.5143 - val_loss: 0.6843 - val_acc: 0.5686\n",
            "Epoch 6/20\n",
            "625/625 [==============================] - 6s 10ms/step - loss: 0.6338 - acc: 0.6384 - val_loss: 0.5799 - val_acc: 0.6978\n",
            "Epoch 7/20\n",
            "625/625 [==============================] - 6s 10ms/step - loss: 0.4961 - acc: 0.7581 - val_loss: 0.5467 - val_acc: 0.7304\n",
            "Epoch 8/20\n",
            "625/625 [==============================] - 6s 10ms/step - loss: 0.4253 - acc: 0.8037 - val_loss: 0.5061 - val_acc: 0.7538\n",
            "Epoch 9/20\n",
            "625/625 [==============================] - 6s 10ms/step - loss: 0.3821 - acc: 0.8226 - val_loss: 0.5035 - val_acc: 0.7738\n",
            "Epoch 10/20\n",
            "625/625 [==============================] - 6s 9ms/step - loss: 0.3405 - acc: 0.8485 - val_loss: 0.5242 - val_acc: 0.7682\n",
            "Epoch 11/20\n",
            "625/625 [==============================] - 6s 10ms/step - loss: 0.3003 - acc: 0.8712 - val_loss: 0.5877 - val_acc: 0.7554\n",
            "Epoch 12/20\n",
            "625/625 [==============================] - 6s 10ms/step - loss: 0.2532 - acc: 0.8931 - val_loss: 0.7919 - val_acc: 0.7240\n",
            "Epoch 13/20\n",
            "625/625 [==============================] - 6s 10ms/step - loss: 0.2078 - acc: 0.9147 - val_loss: 0.6568 - val_acc: 0.7546\n",
            "Epoch 14/20\n",
            "625/625 [==============================] - 6s 10ms/step - loss: 0.1625 - acc: 0.9381 - val_loss: 0.7769 - val_acc: 0.7512\n",
            "Epoch 15/20\n",
            "625/625 [==============================] - 6s 10ms/step - loss: 0.1191 - acc: 0.9556 - val_loss: 1.0798 - val_acc: 0.7340\n",
            "Epoch 16/20\n",
            "625/625 [==============================] - 6s 10ms/step - loss: 0.0864 - acc: 0.9696 - val_loss: 1.0140 - val_acc: 0.7488\n",
            "Epoch 17/20\n",
            "625/625 [==============================] - 6s 10ms/step - loss: 0.0603 - acc: 0.9800 - val_loss: 1.1883 - val_acc: 0.7424\n",
            "Epoch 18/20\n",
            "625/625 [==============================] - 6s 10ms/step - loss: 0.0432 - acc: 0.9858 - val_loss: 1.2920 - val_acc: 0.7390\n",
            "Epoch 19/20\n",
            "625/625 [==============================] - 7s 11ms/step - loss: 0.0281 - acc: 0.9909 - val_loss: 1.3709 - val_acc: 0.7356\n",
            "Epoch 20/20\n",
            "625/625 [==============================] - 6s 10ms/step - loss: 0.0181 - acc: 0.9948 - val_loss: 1.5686 - val_acc: 0.7372\n"
          ]
        },
        {
          "output_type": "display_data",
          "data": {
            "text/plain": [
              "<Figure size 864x288 with 2 Axes>"
            ],
            "image/png": "[encoded data removed]"
          },
          "metadata": {
            "needs_background": "light"
          }
        }
      ]
    },
    {
      "cell_type": "markdown",
      "source": [
        "## 추가 학습 : 규제 적용하기\n",
        "---"
      ],
      "metadata": {
        "id": "UcW36RYhGOTv"
      }
    },
    {
      "cell_type": "code",
      "source": [
        "def create_regular_model(max_len, max_features, emb_dims):\n",
        "  x = layers.Input(shape=max_len)\n",
        "  y = layers.Embedding(max_features, emb_dims)(x)\n",
        "  y = layers.Flatten()(y)\n",
        "  y = layers.Dense(32, activation='relu', kernel_regularizer=tf.keras.regularizers.l2(0.1))(y) # 규제 적용\n",
        "  y = layers.Dense(1, activation='sigmoid')(y) # 이진분류\n",
        "  return models.Model(x,y)\n",
        "\n",
        "model = create_regular_model(max_len, max_features, 100)\n",
        "model.summary()\n",
        "model.layers[1].set_weights([embed_mx]) # 가중치를 Glove 값으로 초기화\n",
        "\n",
        "model.compile(optimizer='rmsprop',\n",
        "              loss = 'binary_crossentropy',\n",
        "              metrics=['acc'])\n",
        "history = model.fit(x_train, y_train,\n",
        "                    epochs=20,\n",
        "                    batch_size=32,\n",
        "                    validation_split=0.2)\n",
        "plot_lcurve([history], [''], ['dodgerblue'])"
      ],
      "metadata": {
        "id": "JQJWF1-z8MvW",
        "colab": {
          "base_uri": "https://localhost:8080/",
          "height": 1000
        },
        "outputId": "430c8323-c81e-4b0f-f162-57fa323ed5e0"
      },
      "execution_count": 28,
      "outputs": [
        {
          "output_type": "stream",
          "name": "stdout",
          "text": [
            "Model: \"model_2\"\n",
            "_________________________________________________________________\n",
            " Layer (type)                Output Shape              Param #   \n",
            "=================================================================\n",
            " input_3 (InputLayer)        [(None, 100)]             0         \n",
            "                                                                 \n",
            " embedding_2 (Embedding)     (None, 100, 100)          50000     \n",
            "                                                                 \n",
            " flatten_2 (Flatten)         (None, 10000)             0         \n",
            "                                                                 \n",
            " dense_4 (Dense)             (None, 32)                320032    \n",
            "                                                                 \n",
            " dense_5 (Dense)             (None, 1)                 33        \n",
            "                                                                 \n",
            "=================================================================\n",
            "Total params: 370,065\n",
            "Trainable params: 370,065\n",
            "Non-trainable params: 0\n",
            "_________________________________________________________________\n",
            "Epoch 1/20\n",
            "625/625 [==============================] - 8s 12ms/step - loss: 0.9083 - acc: 0.5041 - val_loss: 0.7461 - val_acc: 0.4938\n",
            "Epoch 2/20\n",
            "625/625 [==============================] - 7s 11ms/step - loss: 0.7939 - acc: 0.5249 - val_loss: 0.8902 - val_acc: 0.5086\n",
            "Epoch 3/20\n",
            "625/625 [==============================] - 7s 11ms/step - loss: 0.8045 - acc: 0.6060 - val_loss: 0.8034 - val_acc: 0.5850\n",
            "Epoch 4/20\n",
            "625/625 [==============================] - 7s 11ms/step - loss: 0.7324 - acc: 0.6852 - val_loss: 0.7822 - val_acc: 0.6468\n",
            "Epoch 5/20\n",
            "625/625 [==============================] - 7s 11ms/step - loss: 0.6881 - acc: 0.7261 - val_loss: 0.6922 - val_acc: 0.7134\n",
            "Epoch 6/20\n",
            "625/625 [==============================] - 7s 11ms/step - loss: 0.6438 - acc: 0.7487 - val_loss: 0.7006 - val_acc: 0.7144\n",
            "Epoch 7/20\n",
            "625/625 [==============================] - 7s 12ms/step - loss: 0.6280 - acc: 0.7592 - val_loss: 0.6342 - val_acc: 0.7606\n",
            "Epoch 8/20\n",
            "625/625 [==============================] - 7s 11ms/step - loss: 0.5954 - acc: 0.7722 - val_loss: 0.6054 - val_acc: 0.7560\n",
            "Epoch 9/20\n",
            "625/625 [==============================] - 7s 11ms/step - loss: 0.5660 - acc: 0.7825 - val_loss: 0.5726 - val_acc: 0.7724\n",
            "Epoch 10/20\n",
            "625/625 [==============================] - 7s 11ms/step - loss: 0.5519 - acc: 0.7869 - val_loss: 0.6746 - val_acc: 0.7126\n",
            "Epoch 11/20\n",
            "625/625 [==============================] - 7s 11ms/step - loss: 0.5486 - acc: 0.7907 - val_loss: 0.5725 - val_acc: 0.7782\n",
            "Epoch 12/20\n",
            "625/625 [==============================] - 7s 11ms/step - loss: 0.5411 - acc: 0.7954 - val_loss: 0.5710 - val_acc: 0.7774\n",
            "Epoch 13/20\n",
            "625/625 [==============================] - 7s 11ms/step - loss: 0.5388 - acc: 0.7970 - val_loss: 0.5817 - val_acc: 0.7634\n",
            "Epoch 14/20\n",
            "625/625 [==============================] - 7s 11ms/step - loss: 0.5367 - acc: 0.7940 - val_loss: 0.6089 - val_acc: 0.7506\n",
            "Epoch 15/20\n",
            "625/625 [==============================] - 7s 11ms/step - loss: 0.5304 - acc: 0.8044 - val_loss: 0.5777 - val_acc: 0.7778\n",
            "Epoch 16/20\n",
            "625/625 [==============================] - 8s 13ms/step - loss: 0.5307 - acc: 0.8013 - val_loss: 0.5815 - val_acc: 0.7716\n",
            "Epoch 17/20\n",
            "625/625 [==============================] - 7s 11ms/step - loss: 0.5270 - acc: 0.8059 - val_loss: 0.5634 - val_acc: 0.7808\n",
            "Epoch 18/20\n",
            "625/625 [==============================] - 7s 11ms/step - loss: 0.5229 - acc: 0.8066 - val_loss: 0.5754 - val_acc: 0.7772\n",
            "Epoch 19/20\n",
            "625/625 [==============================] - 8s 13ms/step - loss: 0.5210 - acc: 0.8151 - val_loss: 0.5731 - val_acc: 0.7806\n",
            "Epoch 20/20\n",
            "625/625 [==============================] - 8s 13ms/step - loss: 0.5184 - acc: 0.8139 - val_loss: 0.5832 - val_acc: 0.7714\n"
          ]
        },
        {
          "output_type": "display_data",
          "data": {
            "text/plain": [
              "<Figure size 864x288 with 2 Axes>"
            ],
            "image/png": "[encoded data removed]"
          },
          "metadata": {
            "needs_background": "light"
          }
        }
      ]
    },
    {
      "cell_type": "code",
      "source": [
        ""
      ],
      "metadata": {
        "id": "VQPAVyEU668I"
      },
      "execution_count": 28,
      "outputs": []
    }
  ]
}
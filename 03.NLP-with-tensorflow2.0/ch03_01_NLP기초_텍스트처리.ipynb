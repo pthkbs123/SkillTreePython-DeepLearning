{
  "nbformat": 4,
  "nbformat_minor": 0,
  "metadata": {
    "colab": {
      "name": "ch03_01_NLP기초_텍스트처리.ipynb",
      "provenance": [],
      "collapsed_sections": [],
      "include_colab_link": true
    },
    "kernelspec": {
      "name": "python3",
      "display_name": "Python 3"
    },
    "language_info": {
      "name": "python"
    }
  },
  "cells": [
    {
      "cell_type": "markdown",
      "metadata": {
        "id": "view-in-github",
        "colab_type": "text"
      },
      "source": [
        "<a href=\"https://colab.research.google.com/github/pthkbs123/SkillTreePython-DeepLearning/blob/main/03.NLP-with-tensorflow2.0/ch03_01_NLP%EA%B8%B0%EC%B4%88_%ED%85%8D%EC%8A%A4%ED%8A%B8%EC%B2%98%EB%A6%AC.ipynb\" target=\"_parent\"><img src=\"https://colab.research.google.com/assets/colab-badge.svg\" alt=\"Open In Colab\"/></a>"
      ]
    },
    {
      "cell_type": "markdown",
      "source": [
        "# ch03.01 NLP기초 - 텍스트 처리\n",
        "---\n",
        "\n",
        "* 날짜: 2022-07-13\n",
        "* 이름: 박태현\n",
        "\n",
        "## 학습내용\n",
        "    - 텍스트 전처리 과정을 이해한다.\n",
        "      - 텍스트 토큰화\n",
        "      - 텍스트 인덱싱\n",
        "      - 원-핫 인코딩\n",
        "      - 텍스트 임베딩\n",
        "    - 간단한 문장을 분류하는 딥러닝 모델을 구현한다.\n"
      ],
      "metadata": {
        "id": "sWs2kEC1_b-P"
      }
    },
    {
      "cell_type": "markdown",
      "source": [
        "```\n",
        "! git clone https://github.com/yebiny/SkillTreePython-DeepLearning\n",
        "```"
      ],
      "metadata": {
        "id": "zml97VsFlWC1"
      }
    },
    {
      "cell_type": "code",
      "execution_count": 1,
      "metadata": {
        "id": "lqjonRF6KbGY",
        "colab": {
          "base_uri": "https://localhost:8080/"
        },
        "outputId": "c4bafc87-a8b2-4fb6-fd14-97be86978515"
      },
      "outputs": [
        {
          "output_type": "stream",
          "name": "stdout",
          "text": [
            "Cloning into 'SkillTreePython-DeepLearning'...\n",
            "remote: Enumerating objects: 665, done.\u001b[K\n",
            "remote: Counting objects: 100% (238/238), done.\u001b[K\n",
            "remote: Compressing objects: 100% (113/113), done.\u001b[K\n",
            "remote: Total 665 (delta 145), reused 188 (delta 124), pack-reused 427\u001b[K\n",
            "Receiving objects: 100% (665/665), 37.09 MiB | 23.21 MiB/s, done.\n",
            "Resolving deltas: 100% (338/338), done.\n"
          ]
        }
      ],
      "source": [
        "! git clone https://github.com/yebiny/SkillTreePython-DeepLearning"
      ]
    },
    {
      "cell_type": "markdown",
      "source": [
        "```\n",
        "import sys\n",
        "sys.path.append('/content/SkillTreePython-DeepLearning/02.케라스_창시자에게_배우는_딥러닝/scripts')\n",
        "from import_lib import *\n",
        "```"
      ],
      "metadata": {
        "id": "iDliBVhLlYiY"
      }
    },
    {
      "cell_type": "code",
      "source": [
        "import sys\n",
        "sys.path.append('/content/SkillTreePython-DeepLearning/02.케라스_창시자에게_배우는_딥러닝/scripts')\n",
        "from import_lib import *"
      ],
      "metadata": {
        "id": "InMFlAq4Xwge"
      },
      "execution_count": 2,
      "outputs": []
    },
    {
      "cell_type": "markdown",
      "source": [
        "## 텍스트 데이터 처리\n",
        "---"
      ],
      "metadata": {
        "id": "RgUP6THDdK7O"
      }
    },
    {
      "cell_type": "markdown",
      "source": [
        "### **| 전처리 구현하기**"
      ],
      "metadata": {
        "id": "5XY0FswrfDrS"
      }
    },
    {
      "cell_type": "markdown",
      "source": [
        "#### **딕셔너리 제작**"
      ],
      "metadata": {
        "id": "ZICnjn8bfHx-"
      }
    },
    {
      "cell_type": "code",
      "source": [
        "# 1. 토큰화\n",
        "# 2. 단어 인덱싱\n",
        "# 모든 토큰에 대해 숫자로 매핑\n",
        "# 인덱싱을 위핸선 딕셔너리 필요"
      ],
      "metadata": {
        "id": "aYpYwBlhf3En"
      },
      "execution_count": null,
      "outputs": []
    },
    {
      "cell_type": "code",
      "source": [
        "samples = ['very nice movie',\n",
        "           'this movie is bad',\n",
        "           'it is so bad',\n",
        "           'wow it is a good movie']\n",
        "word_dict = {}\n",
        "for sample in samples:\n",
        "  print(sample)\n",
        "  for token in sample.split(' '):\n",
        "    # print(token)\n",
        "    if token not in word_dict:\n",
        "      word_dict[token] = len(word_dict) + 1\n",
        "print(word_dict)\n",
        "print('모든 단어 개수 :', len(word_dict))"
      ],
      "metadata": {
        "colab": {
          "base_uri": "https://localhost:8080/"
        },
        "id": "BMev90QZ67Dp",
        "outputId": "00a682ab-30ee-4af9-c2d9-b3eca71fbcb0"
      },
      "execution_count": 9,
      "outputs": [
        {
          "output_type": "stream",
          "name": "stdout",
          "text": [
            "very nice movie\n",
            "this movie is bad\n",
            "it is so bad\n",
            "wow it is a good movie\n",
            "{'very': 1, 'nice': 2, 'movie': 3, 'this': 4, 'is': 5, 'bad': 6, 'it': 7, 'so': 8, 'wow': 9, 'a': 10, 'good': 11}\n",
            "모든 단어 개수 : 11\n"
          ]
        }
      ]
    },
    {
      "cell_type": "markdown",
      "source": [
        "클래스가 3개 일 때,\n",
        "\n",
        "1 : 1 0 0\n",
        "\n",
        "2 : 0 1 0\n",
        "\n",
        "3 : 0 0 1\n",
        "\n",
        "클래스 개수가 단어 개수만큼 ( 5000개 단어 ~ 10000개 단어)\n",
        "\n",
        "1 : 1 0 0 ... 0\n",
        "\n",
        "2 : ...\n",
        "\n",
        "5000 : 0 ... 1"
      ],
      "metadata": {
        "id": "QlBqy-0H_fLp"
      }
    },
    {
      "cell_type": "markdown",
      "source": [
        "#### **단어 인덱싱**"
      ],
      "metadata": {
        "id": "KEsBK72AfMB0"
      }
    },
    {
      "cell_type": "code",
      "source": [
        "def word_indexing(sample, word_dict):\n",
        "  indexed = []\n",
        "  for token in sample.split(' '):\n",
        "    num = word_dict[token]\n",
        "    indexed.append(num)\n",
        "    \n",
        "  return np.array(indexed)"
      ],
      "metadata": {
        "id": "OevIeAf6g0QN"
      },
      "execution_count": 10,
      "outputs": []
    },
    {
      "cell_type": "code",
      "source": [
        "word_indexing(samples[2], word_dict)"
      ],
      "metadata": {
        "id": "dtmzeJfjgo46",
        "colab": {
          "base_uri": "https://localhost:8080/"
        },
        "outputId": "2f613b03-dcf3-43fc-9e9d-d3c04f20d0bc"
      },
      "execution_count": 12,
      "outputs": [
        {
          "output_type": "execute_result",
          "data": {
            "text/plain": [
              "array([7, 5, 8, 6])"
            ]
          },
          "metadata": {},
          "execution_count": 12
        }
      ]
    },
    {
      "cell_type": "code",
      "source": [
        "plt.figure(figsize = (len(samples) * 3, 6))\n",
        "for i, sample in enumerate(samples):\n",
        "  indexed = word_indexing(sample, word_dict)\n",
        "  plt.subplot(1, len(samples), i+1)\n",
        "  sns.heatmap(indexed.reshape(len(indexed), 1), 1, cmap = 'gray', \n",
        "              annot = True, cbar = False, \n",
        "              yticklabels = sample.split(' '),\n",
        "              xticklabels = [])\n",
        "plt.show"
      ],
      "metadata": {
        "colab": {
          "base_uri": "https://localhost:8080/",
          "height": 432
        },
        "id": "xe6oLrN0-HEg",
        "outputId": "450727ba-0480-485e-e521-f8b540dccde8"
      },
      "execution_count": 21,
      "outputs": [
        {
          "output_type": "stream",
          "name": "stderr",
          "text": [
            "/usr/local/lib/python3.7/dist-packages/seaborn/_decorators.py:43: FutureWarning: Pass the following variable as a keyword arg: vmin. From version 0.12, the only valid positional argument will be `data`, and passing other arguments without an explicit keyword will result in an error or misinterpretation.\n",
            "  FutureWarning\n"
          ]
        },
        {
          "output_type": "execute_result",
          "data": {
            "text/plain": [
              "<function matplotlib.pyplot.show>"
            ]
          },
          "metadata": {},
          "execution_count": 21
        },
        {
          "output_type": "display_data",
          "data": {
            "text/plain": [
              "<Figure size 864x432 with 4 Axes>"
            ],
            "image/png": "[encoded data removed]"
          },
          "metadata": {
            "needs_background": "light"
          }
        }
      ]
    },
    {
      "cell_type": "markdown",
      "source": [
        "#### **원-핫 인코딩**"
      ],
      "metadata": {
        "id": "Y942NAXGftDf"
      }
    },
    {
      "cell_type": "code",
      "source": [
        "# sample_mxlen : 한 문장안에 몇 개의 토큰까지 허락할지\n",
        "# total_word : 딕셔너리 안에 있는 모든 단어의 수\n",
        "def word_onehot(sample, sample_mxlen, total_words):\n",
        "  onehot = np.zeros((sample_mxlen, total_words + 1)) # 단어 인덱스 1~11, 파이썬 인덱스 0~11 총 12개\n",
        "  for i, token in enumerate(sample.split(' ')):\n",
        "    if i == sample_mxlen : break # 샘플이 너무 길면 자르기\n",
        "    index = word_dict[token] # 토큰이 몇 번째 해당하는지 반환\n",
        "    onehot[i, index] = 1 # i 번째 토큰, index 해당하는 자리에 1 할당\n",
        "  return onehot\n",
        "\n",
        "idx = 3\n",
        "print(samples[idx])\n",
        "print(word_indexing(samples[idx], word_dict))\n",
        "print(word_onehot(samples[idx], 5, len(word_dict)))"
      ],
      "metadata": {
        "id": "Xt4aVBN7g89I",
        "colab": {
          "base_uri": "https://localhost:8080/"
        },
        "outputId": "15da9d99-ebb4-4f2d-d47e-7d1a88af26c5"
      },
      "execution_count": 34,
      "outputs": [
        {
          "output_type": "stream",
          "name": "stdout",
          "text": [
            "wow it is a good movie\n",
            "[ 9  7  5 10 11  3]\n",
            "[[0. 0. 0. 0. 0. 0. 0. 0. 0. 1. 0. 0.]\n",
            " [0. 0. 0. 0. 0. 0. 0. 1. 0. 0. 0. 0.]\n",
            " [0. 0. 0. 0. 0. 1. 0. 0. 0. 0. 0. 0.]\n",
            " [0. 0. 0. 0. 0. 0. 0. 0. 0. 0. 1. 0.]\n",
            " [0. 0. 0. 0. 0. 0. 0. 0. 0. 0. 0. 1.]]\n"
          ]
        }
      ]
    },
    {
      "cell_type": "code",
      "source": [
        "plt.figure(figsize = (len(samples) * 3, 6))\n",
        "for i, sample in enumerate(samples):\n",
        "  onehot = word_onehot(samples[i], 6, len(word_dict))\n",
        "  plt.subplot(1, len(samples), i+1)\n",
        "  sns.heatmap(onehot, cmap = 'gray', \n",
        "              annot = True, cbar = False, \n",
        "              yticklabels = sample.split(' '),\n",
        "              xticklabels = [])\n",
        "plt.show"
      ],
      "metadata": {
        "id": "K-JUpREAhHDm",
        "colab": {
          "base_uri": "https://localhost:8080/",
          "height": 375
        },
        "outputId": "5bee96ff-881b-4166-d3e0-324d079901d6"
      },
      "execution_count": 37,
      "outputs": [
        {
          "output_type": "execute_result",
          "data": {
            "text/plain": [
              "<function matplotlib.pyplot.show>"
            ]
          },
          "metadata": {},
          "execution_count": 37
        },
        {
          "output_type": "display_data",
          "data": {
            "text/plain": [
              "<Figure size 864x432 with 4 Axes>"
            ],
            "image/png": "[encoded data removed]"
          },
          "metadata": {
            "needs_background": "light"
          }
        }
      ]
    },
    {
      "cell_type": "markdown",
      "source": [
        "### | **텐서플로우 케라스 Tokenizer**\n"
      ],
      "metadata": {
        "id": "LsZv-_kzeu_h"
      }
    },
    {
      "cell_type": "code",
      "source": [
        "from tensorflow.keras.preprocessing.text import Tokenizer\n",
        "tk = Tokenizer()\n",
        "tk.fit_on_texts(samples)"
      ],
      "metadata": {
        "id": "bK7TFAxghuyH"
      },
      "execution_count": 38,
      "outputs": []
    },
    {
      "cell_type": "code",
      "source": [
        "print('생성된 딕셔너리 :', tk.word_index)\n",
        "print('단어 카운트 :', tk.word_counts) \n",
        "print('단어 하나가 몇 개의 문장에 포함되어 있는가 :', tk.word_docs)\n",
        "print('문장(샘플) 카운트 :', tk.document_count)"
      ],
      "metadata": {
        "id": "NOMD-mKyibr8",
        "colab": {
          "base_uri": "https://localhost:8080/"
        },
        "outputId": "400821cb-76a8-460a-d0e5-05c8631a8499"
      },
      "execution_count": 41,
      "outputs": [
        {
          "output_type": "stream",
          "name": "stdout",
          "text": [
            "생성된 딕셔너리 : {'movie': 1, 'is': 2, 'bad': 3, 'it': 4, 'very': 5, 'nice': 6, 'this': 7, 'so': 8, 'wow': 9, 'a': 10, 'good': 11}\n",
            "단어 카운트 : OrderedDict([('very', 1), ('nice', 1), ('movie', 3), ('this', 1), ('is', 3), ('bad', 2), ('it', 2), ('so', 1), ('wow', 1), ('a', 1), ('good', 1)])\n",
            "단어 하나가 몇 개의 문장에 포함되어 있는가 : defaultdict(<class 'int'>, {'very': 1, 'nice': 1, 'movie': 3, 'bad': 2, 'is': 3, 'this': 1, 'so': 1, 'it': 2, 'wow': 1, 'a': 1, 'good': 1})\n",
            "문장(샘플) 카운트 : 4\n"
          ]
        }
      ]
    },
    {
      "cell_type": "markdown",
      "source": [
        "#### **단어 인덱싱**"
      ],
      "metadata": {
        "id": "K7A_XvdfhdT4"
      }
    },
    {
      "cell_type": "code",
      "source": [
        "seqs = tk.texts_to_sequences(samples)\n",
        "print('단어 인덱싱 결과 :', seqs)"
      ],
      "metadata": {
        "id": "PPZG6lkfid_-",
        "colab": {
          "base_uri": "https://localhost:8080/"
        },
        "outputId": "81402d18-ac1a-4e00-dd43-238adbf175f0"
      },
      "execution_count": 43,
      "outputs": [
        {
          "output_type": "stream",
          "name": "stdout",
          "text": [
            "단어 인덱싱 결과 : [[5, 6, 1], [7, 1, 2, 3], [4, 2, 8, 3], [9, 4, 2, 10, 11, 1]]\n"
          ]
        }
      ]
    },
    {
      "cell_type": "code",
      "source": [
        "plt.figure(figsize = (len(samples) * 3, 6))\n",
        "for i, sample in enumerate(samples):\n",
        "  indexed = np.array(seqs[i])\n",
        "  plt.subplot(1, len(samples), i+1)\n",
        "  sns.heatmap(indexed.reshape(len(indexed), 1), 1, cmap = 'gray', \n",
        "              annot = True, cbar = False, \n",
        "              yticklabels = sample.split(' '),\n",
        "              xticklabels = [])\n",
        "plt.show"
      ],
      "metadata": {
        "id": "rnk2iV_XhTfy",
        "colab": {
          "base_uri": "https://localhost:8080/",
          "height": 432
        },
        "outputId": "10c9f0ac-de7e-4e0d-a162-0eb419d5ce36"
      },
      "execution_count": 45,
      "outputs": [
        {
          "output_type": "stream",
          "name": "stderr",
          "text": [
            "/usr/local/lib/python3.7/dist-packages/seaborn/_decorators.py:43: FutureWarning: Pass the following variable as a keyword arg: vmin. From version 0.12, the only valid positional argument will be `data`, and passing other arguments without an explicit keyword will result in an error or misinterpretation.\n",
            "  FutureWarning\n"
          ]
        },
        {
          "output_type": "execute_result",
          "data": {
            "text/plain": [
              "<function matplotlib.pyplot.show>"
            ]
          },
          "metadata": {},
          "execution_count": 45
        },
        {
          "output_type": "display_data",
          "data": {
            "text/plain": [
              "<Figure size 864x432 with 4 Axes>"
            ],
            "image/png": "[encoded data removed]"
          },
          "metadata": {
            "needs_background": "light"
          }
        }
      ]
    },
    {
      "cell_type": "markdown",
      "source": [
        "#### **패딩**"
      ],
      "metadata": {
        "id": "Qn-KEjZShneG"
      }
    },
    {
      "cell_type": "code",
      "source": [
        "from tensorflow.keras.preprocessing.sequence import pad_sequences\n",
        "\n",
        "pads = pad_sequences(seqs, 6)\n",
        "print('패딩 결과 :\\n', pads, pads.shape) # 앞 쪽에 패딩을 한다"
      ],
      "metadata": {
        "id": "U9ExtwrFitNX",
        "colab": {
          "base_uri": "https://localhost:8080/"
        },
        "outputId": "a19d9477-75bb-4b53-95be-d82bdfa890df"
      },
      "execution_count": 46,
      "outputs": [
        {
          "output_type": "stream",
          "name": "stdout",
          "text": [
            "패딩 결과 :\n",
            " [[ 0  0  0  5  6  1]\n",
            " [ 0  0  7  1  2  3]\n",
            " [ 0  0  4  2  8  3]\n",
            " [ 9  4  2 10 11  1]] (4, 6)\n"
          ]
        }
      ]
    },
    {
      "cell_type": "code",
      "source": [
        "plt.figure(figsize = (len(samples) * 3, 6))\n",
        "for i, sample in enumerate(samples):\n",
        "  plt.subplot(1, len(samples), i+1)\n",
        "  sns.heatmap(pads[i].reshape(len(indexed), 1), 1, cmap = 'gray', \n",
        "              annot = True, cbar = False, \n",
        "              yticklabels = ['']*(6-len(sample.split(' ')))+sample.split(' '),\n",
        "              xticklabels = [])\n",
        "plt.show"
      ],
      "metadata": {
        "id": "1pnYg9XYhgri",
        "colab": {
          "base_uri": "https://localhost:8080/",
          "height": 432
        },
        "outputId": "223a9948-e022-4601-8023-02f042330762"
      },
      "execution_count": 63,
      "outputs": [
        {
          "output_type": "stream",
          "name": "stderr",
          "text": [
            "/usr/local/lib/python3.7/dist-packages/seaborn/_decorators.py:43: FutureWarning: Pass the following variable as a keyword arg: vmin. From version 0.12, the only valid positional argument will be `data`, and passing other arguments without an explicit keyword will result in an error or misinterpretation.\n",
            "  FutureWarning\n"
          ]
        },
        {
          "output_type": "execute_result",
          "data": {
            "text/plain": [
              "<function matplotlib.pyplot.show>"
            ]
          },
          "metadata": {},
          "execution_count": 63
        },
        {
          "output_type": "display_data",
          "data": {
            "text/plain": [
              "<Figure size 864x432 with 4 Axes>"
            ],
            "image/png": "[encoded data removed]"
          },
          "metadata": {
            "needs_background": "light"
          }
        }
      ]
    },
    {
      "cell_type": "markdown",
      "source": [
        "#### **원핫 인코딩**"
      ],
      "metadata": {
        "id": "4dxENhJPhs_y"
      }
    },
    {
      "cell_type": "code",
      "source": [
        "len(word_dict)"
      ],
      "metadata": {
        "colab": {
          "base_uri": "https://localhost:8080/"
        },
        "id": "t2MuccclJYCt",
        "outputId": "c7ee2531-f23e-41a8-ad2a-338036d0a3af"
      },
      "execution_count": 50,
      "outputs": [
        {
          "output_type": "execute_result",
          "data": {
            "text/plain": [
              "11"
            ]
          },
          "metadata": {},
          "execution_count": 50
        }
      ]
    },
    {
      "cell_type": "code",
      "source": [
        "# 인풋 시퀀스는 길이가 동일해야 함\n",
        "onehots = utils.to_categorical(pads, num_classes=len(word_dict)+1) # 단어 개수 + 1\n",
        "# 단어가 없거나 / 딕셔너리에 존재하지 않는 단어는 첫 번째 클래스에 할당하기 위해서\n",
        "print(onehots.shape)"
      ],
      "metadata": {
        "id": "Cm1IFHXihxUZ",
        "colab": {
          "base_uri": "https://localhost:8080/"
        },
        "outputId": "584e81fb-ffff-40d0-f4e8-c457c8f0b054"
      },
      "execution_count": 61,
      "outputs": [
        {
          "output_type": "stream",
          "name": "stdout",
          "text": [
            "(4, 6, 12)\n"
          ]
        }
      ]
    },
    {
      "cell_type": "code",
      "source": [
        "plt.figure(figsize = (len(samples) * 3, 6))\n",
        "for i, sample in enumerate(samples):\n",
        "  plt.subplot(1, len(samples), i+1)\n",
        "  sns.heatmap(onehots[i], cmap = 'Blues', \n",
        "              annot = True, cbar = False, \n",
        "              yticklabels = ['']*(6-len(sample.split(' ')))+sample.split(' '),\n",
        "              xticklabels = [])\n",
        "plt.show"
      ],
      "metadata": {
        "id": "fP_5p5BGiV-4",
        "colab": {
          "base_uri": "https://localhost:8080/",
          "height": 375
        },
        "outputId": "bc3cc536-a795-4a40-c8a0-6e19e939e165"
      },
      "execution_count": 62,
      "outputs": [
        {
          "output_type": "execute_result",
          "data": {
            "text/plain": [
              "<function matplotlib.pyplot.show>"
            ]
          },
          "metadata": {},
          "execution_count": 62
        },
        {
          "output_type": "display_data",
          "data": {
            "text/plain": [
              "<Figure size 864x432 with 4 Axes>"
            ],
            "image/png": "[encoded data removed]"
          },
          "metadata": {
            "needs_background": "light"
          }
        }
      ]
    },
    {
      "cell_type": "code",
      "source": [
        "# 원 핫 인코딩 결과\n",
        "# 행 : padding 개수 - 샘플 하나의 최대 단어 개수\n",
        "# 열 : 단어 하나가 몇 개의 디멘션으로 표현될 수 있는가"
      ],
      "metadata": {
        "id": "FFsJVjZQK6e8"
      },
      "execution_count": null,
      "outputs": []
    },
    {
      "cell_type": "markdown",
      "source": [
        "#### **단어 임베딩**"
      ],
      "metadata": {
        "id": "vynVTAfjkV1S"
      }
    },
    {
      "cell_type": "code",
      "source": [
        "# 단어 하나가 표현할 수 있는 디멘션이 자유롭다\n",
        "# 원 핫 인코딩 처럼 단어 하나를 딕셔너리에 있는단어 수의 크기만큼의 디멘션으로 표현 하지 않아도 됨\n",
        "# 1: word 2 : hello 3 : any\n",
        "# my 1 0 0 0\n",
        "# word 0 1 0 0"
      ],
      "metadata": {
        "id": "6SF49vGMLZEs"
      },
      "execution_count": 65,
      "outputs": []
    },
    {
      "cell_type": "code",
      "source": [
        "# 인풋 : 패딩된 seqences\n",
        "# 최대 길이 + 1 -> 처음 시작을 비워놓기 때문에\n",
        "embedding_layer = layers.Embedding(input_dim = 6 + 1, output_dim = 3) # 원 핫 처리후 임베딩\n",
        "# 학습이 필요"
      ],
      "metadata": {
        "id": "oivTrne7i4BA"
      },
      "execution_count": 84,
      "outputs": []
    },
    {
      "cell_type": "code",
      "source": [
        "embeded = embedding_layer(pads[0])\n",
        "embeded.shape"
      ],
      "metadata": {
        "colab": {
          "base_uri": "https://localhost:8080/"
        },
        "id": "44adeqDdQrmi",
        "outputId": "e0a67a45-7452-4d61-d90c-822061b1fbe5"
      },
      "execution_count": 85,
      "outputs": [
        {
          "output_type": "execute_result",
          "data": {
            "text/plain": [
              "TensorShape([6, 3])"
            ]
          },
          "metadata": {},
          "execution_count": 85
        }
      ]
    },
    {
      "cell_type": "code",
      "source": [
        "plt.figure(figsize = (len(samples) * 3, 6))\n",
        "for i, sample in enumerate(samples):\n",
        "  embeded = embedding_layer(pads[0])\n",
        "  plt.subplot(1, len(samples), i+1)\n",
        "  sns.heatmap(embeded, cmap = 'Blues', \n",
        "              annot = True, cbar = False, \n",
        "              yticklabels = ['']*(6-len(sample.split(' ')))+sample.split(' '),\n",
        "              xticklabels = [])\n",
        "plt.show\n",
        "# 학습되지 않아 랜덤한 값이 도출됨."
      ],
      "metadata": {
        "id": "UBEezkcbjSRq",
        "colab": {
          "base_uri": "https://localhost:8080/",
          "height": 375
        },
        "outputId": "4cbe1ca1-bd64-4d25-fb6f-1e127c73e62f"
      },
      "execution_count": 86,
      "outputs": [
        {
          "output_type": "execute_result",
          "data": {
            "text/plain": [
              "<function matplotlib.pyplot.show>"
            ]
          },
          "metadata": {},
          "execution_count": 86
        },
        {
          "output_type": "display_data",
          "data": {
            "text/plain": [
              "<Figure size 864x432 with 4 Axes>"
            ],
            "image/png": "[encoded data removed]"
          },
          "metadata": {
            "needs_background": "light"
          }
        }
      ]
    },
    {
      "cell_type": "markdown",
      "source": [
        "## 간단 예제\n",
        "---"
      ],
      "metadata": {
        "id": "_qAvInrFdSXD"
      }
    },
    {
      "cell_type": "markdown",
      "source": [
        "### | **텍스트 전처리**"
      ],
      "metadata": {
        "id": "xweowVT7e2Kh"
      }
    },
    {
      "cell_type": "code",
      "source": [
        "docs = [\"너무 재미 있네요\",\n",
        "        \"최고 예요\",\n",
        "        \"참 잘 만든 영화 예요\",\n",
        "        \"추천 하고 싶은 영화 입니다\",\n",
        "        \"한 번 더 보고 싶네요\",\n",
        "        \"글쎄 요\",\"별로 예요\",\"생각 보다 지루 하네요\",\n",
        "        \"연기 가 어색 해요\",\"재미 있어서 한 번 더 볼거에요\", \"별로 재미 가 없어요\", \"재미 있고 잘 만든 영화 입니다\",\n",
        "        \"재미 가 별로 없어요\", \"별로 예요\"]\n",
        "classes = np.array([1,1,1,1,1,0,0,0,0,1,0,1,0,0]) # 긍정 1 부정 0\n",
        "print(len(docs), classes.shape)"
      ],
      "metadata": {
        "id": "pPV-RtzMu3F8",
        "colab": {
          "base_uri": "https://localhost:8080/"
        },
        "outputId": "7c1a7fab-3dd1-4e29-e974-f778bfc79d90"
      },
      "execution_count": 96,
      "outputs": [
        {
          "output_type": "stream",
          "name": "stdout",
          "text": [
            "14 (14,)\n"
          ]
        }
      ]
    },
    {
      "cell_type": "code",
      "source": [
        "# 토큰\n",
        "token = Tokenizer()\n",
        "token.fit_on_texts(docs)\n",
        "print('딕셔너리 :', token.word_index)\n",
        "print('단어 개수 :', len(token.word_index))"
      ],
      "metadata": {
        "colab": {
          "base_uri": "https://localhost:8080/"
        },
        "id": "dKtjzj7TStoJ",
        "outputId": "b9e4b612-961c-4f35-8fb6-4798dbd9e746"
      },
      "execution_count": 98,
      "outputs": [
        {
          "output_type": "stream",
          "name": "stdout",
          "text": [
            "딕셔너리 : {'재미': 1, '예요': 2, '별로': 3, '영화': 4, '가': 5, '잘': 6, '만든': 7, '입니다': 8, '한': 9, '번': 10, '더': 11, '없어요': 12, '너무': 13, '있네요': 14, '최고': 15, '참': 16, '추천': 17, '하고': 18, '싶은': 19, '보고': 20, '싶네요': 21, '글쎄': 22, '요': 23, '생각': 24, '보다': 25, '지루': 26, '하네요': 27, '연기': 28, '어색': 29, '해요': 30, '있어서': 31, '볼거에요': 32, '있고': 33}\n",
            "단어 개수 : 33\n"
          ]
        }
      ]
    },
    {
      "cell_type": "code",
      "source": [
        "# 인덱싱\n",
        "x = token.texts_to_sequences(docs)\n",
        "print(x)"
      ],
      "metadata": {
        "colab": {
          "base_uri": "https://localhost:8080/"
        },
        "id": "eVj1XbfhT1EB",
        "outputId": "ea43b1d1-6995-4c45-fed2-b68fab129ded"
      },
      "execution_count": 99,
      "outputs": [
        {
          "output_type": "stream",
          "name": "stdout",
          "text": [
            "[[13, 1, 14], [15, 2], [16, 6, 7, 4, 2], [17, 18, 19, 4, 8], [9, 10, 11, 20, 21], [22, 23], [3, 2], [24, 25, 26, 27], [28, 5, 29, 30], [1, 31, 9, 10, 11, 32], [3, 1, 5, 12], [1, 33, 6, 7, 4, 8], [1, 5, 3, 12], [3, 2]]\n"
          ]
        }
      ]
    },
    {
      "cell_type": "code",
      "source": [
        "# 패딩\n",
        "x_pad = pad_sequences(x, 6) # 한 문장에 최대 몇 개의 단어가 들어가는지\n",
        "print('패딩 결과 :\\n', x_pad, x_pad.shape)"
      ],
      "metadata": {
        "colab": {
          "base_uri": "https://localhost:8080/"
        },
        "id": "e9bQmxL7UDOq",
        "outputId": "2ccda123-c8ce-434d-923b-5a291c671f5e"
      },
      "execution_count": 102,
      "outputs": [
        {
          "output_type": "stream",
          "name": "stdout",
          "text": [
            "패딩 결과 :\n",
            " [[ 0  0  0 13  1 14]\n",
            " [ 0  0  0  0 15  2]\n",
            " [ 0 16  6  7  4  2]\n",
            " [ 0 17 18 19  4  8]\n",
            " [ 0  9 10 11 20 21]\n",
            " [ 0  0  0  0 22 23]\n",
            " [ 0  0  0  0  3  2]\n",
            " [ 0  0 24 25 26 27]\n",
            " [ 0  0 28  5 29 30]\n",
            " [ 1 31  9 10 11 32]\n",
            " [ 0  0  3  1  5 12]\n",
            " [ 1 33  6  7  4  8]\n",
            " [ 0  0  1  5  3 12]\n",
            " [ 0  0  0  0  3  2]] (14, 6)\n"
          ]
        }
      ]
    },
    {
      "cell_type": "markdown",
      "source": [
        "### | **모델 구현 및 학습**"
      ],
      "metadata": {
        "id": "eurAGRoOe4zR"
      }
    },
    {
      "cell_type": "code",
      "source": [
        "# 단어 하나가 원-핫 인코딩 되면 크기 몇의 벡터로 표현되는가? -> 단어의 개수 + 1"
      ],
      "metadata": {
        "id": "crvQQ2cHVuVB"
      },
      "execution_count": null,
      "outputs": []
    },
    {
      "cell_type": "code",
      "source": [
        "def create_model():\n",
        "  x = layers.Input(shape = 6)\n",
        "  y = layers.Embedding(34, 8)(x)\n",
        "  y = layers.Flatten()(y)\n",
        "  y = layers.Dense(1, activation = 'sigmoid')(y)\n",
        "  return models.Model(x,y)\n",
        "\n",
        "model = create_model()\n",
        "model.summary()"
      ],
      "metadata": {
        "id": "4YSxeeuaZpyd",
        "colab": {
          "base_uri": "https://localhost:8080/"
        },
        "outputId": "a6aa9f96-7af8-4a7a-8c62-94c5442bbfc9"
      },
      "execution_count": 105,
      "outputs": [
        {
          "output_type": "stream",
          "name": "stdout",
          "text": [
            "Model: \"model_2\"\n",
            "_________________________________________________________________\n",
            " Layer (type)                Output Shape              Param #   \n",
            "=================================================================\n",
            " input_3 (InputLayer)        [(None, 6)]               0         \n",
            "                                                                 \n",
            " embedding_9 (Embedding)     (None, 6, 8)              272       \n",
            "                                                                 \n",
            " flatten (Flatten)           (None, 48)                0         \n",
            "                                                                 \n",
            " dense (Dense)               (None, 1)                 49        \n",
            "                                                                 \n",
            "=================================================================\n",
            "Total params: 321\n",
            "Trainable params: 321\n",
            "Non-trainable params: 0\n",
            "_________________________________________________________________\n"
          ]
        }
      ]
    },
    {
      "cell_type": "code",
      "source": [
        "model.compile(optimizer = 'adam',\n",
        "               loss = 'binary_crossentropy',\n",
        "               metrics = ['acc'])\n",
        "model.fit(x_pad, classes, epochs = 20)"
      ],
      "metadata": {
        "id": "Q1uY45u5Zz4I",
        "colab": {
          "base_uri": "https://localhost:8080/"
        },
        "outputId": "00a75bb2-9d65-4ea9-c222-4ba6cb8474ee"
      },
      "execution_count": 107,
      "outputs": [
        {
          "output_type": "stream",
          "name": "stdout",
          "text": [
            "Epoch 1/20\n",
            "1/1 [==============================] - 1s 913ms/step - loss: 0.6891 - acc: 0.6429\n",
            "Epoch 2/20\n",
            "1/1 [==============================] - 0s 12ms/step - loss: 0.6868 - acc: 0.6429\n",
            "Epoch 3/20\n",
            "1/1 [==============================] - 0s 10ms/step - loss: 0.6845 - acc: 0.6429\n",
            "Epoch 4/20\n",
            "1/1 [==============================] - 0s 10ms/step - loss: 0.6822 - acc: 0.6429\n",
            "Epoch 5/20\n",
            "1/1 [==============================] - 0s 9ms/step - loss: 0.6799 - acc: 0.6429\n",
            "Epoch 6/20\n",
            "1/1 [==============================] - 0s 10ms/step - loss: 0.6776 - acc: 0.7857\n",
            "Epoch 7/20\n",
            "1/1 [==============================] - 0s 13ms/step - loss: 0.6753 - acc: 0.8571\n",
            "Epoch 8/20\n",
            "1/1 [==============================] - 0s 8ms/step - loss: 0.6731 - acc: 0.9286\n",
            "Epoch 9/20\n",
            "1/1 [==============================] - 0s 9ms/step - loss: 0.6708 - acc: 0.9286\n",
            "Epoch 10/20\n",
            "1/1 [==============================] - 0s 10ms/step - loss: 0.6685 - acc: 0.9286\n",
            "Epoch 11/20\n",
            "1/1 [==============================] - 0s 10ms/step - loss: 0.6662 - acc: 0.9286\n",
            "Epoch 12/20\n",
            "1/1 [==============================] - 0s 10ms/step - loss: 0.6639 - acc: 0.9286\n",
            "Epoch 13/20\n",
            "1/1 [==============================] - 0s 14ms/step - loss: 0.6615 - acc: 0.9286\n",
            "Epoch 14/20\n",
            "1/1 [==============================] - 0s 15ms/step - loss: 0.6592 - acc: 0.9286\n",
            "Epoch 15/20\n",
            "1/1 [==============================] - 0s 29ms/step - loss: 0.6569 - acc: 0.9286\n",
            "Epoch 16/20\n",
            "1/1 [==============================] - 0s 11ms/step - loss: 0.6545 - acc: 0.9286\n",
            "Epoch 17/20\n",
            "1/1 [==============================] - 0s 18ms/step - loss: 0.6522 - acc: 0.9286\n",
            "Epoch 18/20\n",
            "1/1 [==============================] - 0s 14ms/step - loss: 0.6498 - acc: 0.9286\n",
            "Epoch 19/20\n",
            "1/1 [==============================] - 0s 16ms/step - loss: 0.6474 - acc: 0.9286\n",
            "Epoch 20/20\n",
            "1/1 [==============================] - 0s 19ms/step - loss: 0.6451 - acc: 0.9286\n"
          ]
        },
        {
          "output_type": "execute_result",
          "data": {
            "text/plain": [
              "<keras.callbacks.History at 0x7f4b9d410d90>"
            ]
          },
          "metadata": {},
          "execution_count": 107
        }
      ]
    },
    {
      "cell_type": "markdown",
      "source": [
        "### **| 예측**"
      ],
      "metadata": {
        "id": "AJ-eNZ-Ge-xp"
      }
    },
    {
      "cell_type": "code",
      "source": [
        "preds = model.predict(x_pad)\n",
        "for i in range(len(preds)):\n",
        "  print(docs[i], np.round(preds[i][0]))"
      ],
      "metadata": {
        "id": "ZfSIV2RVu3Q1",
        "colab": {
          "base_uri": "https://localhost:8080/"
        },
        "outputId": "e8b7c4f4-5394-4f60-e750-844768050c8a"
      },
      "execution_count": 111,
      "outputs": [
        {
          "output_type": "stream",
          "name": "stdout",
          "text": [
            "너무 재미 있네요 1.0\n",
            "최고 예요 0.0\n",
            "참 잘 만든 영화 예요 1.0\n",
            "추천 하고 싶은 영화 입니다 1.0\n",
            "한 번 더 보고 싶네요 1.0\n",
            "글쎄 요 0.0\n",
            "별로 예요 0.0\n",
            "생각 보다 지루 하네요 0.0\n",
            "연기 가 어색 해요 0.0\n",
            "재미 있어서 한 번 더 볼거에요 1.0\n",
            "별로 재미 가 없어요 0.0\n",
            "재미 있고 잘 만든 영화 입니다 1.0\n",
            "재미 가 별로 없어요 0.0\n",
            "별로 예요 0.0\n"
          ]
        }
      ]
    },
    {
      "cell_type": "code",
      "source": [
        "# 테스트 데이터 확인\n",
        "docs_test = ['생각 보다 별로 에요', '재미 있는 영화 입니다']\n",
        "# 인덱싱\n",
        "x_test = token.texts_to_sequences(docs_test)\n",
        "print(x_test)\n",
        "# 패딩\n",
        "x_test = pad_sequences(x_test, 6) # 한 문장에 최대 몇 개의 단어가 들어가는지\n",
        "print('패딩 결과 :\\n', x_test, x_test.shape)"
      ],
      "metadata": {
        "id": "AMENFMmIcbiw",
        "colab": {
          "base_uri": "https://localhost:8080/"
        },
        "outputId": "f588dded-3f8e-42c0-9c5a-e516d37c520f"
      },
      "execution_count": 114,
      "outputs": [
        {
          "output_type": "stream",
          "name": "stdout",
          "text": [
            "[[24, 25, 3], [1, 4, 8]]\n",
            "패딩 결과 :\n",
            " [[ 0  0  0 24 25  3]\n",
            " [ 0  0  0  1  4  8]] (2, 6)\n"
          ]
        }
      ]
    },
    {
      "cell_type": "code",
      "source": [
        "preds = model.predict(x_test)\n",
        "for i in range(len(preds)):\n",
        "  # print(docs_test[i], np.round(preds[i][0]))\n",
        "    print(docs_test[i], preds[i][0])"
      ],
      "metadata": {
        "colab": {
          "base_uri": "https://localhost:8080/"
        },
        "id": "5WB5779TYBdh",
        "outputId": "f9f93115-6369-4621-f496-93c0273dc6ef"
      },
      "execution_count": 116,
      "outputs": [
        {
          "output_type": "stream",
          "name": "stdout",
          "text": [
            "생각 보다 별로 에요 0.49851096\n",
            "재미 있는 영화 입니다 0.50336695\n"
          ]
        }
      ]
    },
    {
      "cell_type": "code",
      "source": [
        ""
      ],
      "metadata": {
        "id": "tNB2wGzUYKqI"
      },
      "execution_count": null,
      "outputs": []
    }
  ]
}
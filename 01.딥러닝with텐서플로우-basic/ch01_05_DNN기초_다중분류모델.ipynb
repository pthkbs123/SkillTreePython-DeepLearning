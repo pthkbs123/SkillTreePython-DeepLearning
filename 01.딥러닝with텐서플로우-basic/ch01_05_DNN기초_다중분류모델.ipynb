{
  "nbformat": 4,
  "nbformat_minor": 0,
  "metadata": {
    "colab": {
      "name": "ch01_05_DNN기초_다중분류모델.ipynb",
      "provenance": [],
      "collapsed_sections": [],
      "machine_shape": "hm"
    },
    "kernelspec": {
      "name": "python3",
      "display_name": "Python 3"
    },
    "language_info": {
      "name": "python"
    },
    "accelerator": "GPU",
    "gpuClass": "standard"
  },
  "cells": [
    {
      "cell_type": "markdown",
      "metadata": {
        "id": "view-in-github"
      },
      "source": [
        "<a href=\"https://colab.research.google.com/github/yebiny/SkillTreePython-DeepLearning/blob/main/01.%EB%94%A5%EB%9F%AC%EB%8B%9Dwith%ED%85%90%EC%84%9C%ED%94%8C%EB%A1%9C%EC%9A%B0-basic/ch01_05_DNN%EA%B8%B0%EC%B4%88_%EB%8B%A4%EC%A4%91%EB%B6%84%EB%A5%98%EB%AA%A8%EB%8D%B8.ipynb\" target=\"_parent\"><img src=\"https://colab.research.google.com/assets/colab-badge.svg\" alt=\"Open In Colab\"/></a>"
      ]
    },
    {
      "cell_type": "markdown",
      "source": [
        "# ch01.05. 딥러닝 다중 분류 모델\n",
        "---\n",
        "* 날짜: 박태현\n",
        "* 이름: 2022-07-04\n",
        "\n",
        "## 학습내용\n",
        "    - 딥러닝을 이용한 멀티클래스 분류 진행\n",
        "    - 적절한 손실함수와 최적화 함수 정의\n",
        "    - 평가 및 예측\n",
        "    \n",
        "## 학습자료\n",
        "\n",
        "* 모두의딥러닝\n",
        "* 데이터\n",
        "  * `iris.csv`\n",
        "  * MNIST 데이터셋\n",
        "\n",
        "\n",
        "```\n",
        "import numpy as np\n",
        "import pandas as pd\n",
        "import tensorflow as tf\n",
        "import matplotlib.pyplot as plt\n",
        "import seaborn as sns\n",
        "seed=1\n",
        "np.random.seed(seed)\n",
        "tf.random.set_seed(seed)\n",
        "```\n",
        "\n",
        "```\n",
        "https://github.com/yebiny/SkillTreePython-DeepLearning.git\n",
        "```"
      ],
      "metadata": {
        "id": "sWs2kEC1_b-P"
      }
    },
    {
      "cell_type": "code",
      "source": [
        "import numpy as np\n",
        "import pandas as pd\n",
        "import tensorflow as tf\n",
        "import matplotlib.pyplot as plt\n",
        "import seaborn as sns\n",
        "seed=1\n",
        "np.random.seed(seed)\n",
        "tf.random.set_seed(seed)"
      ],
      "metadata": {
        "id": "HJqjPthwgTg-"
      },
      "execution_count": 1,
      "outputs": []
    },
    {
      "cell_type": "code",
      "source": [
        "! git clone https://github.com/yebiny/SkillTreePython-DeepLearning.git"
      ],
      "metadata": {
        "colab": {
          "base_uri": "https://localhost:8080/"
        },
        "id": "uvE7Wt2uikty",
        "outputId": "efe7a7bf-3b5b-4dea-b3d2-a2dec61d0d23"
      },
      "execution_count": 3,
      "outputs": [
        {
          "output_type": "stream",
          "name": "stdout",
          "text": [
            "Cloning into 'SkillTreePython-DeepLearning'...\n",
            "remote: Enumerating objects: 359, done.\u001b[K\n",
            "remote: Counting objects: 100% (181/181), done.\u001b[K\n",
            "remote: Compressing objects: 100% (101/101), done.\u001b[K\n",
            "remote: Total 359 (delta 112), reused 120 (delta 78), pack-reused 178\u001b[K\n",
            "Receiving objects: 100% (359/359), 22.36 MiB | 16.42 MiB/s, done.\n",
            "Resolving deltas: 100% (147/147), done.\n"
          ]
        }
      ]
    },
    {
      "cell_type": "markdown",
      "source": [
        "## 아이리스 꽃 종류 예측\n",
        "---\n",
        "\n",
        "\n",
        "```\n",
        "- 0 sepal_length  꽃받침 길이\n",
        "- 1 sepal_width 꽃받침 너비\n",
        "- 2 petal_length 꽃임 길이\n",
        "- 3 petal_width 꽃잎 너비\n",
        "- 4 species 꽃의 종류 {setosa, versicolor virginica}\n",
        "```\n",
        "<p align='center'>\n",
        "<img src=https://github.com/yebiny/SkillTreePython-DeepLearning/blob/main/imgs/ch0105-01.PNG?raw=true width=550>\n",
        "</p>\n"
      ],
      "metadata": {
        "id": "4wsuH8GzftqZ"
      }
    },
    {
      "cell_type": "code",
      "execution_count": 18,
      "metadata": {
        "id": "68PCrczmzdId",
        "colab": {
          "base_uri": "https://localhost:8080/",
          "height": 424
        },
        "outputId": "51fb6aae-fe07-4700-8d4d-a17d68a8de56"
      },
      "outputs": [
        {
          "output_type": "execute_result",
          "data": {
            "text/plain": [
              "       0    1    2    3               4\n",
              "0    5.1  3.5  1.4  0.2     Iris-setosa\n",
              "1    4.9  3.0  1.4  0.2     Iris-setosa\n",
              "2    4.7  3.2  1.3  0.2     Iris-setosa\n",
              "3    4.6  3.1  1.5  0.2     Iris-setosa\n",
              "4    5.0  3.6  1.4  0.2     Iris-setosa\n",
              "..   ...  ...  ...  ...             ...\n",
              "145  6.7  3.0  5.2  2.3  Iris-virginica\n",
              "146  6.3  2.5  5.0  1.9  Iris-virginica\n",
              "147  6.5  3.0  5.2  2.0  Iris-virginica\n",
              "148  6.2  3.4  5.4  2.3  Iris-virginica\n",
              "149  5.9  3.0  5.1  1.8  Iris-virginica\n",
              "\n",
              "[150 rows x 5 columns]"
            ],
            "text/html": [
              "\n",
              "  <div id=\"df-6d5ce96d-241e-4469-b865-81cc8d1ac64f\">\n",
              "    <div class=\"colab-df-container\">\n",
              "      <div>\n",
              "<style scoped>\n",
              "    .dataframe tbody tr th:only-of-type {\n",
              "        vertical-align: middle;\n",
              "    }\n",
              "\n",
              "    .dataframe tbody tr th {\n",
              "        vertical-align: top;\n",
              "    }\n",
              "\n",
              "    .dataframe thead th {\n",
              "        text-align: right;\n",
              "    }\n",
              "</style>\n",
              "<table border=\"1\" class=\"dataframe\">\n",
              "  <thead>\n",
              "    <tr style=\"text-align: right;\">\n",
              "      <th></th>\n",
              "      <th>0</th>\n",
              "      <th>1</th>\n",
              "      <th>2</th>\n",
              "      <th>3</th>\n",
              "      <th>4</th>\n",
              "    </tr>\n",
              "  </thead>\n",
              "  <tbody>\n",
              "    <tr>\n",
              "      <th>0</th>\n",
              "      <td>5.1</td>\n",
              "      <td>3.5</td>\n",
              "      <td>1.4</td>\n",
              "      <td>0.2</td>\n",
              "      <td>Iris-setosa</td>\n",
              "    </tr>\n",
              "    <tr>\n",
              "      <th>1</th>\n",
              "      <td>4.9</td>\n",
              "      <td>3.0</td>\n",
              "      <td>1.4</td>\n",
              "      <td>0.2</td>\n",
              "      <td>Iris-setosa</td>\n",
              "    </tr>\n",
              "    <tr>\n",
              "      <th>2</th>\n",
              "      <td>4.7</td>\n",
              "      <td>3.2</td>\n",
              "      <td>1.3</td>\n",
              "      <td>0.2</td>\n",
              "      <td>Iris-setosa</td>\n",
              "    </tr>\n",
              "    <tr>\n",
              "      <th>3</th>\n",
              "      <td>4.6</td>\n",
              "      <td>3.1</td>\n",
              "      <td>1.5</td>\n",
              "      <td>0.2</td>\n",
              "      <td>Iris-setosa</td>\n",
              "    </tr>\n",
              "    <tr>\n",
              "      <th>4</th>\n",
              "      <td>5.0</td>\n",
              "      <td>3.6</td>\n",
              "      <td>1.4</td>\n",
              "      <td>0.2</td>\n",
              "      <td>Iris-setosa</td>\n",
              "    </tr>\n",
              "    <tr>\n",
              "      <th>...</th>\n",
              "      <td>...</td>\n",
              "      <td>...</td>\n",
              "      <td>...</td>\n",
              "      <td>...</td>\n",
              "      <td>...</td>\n",
              "    </tr>\n",
              "    <tr>\n",
              "      <th>145</th>\n",
              "      <td>6.7</td>\n",
              "      <td>3.0</td>\n",
              "      <td>5.2</td>\n",
              "      <td>2.3</td>\n",
              "      <td>Iris-virginica</td>\n",
              "    </tr>\n",
              "    <tr>\n",
              "      <th>146</th>\n",
              "      <td>6.3</td>\n",
              "      <td>2.5</td>\n",
              "      <td>5.0</td>\n",
              "      <td>1.9</td>\n",
              "      <td>Iris-virginica</td>\n",
              "    </tr>\n",
              "    <tr>\n",
              "      <th>147</th>\n",
              "      <td>6.5</td>\n",
              "      <td>3.0</td>\n",
              "      <td>5.2</td>\n",
              "      <td>2.0</td>\n",
              "      <td>Iris-virginica</td>\n",
              "    </tr>\n",
              "    <tr>\n",
              "      <th>148</th>\n",
              "      <td>6.2</td>\n",
              "      <td>3.4</td>\n",
              "      <td>5.4</td>\n",
              "      <td>2.3</td>\n",
              "      <td>Iris-virginica</td>\n",
              "    </tr>\n",
              "    <tr>\n",
              "      <th>149</th>\n",
              "      <td>5.9</td>\n",
              "      <td>3.0</td>\n",
              "      <td>5.1</td>\n",
              "      <td>1.8</td>\n",
              "      <td>Iris-virginica</td>\n",
              "    </tr>\n",
              "  </tbody>\n",
              "</table>\n",
              "<p>150 rows × 5 columns</p>\n",
              "</div>\n",
              "      <button class=\"colab-df-convert\" onclick=\"convertToInteractive('df-6d5ce96d-241e-4469-b865-81cc8d1ac64f')\"\n",
              "              title=\"Convert this dataframe to an interactive table.\"\n",
              "              style=\"display:none;\">\n",
              "        \n",
              "  <svg xmlns=\"http://www.w3.org/2000/svg\" height=\"24px\"viewBox=\"0 0 24 24\"\n",
              "       width=\"24px\">\n",
              "    <path d=\"M0 0h24v24H0V0z\" fill=\"none\"/>\n",
              "    <path d=\"M18.56 5.44l.94 2.06.94-2.06 2.06-.94-2.06-.94-.94-2.06-.94 2.06-2.06.94zm-11 1L8.5 8.5l.94-2.06 2.06-.94-2.06-.94L8.5 2.5l-.94 2.06-2.06.94zm10 10l.94 2.06.94-2.06 2.06-.94-2.06-.94-.94-2.06-.94 2.06-2.06.94z\"/><path d=\"M17.41 7.96l-1.37-1.37c-.4-.4-.92-.59-1.43-.59-.52 0-1.04.2-1.43.59L10.3 9.45l-7.72 7.72c-.78.78-.78 2.05 0 2.83L4 21.41c.39.39.9.59 1.41.59.51 0 1.02-.2 1.41-.59l7.78-7.78 2.81-2.81c.8-.78.8-2.07 0-2.86zM5.41 20L4 18.59l7.72-7.72 1.47 1.35L5.41 20z\"/>\n",
              "  </svg>\n",
              "      </button>\n",
              "      \n",
              "  <style>\n",
              "    .colab-df-container {\n",
              "      display:flex;\n",
              "      flex-wrap:wrap;\n",
              "      gap: 12px;\n",
              "    }\n",
              "\n",
              "    .colab-df-convert {\n",
              "      background-color: #E8F0FE;\n",
              "      border: none;\n",
              "      border-radius: 50%;\n",
              "      cursor: pointer;\n",
              "      display: none;\n",
              "      fill: #1967D2;\n",
              "      height: 32px;\n",
              "      padding: 0 0 0 0;\n",
              "      width: 32px;\n",
              "    }\n",
              "\n",
              "    .colab-df-convert:hover {\n",
              "      background-color: #E2EBFA;\n",
              "      box-shadow: 0px 1px 2px rgba(60, 64, 67, 0.3), 0px 1px 3px 1px rgba(60, 64, 67, 0.15);\n",
              "      fill: #174EA6;\n",
              "    }\n",
              "\n",
              "    [theme=dark] .colab-df-convert {\n",
              "      background-color: #3B4455;\n",
              "      fill: #D2E3FC;\n",
              "    }\n",
              "\n",
              "    [theme=dark] .colab-df-convert:hover {\n",
              "      background-color: #434B5C;\n",
              "      box-shadow: 0px 1px 3px 1px rgba(0, 0, 0, 0.15);\n",
              "      filter: drop-shadow(0px 1px 2px rgba(0, 0, 0, 0.3));\n",
              "      fill: #FFFFFF;\n",
              "    }\n",
              "  </style>\n",
              "\n",
              "      <script>\n",
              "        const buttonEl =\n",
              "          document.querySelector('#df-6d5ce96d-241e-4469-b865-81cc8d1ac64f button.colab-df-convert');\n",
              "        buttonEl.style.display =\n",
              "          google.colab.kernel.accessAllowed ? 'block' : 'none';\n",
              "\n",
              "        async function convertToInteractive(key) {\n",
              "          const element = document.querySelector('#df-6d5ce96d-241e-4469-b865-81cc8d1ac64f');\n",
              "          const dataTable =\n",
              "            await google.colab.kernel.invokeFunction('convertToInteractive',\n",
              "                                                     [key], {});\n",
              "          if (!dataTable) return;\n",
              "\n",
              "          const docLinkHtml = 'Like what you see? Visit the ' +\n",
              "            '<a target=\"_blank\" href=https://colab.research.google.com/notebooks/data_table.ipynb>data table notebook</a>'\n",
              "            + ' to learn more about interactive tables.';\n",
              "          element.innerHTML = '';\n",
              "          dataTable['output_type'] = 'display_data';\n",
              "          await google.colab.output.renderOutput(dataTable, element);\n",
              "          const docLink = document.createElement('div');\n",
              "          docLink.innerHTML = docLinkHtml;\n",
              "          element.appendChild(docLink);\n",
              "        }\n",
              "      </script>\n",
              "    </div>\n",
              "  </div>\n",
              "  "
            ]
          },
          "metadata": {},
          "execution_count": 18
        }
      ],
      "source": [
        "data_path = '/content/SkillTreePython-DeepLearning/dataset/iris.csv'\n",
        "df = pd.read_csv(data_path, header = None)\n",
        "df"
      ]
    },
    {
      "cell_type": "code",
      "source": [
        "from sklearn.preprocessing import StandardScaler, OneHotEncoder\n",
        "from sklearn.model_selection import train_test_split\n",
        "def iris_preprocess(df, seed = 1):\n",
        "  # x-y 분할\n",
        "  x = df.values[:,:-1] # (전체 샘플, 마지막 변수 전까지)\n",
        "  y = df.values[:,-1] # (전체 샘플, 마지막 변수)\n",
        "\n",
        "  # 정규화 (x 데이터만)\n",
        "  ss = StandardScaler()\n",
        "  x = ss.fit_transform(x)\n",
        "\n",
        "  # 원-핫 (y 데이터만)\n",
        "  oh = OneHotEncoder(sparse = False)\n",
        "  y = oh.fit_transform(np.expand_dims(y, 1)) # 인풋이 무조건 행렬 (150,) -> (150,1)\n",
        "  print(f'원-핫 변환 순서 : {oh.categories_}')\n",
        "\n",
        "  # train-test 분할\n",
        "  x_train, x_test, y_train, y_test = train_test_split(x, y, test_size = 0.3,\n",
        "                                                      random_state = seed,\n",
        "                                                      stratify = y)\n",
        "  return x_train, x_test, y_train, y_test\n",
        "\n",
        "x_train, x_test, y_train, y_test = iris_preprocess(df)\n",
        "\n",
        "print(f' 데이터 형태 : {x_train.shape}, {x_test.shape}, {y_train.shape}, {y_test.shape} ')\n",
        "print(f' 첫 번째 샘플 x : {x_train[0]}, y : {y_train[0]} ')"
      ],
      "metadata": {
        "id": "PoXYFIE9_mTS",
        "colab": {
          "base_uri": "https://localhost:8080/"
        },
        "outputId": "d79f96fb-271c-489d-eca0-9968e76d9964"
      },
      "execution_count": 19,
      "outputs": [
        {
          "output_type": "stream",
          "name": "stdout",
          "text": [
            "원-핫 변환 순서 : [array(['Iris-setosa', 'Iris-versicolor', 'Iris-virginica'], dtype=object)]\n",
            " 데이터 형태 : (105, 4), (45, 4), (105, 3), (45, 3) \n",
            " 첫 번째 샘플 x : [ 0.55333328 -0.58776353  0.76275864  0.39617188], y : [0. 0. 1.] \n"
          ]
        }
      ]
    },
    {
      "cell_type": "markdown",
      "source": [
        "* 예측값 분포 확인"
      ],
      "metadata": {
        "id": "87SJwUDWglBP"
      }
    },
    {
      "cell_type": "code",
      "source": [
        "plt.subplot(121);sns.countplot(x = np.argmax(y_train, axis = 1));plt.title('train dataset')\n",
        "plt.subplot(122);sns.countplot(x = np.argmax(y_test, axis = 1));plt.title('test dataset')"
      ],
      "metadata": {
        "id": "hLNYhitOgf0o",
        "colab": {
          "base_uri": "https://localhost:8080/",
          "height": 299
        },
        "outputId": "a46e668a-fc16-4f24-daba-5d06bcec4daf"
      },
      "execution_count": 16,
      "outputs": [
        {
          "output_type": "execute_result",
          "data": {
            "text/plain": [
              "Text(0.5, 1.0, 'test dataset')"
            ]
          },
          "metadata": {},
          "execution_count": 16
        },
        {
          "output_type": "display_data",
          "data": {
            "text/plain": [
              "<Figure size 432x288 with 2 Axes>"
            ],
            "image/png": "[encoded data removed]"
          },
          "metadata": {
            "needs_background": "light"
          }
        }
      ]
    },
    {
      "cell_type": "markdown",
      "source": [
        "### | 모델\n",
        "\n",
        "\n",
        "<p align='center'>\n",
        "<img src=https://github.com/yebiny/SkillTreePython-DeepLearning/blob/main/imgs/ch0105-02.PNG?raw=true width=800>\n",
        "</p>\n"
      ],
      "metadata": {
        "id": "DHshtWB9r0be"
      }
    },
    {
      "cell_type": "markdown",
      "source": [
        "#### **모델 생성**"
      ],
      "metadata": {
        "id": "J94jFpWyr2k9"
      }
    },
    {
      "cell_type": "code",
      "source": [
        "from tensorflow.keras import models, layers, utils\n",
        "\n",
        "def build_model():\n",
        "  x = layers.Input(shape=(4,)) \n",
        "  z1 = layers.Dense(12, activation='relu')(x)\n",
        "  z2 = layers.Dense(8, activation = 'relu')(z1)\n",
        "  y = layers.Dense(3, activation='softmax')(z2)\n",
        "  model = models.Model(x, y)\n",
        "  return model"
      ],
      "metadata": {
        "id": "5BZG1z90rsGc"
      },
      "execution_count": 23,
      "outputs": []
    },
    {
      "cell_type": "markdown",
      "source": [
        "#### **모델 시각화**\n",
        "\n",
        "* `model.summary()`\n",
        "* `utils.plot_model()`"
      ],
      "metadata": {
        "id": "1yqXLbEyx5QK"
      }
    },
    {
      "cell_type": "code",
      "source": [
        "model = build_model()\n",
        "model.summary()\n",
        "utils.plot_model(model, show_shapes=True)"
      ],
      "metadata": {
        "id": "dKCT38Fsr6dF",
        "colab": {
          "base_uri": "https://localhost:8080/",
          "height": 734
        },
        "outputId": "563cbf5c-315c-4df4-aa26-7b35e7fc5f71"
      },
      "execution_count": 24,
      "outputs": [
        {
          "output_type": "stream",
          "name": "stdout",
          "text": [
            "Model: \"model\"\n",
            "_________________________________________________________________\n",
            " Layer (type)                Output Shape              Param #   \n",
            "=================================================================\n",
            " input_2 (InputLayer)        [(None, 4)]               0         \n",
            "                                                                 \n",
            " dense_3 (Dense)             (None, 12)                60        \n",
            "                                                                 \n",
            " dense_4 (Dense)             (None, 8)                 104       \n",
            "                                                                 \n",
            " dense_5 (Dense)             (None, 3)                 27        \n",
            "                                                                 \n",
            "=================================================================\n",
            "Total params: 191\n",
            "Trainable params: 191\n",
            "Non-trainable params: 0\n",
            "_________________________________________________________________\n"
          ]
        },
        {
          "output_type": "execute_result",
          "data": {
            "text/plain": [
              "<IPython.core.display.Image object>"
            ],
            "image/png": "[encoded data removed]"
          },
          "metadata": {},
          "execution_count": 24
        }
      ]
    },
    {
      "cell_type": "markdown",
      "source": [
        "### | 학습"
      ],
      "metadata": {
        "id": "gLuvsUFmwzPa"
      }
    },
    {
      "cell_type": "markdown",
      "source": [
        "#### **모델 컴파일**\n",
        "\n",
        "```\n",
        "model.compile(loss, optimizer, metrics) \n",
        "```\n",
        "* `loss` : 다중 분류 문제. 'categorical_crossentropy'\n",
        "* `optimizer` : 문제와 상관없음. 'adam'\n",
        "* `metrics`: accuracy (정확도)\n"
      ],
      "metadata": {
        "id": "fwQboNHp3EHe"
      }
    },
    {
      "cell_type": "code",
      "source": [
        "model.compile(loss =  'categorical_crossentropy',\n",
        "              optimizer = 'adam',\n",
        "              metrics = ['accuracy'])"
      ],
      "metadata": {
        "id": "SASPIskxgfRY"
      },
      "execution_count": 26,
      "outputs": []
    },
    {
      "cell_type": "markdown",
      "source": [
        "#### **학습**\n",
        "\n",
        "```\n",
        "model.fit(x_train, y_train, epochs, batch_size)\n",
        "```\n",
        "* `x_train` : 넘파이 혹은 텐서 형식의 인풋 데이터\n",
        "* `y_train` : 넘파이 혹은 텐서 형식의 아웃풋 데이터\n",
        "* `epochs` : 학습 횟수\n",
        "* `batch_size` : 배치 사이즈 ((업데이트 한번에 사용될 샘플 개수)"
      ],
      "metadata": {
        "id": "JukUpWB4gfRY"
      }
    },
    {
      "cell_type": "code",
      "source": [
        "model.fit(x_train, y_train, epochs = 100, batch_size = 8)"
      ],
      "metadata": {
        "id": "9bgbpUhogfRY",
        "colab": {
          "base_uri": "https://localhost:8080/"
        },
        "outputId": "cd930440-f9a9-4331-bfb3-6f54a2ae0538"
      },
      "execution_count": 27,
      "outputs": [
        {
          "output_type": "stream",
          "name": "stdout",
          "text": [
            "Epoch 1/100\n",
            "14/14 [==============================] - 4s 10ms/step - loss: 1.1313 - accuracy: 0.3333\n",
            "Epoch 2/100\n",
            "14/14 [==============================] - 0s 4ms/step - loss: 1.0896 - accuracy: 0.3333\n",
            "Epoch 3/100\n",
            "14/14 [==============================] - 0s 4ms/step - loss: 1.0574 - accuracy: 0.3333\n",
            "Epoch 4/100\n",
            "14/14 [==============================] - 0s 4ms/step - loss: 1.0334 - accuracy: 0.3333\n",
            "Epoch 5/100\n",
            "14/14 [==============================] - 0s 4ms/step - loss: 1.0095 - accuracy: 0.3429\n",
            "Epoch 6/100\n",
            "14/14 [==============================] - 0s 3ms/step - loss: 0.9857 - accuracy: 0.3619\n",
            "Epoch 7/100\n",
            "14/14 [==============================] - 0s 3ms/step - loss: 0.9585 - accuracy: 0.4381\n",
            "Epoch 8/100\n",
            "14/14 [==============================] - 0s 4ms/step - loss: 0.9297 - accuracy: 0.5333\n",
            "Epoch 9/100\n",
            "14/14 [==============================] - 0s 4ms/step - loss: 0.8998 - accuracy: 0.6000\n",
            "Epoch 10/100\n",
            "14/14 [==============================] - 0s 4ms/step - loss: 0.8662 - accuracy: 0.7714\n",
            "Epoch 11/100\n",
            "14/14 [==============================] - 0s 4ms/step - loss: 0.8310 - accuracy: 0.8476\n",
            "Epoch 12/100\n",
            "14/14 [==============================] - 0s 4ms/step - loss: 0.7926 - accuracy: 0.8571\n",
            "Epoch 13/100\n",
            "14/14 [==============================] - 0s 4ms/step - loss: 0.7512 - accuracy: 0.8571\n",
            "Epoch 14/100\n",
            "14/14 [==============================] - 0s 4ms/step - loss: 0.7068 - accuracy: 0.8476\n",
            "Epoch 15/100\n",
            "14/14 [==============================] - 0s 4ms/step - loss: 0.6616 - accuracy: 0.8381\n",
            "Epoch 16/100\n",
            "14/14 [==============================] - 0s 3ms/step - loss: 0.6120 - accuracy: 0.8381\n",
            "Epoch 17/100\n",
            "14/14 [==============================] - 0s 4ms/step - loss: 0.5626 - accuracy: 0.8476\n",
            "Epoch 18/100\n",
            "14/14 [==============================] - 0s 4ms/step - loss: 0.5183 - accuracy: 0.8476\n",
            "Epoch 19/100\n",
            "14/14 [==============================] - 0s 3ms/step - loss: 0.4845 - accuracy: 0.8476\n",
            "Epoch 20/100\n",
            "14/14 [==============================] - 0s 4ms/step - loss: 0.4562 - accuracy: 0.8476\n",
            "Epoch 21/100\n",
            "14/14 [==============================] - 0s 4ms/step - loss: 0.4329 - accuracy: 0.8476\n",
            "Epoch 22/100\n",
            "14/14 [==============================] - 0s 4ms/step - loss: 0.4137 - accuracy: 0.8476\n",
            "Epoch 23/100\n",
            "14/14 [==============================] - 0s 4ms/step - loss: 0.3963 - accuracy: 0.8476\n",
            "Epoch 24/100\n",
            "14/14 [==============================] - 0s 4ms/step - loss: 0.3823 - accuracy: 0.8476\n",
            "Epoch 25/100\n",
            "14/14 [==============================] - 0s 4ms/step - loss: 0.3678 - accuracy: 0.8571\n",
            "Epoch 26/100\n",
            "14/14 [==============================] - 0s 4ms/step - loss: 0.3563 - accuracy: 0.8571\n",
            "Epoch 27/100\n",
            "14/14 [==============================] - 0s 4ms/step - loss: 0.3447 - accuracy: 0.8762\n",
            "Epoch 28/100\n",
            "14/14 [==============================] - 0s 4ms/step - loss: 0.3351 - accuracy: 0.8762\n",
            "Epoch 29/100\n",
            "14/14 [==============================] - 0s 4ms/step - loss: 0.3252 - accuracy: 0.8571\n",
            "Epoch 30/100\n",
            "14/14 [==============================] - 0s 4ms/step - loss: 0.3170 - accuracy: 0.8571\n",
            "Epoch 31/100\n",
            "14/14 [==============================] - 0s 4ms/step - loss: 0.3091 - accuracy: 0.8762\n",
            "Epoch 32/100\n",
            "14/14 [==============================] - 0s 4ms/step - loss: 0.3026 - accuracy: 0.8667\n",
            "Epoch 33/100\n",
            "14/14 [==============================] - 0s 4ms/step - loss: 0.2951 - accuracy: 0.8762\n",
            "Epoch 34/100\n",
            "14/14 [==============================] - 0s 4ms/step - loss: 0.2882 - accuracy: 0.8762\n",
            "Epoch 35/100\n",
            "14/14 [==============================] - 0s 3ms/step - loss: 0.2823 - accuracy: 0.8762\n",
            "Epoch 36/100\n",
            "14/14 [==============================] - 0s 4ms/step - loss: 0.2761 - accuracy: 0.8667\n",
            "Epoch 37/100\n",
            "14/14 [==============================] - 0s 5ms/step - loss: 0.2716 - accuracy: 0.8667\n",
            "Epoch 38/100\n",
            "14/14 [==============================] - 0s 4ms/step - loss: 0.2662 - accuracy: 0.8667\n",
            "Epoch 39/100\n",
            "14/14 [==============================] - 0s 4ms/step - loss: 0.2608 - accuracy: 0.8857\n",
            "Epoch 40/100\n",
            "14/14 [==============================] - 0s 4ms/step - loss: 0.2573 - accuracy: 0.9048\n",
            "Epoch 41/100\n",
            "14/14 [==============================] - 0s 3ms/step - loss: 0.2531 - accuracy: 0.9048\n",
            "Epoch 42/100\n",
            "14/14 [==============================] - 0s 3ms/step - loss: 0.2488 - accuracy: 0.8857\n",
            "Epoch 43/100\n",
            "14/14 [==============================] - 0s 4ms/step - loss: 0.2454 - accuracy: 0.8857\n",
            "Epoch 44/100\n",
            "14/14 [==============================] - 0s 4ms/step - loss: 0.2414 - accuracy: 0.8857\n",
            "Epoch 45/100\n",
            "14/14 [==============================] - 0s 4ms/step - loss: 0.2374 - accuracy: 0.8952\n",
            "Epoch 46/100\n",
            "14/14 [==============================] - 0s 4ms/step - loss: 0.2325 - accuracy: 0.9048\n",
            "Epoch 47/100\n",
            "14/14 [==============================] - 0s 4ms/step - loss: 0.2287 - accuracy: 0.9048\n",
            "Epoch 48/100\n",
            "14/14 [==============================] - 0s 4ms/step - loss: 0.2254 - accuracy: 0.9143\n",
            "Epoch 49/100\n",
            "14/14 [==============================] - 0s 4ms/step - loss: 0.2209 - accuracy: 0.9143\n",
            "Epoch 50/100\n",
            "14/14 [==============================] - 0s 4ms/step - loss: 0.2176 - accuracy: 0.9143\n",
            "Epoch 51/100\n",
            "14/14 [==============================] - 0s 4ms/step - loss: 0.2149 - accuracy: 0.9143\n",
            "Epoch 52/100\n",
            "14/14 [==============================] - 0s 4ms/step - loss: 0.2120 - accuracy: 0.9143\n",
            "Epoch 53/100\n",
            "14/14 [==============================] - 0s 4ms/step - loss: 0.2085 - accuracy: 0.9143\n",
            "Epoch 54/100\n",
            "14/14 [==============================] - 0s 4ms/step - loss: 0.2055 - accuracy: 0.9238\n",
            "Epoch 55/100\n",
            "14/14 [==============================] - 0s 4ms/step - loss: 0.2023 - accuracy: 0.9238\n",
            "Epoch 56/100\n",
            "14/14 [==============================] - 0s 4ms/step - loss: 0.1995 - accuracy: 0.9238\n",
            "Epoch 57/100\n",
            "14/14 [==============================] - 0s 4ms/step - loss: 0.1964 - accuracy: 0.9238\n",
            "Epoch 58/100\n",
            "14/14 [==============================] - 0s 4ms/step - loss: 0.1939 - accuracy: 0.9238\n",
            "Epoch 59/100\n",
            "14/14 [==============================] - 0s 4ms/step - loss: 0.1904 - accuracy: 0.9238\n",
            "Epoch 60/100\n",
            "14/14 [==============================] - 0s 4ms/step - loss: 0.1889 - accuracy: 0.9238\n",
            "Epoch 61/100\n",
            "14/14 [==============================] - 0s 4ms/step - loss: 0.1844 - accuracy: 0.9238\n",
            "Epoch 62/100\n",
            "14/14 [==============================] - 0s 4ms/step - loss: 0.1833 - accuracy: 0.9333\n",
            "Epoch 63/100\n",
            "14/14 [==============================] - 0s 4ms/step - loss: 0.1795 - accuracy: 0.9333\n",
            "Epoch 64/100\n",
            "14/14 [==============================] - 0s 4ms/step - loss: 0.1775 - accuracy: 0.9333\n",
            "Epoch 65/100\n",
            "14/14 [==============================] - 0s 4ms/step - loss: 0.1741 - accuracy: 0.9333\n",
            "Epoch 66/100\n",
            "14/14 [==============================] - 0s 3ms/step - loss: 0.1717 - accuracy: 0.9333\n",
            "Epoch 67/100\n",
            "14/14 [==============================] - 0s 2ms/step - loss: 0.1700 - accuracy: 0.9333\n",
            "Epoch 68/100\n",
            "14/14 [==============================] - 0s 2ms/step - loss: 0.1669 - accuracy: 0.9333\n",
            "Epoch 69/100\n",
            "14/14 [==============================] - 0s 2ms/step - loss: 0.1644 - accuracy: 0.9333\n",
            "Epoch 70/100\n",
            "14/14 [==============================] - 0s 3ms/step - loss: 0.1627 - accuracy: 0.9333\n",
            "Epoch 71/100\n",
            "14/14 [==============================] - 0s 3ms/step - loss: 0.1598 - accuracy: 0.9333\n",
            "Epoch 72/100\n",
            "14/14 [==============================] - 0s 2ms/step - loss: 0.1578 - accuracy: 0.9429\n",
            "Epoch 73/100\n",
            "14/14 [==============================] - 0s 3ms/step - loss: 0.1562 - accuracy: 0.9429\n",
            "Epoch 74/100\n",
            "14/14 [==============================] - 0s 3ms/step - loss: 0.1531 - accuracy: 0.9429\n",
            "Epoch 75/100\n",
            "14/14 [==============================] - 0s 2ms/step - loss: 0.1501 - accuracy: 0.9429\n",
            "Epoch 76/100\n",
            "14/14 [==============================] - 0s 3ms/step - loss: 0.1487 - accuracy: 0.9429\n",
            "Epoch 77/100\n",
            "14/14 [==============================] - 0s 2ms/step - loss: 0.1458 - accuracy: 0.9429\n",
            "Epoch 78/100\n",
            "14/14 [==============================] - 0s 3ms/step - loss: 0.1440 - accuracy: 0.9429\n",
            "Epoch 79/100\n",
            "14/14 [==============================] - 0s 3ms/step - loss: 0.1427 - accuracy: 0.9524\n",
            "Epoch 80/100\n",
            "14/14 [==============================] - 0s 2ms/step - loss: 0.1422 - accuracy: 0.9429\n",
            "Epoch 81/100\n",
            "14/14 [==============================] - 0s 3ms/step - loss: 0.1392 - accuracy: 0.9524\n",
            "Epoch 82/100\n",
            "14/14 [==============================] - 0s 3ms/step - loss: 0.1364 - accuracy: 0.9524\n",
            "Epoch 83/100\n",
            "14/14 [==============================] - 0s 3ms/step - loss: 0.1346 - accuracy: 0.9524\n",
            "Epoch 84/100\n",
            "14/14 [==============================] - 0s 3ms/step - loss: 0.1333 - accuracy: 0.9524\n",
            "Epoch 85/100\n",
            "14/14 [==============================] - 0s 2ms/step - loss: 0.1334 - accuracy: 0.9429\n",
            "Epoch 86/100\n",
            "14/14 [==============================] - 0s 3ms/step - loss: 0.1308 - accuracy: 0.9429\n",
            "Epoch 87/100\n",
            "14/14 [==============================] - 0s 3ms/step - loss: 0.1281 - accuracy: 0.9524\n",
            "Epoch 88/100\n",
            "14/14 [==============================] - 0s 3ms/step - loss: 0.1268 - accuracy: 0.9524\n",
            "Epoch 89/100\n",
            "14/14 [==============================] - 0s 2ms/step - loss: 0.1250 - accuracy: 0.9524\n",
            "Epoch 90/100\n",
            "14/14 [==============================] - 0s 3ms/step - loss: 0.1240 - accuracy: 0.9524\n",
            "Epoch 91/100\n",
            "14/14 [==============================] - 0s 3ms/step - loss: 0.1220 - accuracy: 0.9524\n",
            "Epoch 92/100\n",
            "14/14 [==============================] - 0s 3ms/step - loss: 0.1221 - accuracy: 0.9524\n",
            "Epoch 93/100\n",
            "14/14 [==============================] - 0s 3ms/step - loss: 0.1203 - accuracy: 0.9524\n",
            "Epoch 94/100\n",
            "14/14 [==============================] - 0s 3ms/step - loss: 0.1189 - accuracy: 0.9524\n",
            "Epoch 95/100\n",
            "14/14 [==============================] - 0s 3ms/step - loss: 0.1170 - accuracy: 0.9524\n",
            "Epoch 96/100\n",
            "14/14 [==============================] - 0s 2ms/step - loss: 0.1160 - accuracy: 0.9619\n",
            "Epoch 97/100\n",
            "14/14 [==============================] - 0s 3ms/step - loss: 0.1197 - accuracy: 0.9524\n",
            "Epoch 98/100\n",
            "14/14 [==============================] - 0s 3ms/step - loss: 0.1187 - accuracy: 0.9619\n",
            "Epoch 99/100\n",
            "14/14 [==============================] - 0s 3ms/step - loss: 0.1151 - accuracy: 0.9524\n",
            "Epoch 100/100\n",
            "14/14 [==============================] - 0s 2ms/step - loss: 0.1108 - accuracy: 0.9429\n"
          ]
        },
        {
          "output_type": "execute_result",
          "data": {
            "text/plain": [
              "<keras.callbacks.History at 0x7f525539a650>"
            ]
          },
          "metadata": {},
          "execution_count": 27
        }
      ]
    },
    {
      "cell_type": "markdown",
      "source": [
        "### | 검증 및 예측\n"
      ],
      "metadata": {
        "id": "DyFOnqyNw5_q"
      }
    },
    {
      "cell_type": "markdown",
      "source": [
        "#### **검증**\n",
        "\n",
        "```\n",
        "model.evaluate(x_test, y_test)\n",
        "```\n",
        "* `x_test` : 넘파이 혹은 텐서 형식의 인풋 테스트 데이터\n",
        "* `y_test` : 넘파이 혹은 텐서 형식의 아웃풋 테스트 데이터"
      ],
      "metadata": {
        "id": "qlalKZ-a04c3"
      }
    },
    {
      "cell_type": "code",
      "source": [
        "model.evaluate(x_test, y_test)"
      ],
      "metadata": {
        "id": "uHGyMlf60zng",
        "colab": {
          "base_uri": "https://localhost:8080/"
        },
        "outputId": "b686a750-1942-4cc3-8bec-d550a238f017"
      },
      "execution_count": 28,
      "outputs": [
        {
          "output_type": "stream",
          "name": "stdout",
          "text": [
            "2/2 [==============================] - 0s 7ms/step - loss: 0.1181 - accuracy: 0.9778\n"
          ]
        },
        {
          "output_type": "execute_result",
          "data": {
            "text/plain": [
              "[0.11808124929666519, 0.9777777791023254]"
            ]
          },
          "metadata": {},
          "execution_count": 28
        }
      ]
    },
    {
      "cell_type": "markdown",
      "source": [
        "#### **예측**\n",
        "\n",
        "```\n",
        "model.predict(x_test)\n",
        "```\n",
        "* `x_test` : 넘파이 혹은 텐서 형식의 인풋 테스트 데이터\n",
        "* `y_test` : 넘파이 혹은 텐서 형식의 아웃풋 테스트 데이터"
      ],
      "metadata": {
        "id": "BITPUIOj07Uv"
      }
    },
    {
      "cell_type": "code",
      "source": [
        "y_pred = model.predict(x_test)\n",
        "print(y_test.shape, y_pred.shape)\n",
        "print(y_test[0], y_pred[0])\n",
        "# 원핫 -> 라벨\n",
        "y_pred = np.argmax(y_pred, axis=1)\n",
        "y_test = np.argmax(y_test, axis=1)\n",
        "print(y_test.shape, y_pred.shape)\n",
        "print(y_test[0], y_pred[0])"
      ],
      "metadata": {
        "id": "KfDHL4PRv8YD",
        "colab": {
          "base_uri": "https://localhost:8080/"
        },
        "outputId": "e1833a8f-e335-4192-840c-ff3a7ef63f04"
      },
      "execution_count": 31,
      "outputs": [
        {
          "output_type": "stream",
          "name": "stdout",
          "text": [
            "(45, 3) (45, 3)\n",
            "[1. 0. 0.] [9.9971539e-01 2.8422585e-04 3.0232277e-07]\n",
            "(45,) (45,)\n",
            "0 0\n"
          ]
        }
      ]
    },
    {
      "cell_type": "markdown",
      "source": [
        "* 예측 시각화"
      ],
      "metadata": {
        "id": "gThN4RCR0_HI"
      }
    },
    {
      "cell_type": "code",
      "source": [
        "from sklearn.metrics import confusion_matrix, ConfusionMatrixDisplay\n",
        "cm = confusion_matrix(y_test, y_pred)\n",
        "#print(cm)\n",
        "ConfusionMatrixDisplay(cm).plot(cmap='Blues')"
      ],
      "metadata": {
        "id": "TG533VyLwDaK",
        "colab": {
          "base_uri": "https://localhost:8080/",
          "height": 297
        },
        "outputId": "07a44372-efb0-43aa-c4da-84713f1b2ace"
      },
      "execution_count": 32,
      "outputs": [
        {
          "output_type": "execute_result",
          "data": {
            "text/plain": [
              "<sklearn.metrics._plot.confusion_matrix.ConfusionMatrixDisplay at 0x7f5255d8f450>"
            ]
          },
          "metadata": {},
          "execution_count": 32
        },
        {
          "output_type": "display_data",
          "data": {
            "text/plain": [
              "<Figure size 432x288 with 2 Axes>"
            ],
            "image/png": "[encoded data removed]"
          },
          "metadata": {
            "needs_background": "light"
          }
        }
      ]
    },
    {
      "cell_type": "markdown",
      "source": [
        "## 과제\n",
        "---"
      ],
      "metadata": {
        "id": "ZFrRTgcyipYg"
      }
    },
    {
      "cell_type": "markdown",
      "source": [
        "### | 과제1. 다중분류 문제 정리\n",
        "\n",
        "* 예측값의 범위 : 0~1\n",
        "* 예측값의 shape : (input 개수, class 개수)\n",
        "* 아웃풋 레이어의 노드 개수 : class 개수\n",
        "* 아웃풋 레이어의 activation : softmax\n",
        "* 손실함수 (loss) : Categorical_crossentropy\n",
        "* 평가함수 (metrics) : accuracy"
      ],
      "metadata": {
        "id": "xjnJSLgXK_Pp"
      }
    },
    {
      "cell_type": "markdown",
      "source": [
        "### | 과제2. 한 셀에 코드 정리하기\n",
        "\n",
        "* 추가 연습\n",
        "  * 모델의 깊이(depth)를 늘려가며 학습해 보세요.\n",
        "  * 모델의 너비(width)를 늘려가며 학습해 보세요."
      ],
      "metadata": {
        "id": "ZvFAB78P1B_Q"
      }
    },
    {
      "cell_type": "code",
      "source": [
        ""
      ],
      "metadata": {
        "id": "dFJLMYoR-bK-"
      },
      "execution_count": null,
      "outputs": []
    },
    {
      "cell_type": "markdown",
      "source": [
        "### | 과제 3. MNIST 숫자 데이터 분류\n",
        "\n",
        "```\n",
        "mnist = tf.keras.datasets.mnist\n",
        "(x_train, y_train), (x_test, y_test) = mnist.load_data()\n",
        "print(x_train.shape, y_train.shape, x_test.shape, y_test.shape)\n",
        "```"
      ],
      "metadata": {
        "id": "2K0mAdPzjOAf"
      }
    },
    {
      "cell_type": "code",
      "source": [
        "mnist = tf.keras.datasets.mnist\n",
        "(x_train, y_train), (x_test, y_test) = mnist.load_data()\n",
        "# 정규화 (x) \n",
        "x_train = x_train/255. # (0~1)\n",
        "x_test = x_test/255.\n",
        "# 원핫 (y) -> 안하고 작동시켜보기\n",
        "print(x_train.shape, y_train.shape, x_test.shape, y_test.shape)"
      ],
      "metadata": {
        "id": "aMfhH4ojun0G",
        "colab": {
          "base_uri": "https://localhost:8080/"
        },
        "outputId": "a811273b-472b-49c7-93a5-dcecc855044a"
      },
      "execution_count": 45,
      "outputs": [
        {
          "output_type": "stream",
          "name": "stdout",
          "text": [
            "(60000, 28, 28) (60000,) (10000, 28, 28) (10000,)\n"
          ]
        }
      ]
    },
    {
      "cell_type": "markdown",
      "source": [
        "* 데이터 시각화"
      ],
      "metadata": {
        "id": "EOskN_eSMJNL"
      }
    },
    {
      "cell_type": "code",
      "source": [
        "for i in range(15):\n",
        "  plt.subplot(3,5,i+1)\n",
        "  plt.imshow(x_train[i], cmap='gray')"
      ],
      "metadata": {
        "id": "oYaA4aLuv7F4",
        "colab": {
          "base_uri": "https://localhost:8080/",
          "height": 262
        },
        "outputId": "88a4c7dd-0fab-431b-8ffe-435496bec24a"
      },
      "execution_count": 46,
      "outputs": [
        {
          "output_type": "display_data",
          "data": {
            "text/plain": [
              "<Figure size 432x288 with 15 Axes>"
            ],
            "image/png": "[encoded data removed]"
          },
          "metadata": {
            "needs_background": "light"
          }
        }
      ]
    },
    {
      "cell_type": "markdown",
      "source": [
        "### | 모델\n",
        "\n",
        "\n",
        "<p align='center'>\n",
        "<img src=https://github.com/yebiny/SkillTreePython-DeepLearning/blob/main/imgs/ch0105-03.PNG?raw=true width=500>\n",
        "</p>\n"
      ],
      "metadata": {
        "id": "po1mICbWv48p"
      }
    },
    {
      "cell_type": "markdown",
      "source": [
        "#### **모델 생성**"
      ],
      "metadata": {
        "id": "C_gpuC1Ev48p"
      }
    },
    {
      "cell_type": "code",
      "source": [
        "from tensorflow.keras import models, layers, utils\n",
        "\n",
        "def build_mnistmodel():\n",
        "  x = layers.Input(shape=(28,28))\n",
        "  y = layers.Flatten()(x)\n",
        "  y = layers.Dense(256, activation='relu')(y)\n",
        "  y = layers.Dense(256, activation='relu')(y)\n",
        "  y = layers.Dense(10, activation='softmax')(y)\n",
        "\n",
        "  model = models.Model(x, y)\n",
        "  return model"
      ],
      "metadata": {
        "id": "bDFZF-9Jv48q"
      },
      "execution_count": 77,
      "outputs": []
    },
    {
      "cell_type": "markdown",
      "source": [
        "#### **모델 시각화**\n",
        "\n",
        "* `model.summary()`\n",
        "* `utils.plot_model()`"
      ],
      "metadata": {
        "id": "nopDIQEiv48q"
      }
    },
    {
      "cell_type": "code",
      "source": [
        "model = build_mnistmodel()\n",
        "model.summary()\n",
        "utils.plot_model(model, show_shapes=True)"
      ],
      "metadata": {
        "id": "rXzVjMLpv48q",
        "colab": {
          "base_uri": "https://localhost:8080/",
          "height": 882
        },
        "outputId": "a43a9e2f-eb95-4b57-e0bc-512693715a2b"
      },
      "execution_count": 78,
      "outputs": [
        {
          "output_type": "stream",
          "name": "stdout",
          "text": [
            "Model: \"model_11\"\n",
            "_________________________________________________________________\n",
            " Layer (type)                Output Shape              Param #   \n",
            "=================================================================\n",
            " input_19 (InputLayer)       [(None, 28, 28)]          0         \n",
            "                                                                 \n",
            " flatten_15 (Flatten)        (None, 784)               0         \n",
            "                                                                 \n",
            " dense_36 (Dense)            (None, 256)               200960    \n",
            "                                                                 \n",
            " dense_37 (Dense)            (None, 256)               65792     \n",
            "                                                                 \n",
            " dense_38 (Dense)            (None, 10)                2570      \n",
            "                                                                 \n",
            "=================================================================\n",
            "Total params: 269,322\n",
            "Trainable params: 269,322\n",
            "Non-trainable params: 0\n",
            "_________________________________________________________________\n"
          ]
        },
        {
          "output_type": "execute_result",
          "data": {
            "text/plain": [
              "<IPython.core.display.Image object>"
            ],
            "image/png": "[encoded data removed]"
          },
          "metadata": {},
          "execution_count": 78
        }
      ]
    },
    {
      "cell_type": "markdown",
      "source": [
        "### | 학습"
      ],
      "metadata": {
        "id": "mwtIo0te0dvn"
      }
    },
    {
      "cell_type": "markdown",
      "source": [
        "#### **모델 컴파일**\n",
        "\n",
        "```\n",
        "model.compile(loss, optimizer, metrics) \n",
        "```\n",
        "* `loss` : 원-핫 인코딩이 안 된 상태에서는 'sparse_categorical_crossentropy' 사용\n",
        "* `optimizer` : 'adam'\n",
        "* `metrics`: 'accuracy'\n"
      ],
      "metadata": {
        "id": "BEN3BQFF0dvt"
      }
    },
    {
      "cell_type": "code",
      "source": [
        "model.compile(loss = 'sparse_categorical_crossentropy',\n",
        "              optimizer = 'adam',\n",
        "              metrics = ['accuracy'])"
      ],
      "metadata": {
        "id": "RhuM6-_f0dvt"
      },
      "execution_count": 81,
      "outputs": []
    },
    {
      "cell_type": "markdown",
      "source": [
        "#### **학습**\n",
        "\n",
        "```\n",
        "model.fit(x_train, y_train, epochs, batch_size)\n",
        "```\n",
        "* `x_train` : 넘파이 혹은 텐서 형식의 인풋 데이터\n",
        "* `y_train` : 넘파이 혹은 텐서 형식의 아웃풋 데이터\n",
        "* `epochs` : 학습 횟수\n",
        "* `batch_size` : 배치 사이즈 ((업데이트 한번에 사용될 샘플 개수)"
      ],
      "metadata": {
        "id": "weF5ryop0dvt"
      }
    },
    {
      "cell_type": "code",
      "source": [
        "model.fit(x_train, y_train, epochs = 10, batch_size = 16)"
      ],
      "metadata": {
        "id": "URyV2ICw0dvt",
        "colab": {
          "base_uri": "https://localhost:8080/"
        },
        "outputId": "ef6d3df1-27de-4bdb-e52b-395dd504069d"
      },
      "execution_count": 84,
      "outputs": [
        {
          "output_type": "stream",
          "name": "stdout",
          "text": [
            "Epoch 1/10\n",
            "3750/3750 [==============================] - 14s 4ms/step - loss: 0.0196 - accuracy: 0.9943\n",
            "Epoch 2/10\n",
            "3750/3750 [==============================] - 9s 3ms/step - loss: 0.0179 - accuracy: 0.9951\n",
            "Epoch 3/10\n",
            "3750/3750 [==============================] - 9s 3ms/step - loss: 0.0178 - accuracy: 0.9951\n",
            "Epoch 4/10\n",
            "3750/3750 [==============================] - 9s 3ms/step - loss: 0.0153 - accuracy: 0.9959\n",
            "Epoch 5/10\n",
            "3750/3750 [==============================] - 9s 3ms/step - loss: 0.0163 - accuracy: 0.9958\n",
            "Epoch 6/10\n",
            "3750/3750 [==============================] - 12s 3ms/step - loss: 0.0176 - accuracy: 0.9954\n",
            "Epoch 7/10\n",
            "3750/3750 [==============================] - 9s 3ms/step - loss: 0.0146 - accuracy: 0.9958\n",
            "Epoch 8/10\n",
            "3750/3750 [==============================] - 10s 3ms/step - loss: 0.0157 - accuracy: 0.9962\n",
            "Epoch 9/10\n",
            "3750/3750 [==============================] - 10s 3ms/step - loss: 0.0154 - accuracy: 0.9963\n",
            "Epoch 10/10\n",
            "3750/3750 [==============================] - 9s 3ms/step - loss: 0.0148 - accuracy: 0.9962\n"
          ]
        },
        {
          "output_type": "execute_result",
          "data": {
            "text/plain": [
              "<keras.callbacks.History at 0x7f51b548b810>"
            ]
          },
          "metadata": {},
          "execution_count": 84
        }
      ]
    },
    {
      "cell_type": "markdown",
      "source": [
        "### | 검증 및 예측\n"
      ],
      "metadata": {
        "id": "4UIAL_HA0dvt"
      }
    },
    {
      "cell_type": "markdown",
      "source": [
        "#### **검증**\n",
        "\n",
        "```\n",
        "model.evaluate(x_test, y_test)\n",
        "```\n",
        "* `x_test` : 넘파이 혹은 텐서 형식의 인풋 테스트 데이터\n",
        "* `y_test` : 넘파이 혹은 텐서 형식의 아웃풋 테스트 데이터"
      ],
      "metadata": {
        "id": "JNcvTwyU0dvt"
      }
    },
    {
      "cell_type": "code",
      "source": [
        "model.evaluate(x_test, y_test)"
      ],
      "metadata": {
        "id": "blrfzkKN0dvu",
        "colab": {
          "base_uri": "https://localhost:8080/"
        },
        "outputId": "28274233-5cec-487f-c59e-dacc581148b9"
      },
      "execution_count": 85,
      "outputs": [
        {
          "output_type": "stream",
          "name": "stdout",
          "text": [
            "313/313 [==============================] - 1s 3ms/step - loss: 0.1702 - accuracy: 0.9798\n"
          ]
        },
        {
          "output_type": "execute_result",
          "data": {
            "text/plain": [
              "[0.17023052275180817, 0.9797999858856201]"
            ]
          },
          "metadata": {},
          "execution_count": 85
        }
      ]
    },
    {
      "cell_type": "markdown",
      "source": [
        "#### **예측**\n",
        "\n",
        "```\n",
        "model.predict(x_test)\n",
        "```\n",
        "* `x_test` : 넘파이 혹은 텐서 형식의 인풋 테스트 데이터\n",
        "* `y_test` : 넘파이 혹은 텐서 형식의 아웃풋 테스트 데이터"
      ],
      "metadata": {
        "id": "4IHDLt-D0dvu"
      }
    },
    {
      "cell_type": "code",
      "source": [
        "y_pred = np.argmax(model.predict(x_test), axis=1)"
      ],
      "metadata": {
        "id": "P2lPLl970dvu"
      },
      "execution_count": 87,
      "outputs": []
    },
    {
      "cell_type": "markdown",
      "source": [
        "* 예측 시각화"
      ],
      "metadata": {
        "id": "xyDfuLj-0dvu"
      }
    },
    {
      "cell_type": "code",
      "source": [
        "# 혼돈행렬 만들기\n",
        "from sklearn.metrics import confusion_matrix, ConfusionMatrixDisplay\n",
        "\n",
        "# confusion_matrix는 정수값이 들어가야함\n",
        "cm = confusion_matrix(y_test,y_pred)\n",
        "ConfusionMatrixDisplay(cm).plot();"
      ],
      "metadata": {
        "id": "GrBlEHxm0dvu",
        "colab": {
          "base_uri": "https://localhost:8080/",
          "height": 279
        },
        "outputId": "477fc77f-2da7-4659-ffad-84b27c04b98e"
      },
      "execution_count": 90,
      "outputs": [
        {
          "output_type": "display_data",
          "data": {
            "text/plain": [
              "<Figure size 432x288 with 2 Axes>"
            ],
            "image/png": "[encoded data removed]"
          },
          "metadata": {
            "needs_background": "light"
          }
        }
      ]
    },
    {
      "cell_type": "markdown",
      "source": [
        "* 모델 활용"
      ],
      "metadata": {
        "id": "4-APLR7G2Dep"
      }
    },
    {
      "cell_type": "code",
      "source": [
        ""
      ],
      "metadata": {
        "id": "3e_9LSrE0wbl"
      },
      "execution_count": null,
      "outputs": []
    },
    {
      "cell_type": "code",
      "source": [
        ""
      ],
      "metadata": {
        "id": "sCp8tPhh2G14"
      },
      "execution_count": null,
      "outputs": []
    }
  ]
}
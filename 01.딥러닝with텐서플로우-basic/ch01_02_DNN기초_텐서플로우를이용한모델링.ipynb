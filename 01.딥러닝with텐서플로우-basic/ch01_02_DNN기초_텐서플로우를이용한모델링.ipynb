{
  "nbformat": 4,
  "nbformat_minor": 0,
  "metadata": {
    "colab": {
      "name": "ch01_02_DNN기초_텐서플로우를이용한모델링.ipynb",
      "provenance": [],
      "collapsed_sections": [],
      "include_colab_link": true
    },
    "kernelspec": {
      "name": "python3",
      "display_name": "Python 3"
    },
    "language_info": {
      "name": "python"
    }
  },
  "cells": [
    {
      "cell_type": "markdown",
      "metadata": {
        "id": "view-in-github",
        "colab_type": "text"
      },
      "source": [
        "<a href=\"https://colab.research.google.com/github/pthkbs123/SkillTreePython-DeepLearning/blob/main/01.%EB%94%A5%EB%9F%AC%EB%8B%9Dwith%ED%85%90%EC%84%9C%ED%94%8C%EB%A1%9C%EC%9A%B0-basic/ch01_02_DNN%EA%B8%B0%EC%B4%88_%ED%85%90%EC%84%9C%ED%94%8C%EB%A1%9C%EC%9A%B0%EB%A5%BC%EC%9D%B4%EC%9A%A9%ED%95%9C%EB%AA%A8%EB%8D%B8%EB%A7%81.ipynb\" target=\"_parent\"><img src=\"https://colab.research.google.com/assets/colab-badge.svg\" alt=\"Open In Colab\"/></a>"
      ]
    },
    {
      "cell_type": "markdown",
      "source": [
        "# ch01_02_DNN기초-텐서플로우를 이용한 모델링\n",
        "\n",
        "---\n",
        "* 날짜: 2022-06-27\n",
        "* 이름: 박태현\n",
        "\n",
        "## 학습내용\n",
        "    - 텐서플로우를 이용해 모델을 구현한다.\n",
        "    - 생성한 모델을 이용해 순전파 계산을 진행한다.\n",
        "    - 텐서플로우로 모델을 구현하는 여러 방법에 대핼 배워본다. \n",
        "\n",
        "## 학습자료\n",
        "\n",
        "\n",
        "- 케라스 창시자에게 배우는 딥러닝\n",
        "- 텐서플로우 케라스 : https://www.tensorflow.org/?hl=ko\n"
      ],
      "metadata": {
        "id": "ARxSsvgZFhdx"
      }
    },
    {
      "cell_type": "code",
      "source": [
        "import numpy as np\n",
        "import tensorflow as tf\n",
        "tf.__version__"
      ],
      "metadata": {
        "id": "FH_uBeAD1qZ1",
        "colab": {
          "base_uri": "https://localhost:8080/",
          "height": 35
        },
        "outputId": "afb75799-f278-488d-81ee-b472642764f0"
      },
      "execution_count": 1,
      "outputs": [
        {
          "output_type": "execute_result",
          "data": {
            "text/plain": [
              "'2.8.2'"
            ],
            "application/vnd.google.colaboratory.intrinsic+json": {
              "type": "string"
            }
          },
          "metadata": {},
          "execution_count": 1
        }
      ]
    },
    {
      "cell_type": "markdown",
      "source": [
        "## DNN 기본 이해\n",
        "---"
      ],
      "metadata": {
        "id": "MzqveLvV0dks"
      }
    },
    {
      "cell_type": "markdown",
      "source": [
        "\n",
        "### | 모델링 (1)\n",
        "\n",
        "\n",
        "<p align='center'>\n",
        "<img src=https://github.com/yebiny/SkillTreePython-DeepLearning/blob/main/imgs/ch0101-01.png?raw=true width=450>\n",
        "</p>\n"
      ],
      "metadata": {
        "id": "5f0taefIrVkW"
      }
    },
    {
      "cell_type": "markdown",
      "source": [
        "#### **모델 구현**"
      ],
      "metadata": {
        "id": "Spn6iy6TMZLE"
      }
    },
    {
      "cell_type": "code",
      "source": [
        "# 레이어는 tensorflow.keras에 있다.\n",
        "from tensorflow.keras import layers, models\n",
        "\n",
        "x = layers.Input(shape = (3), name = 'input_layer') # X : 1.3\n",
        "y = layers.Dense(1, name = 'output_layer')(x) # Linear : W,b. Dense(ouput_shape)\n",
        "\n",
        "model1 = models.Model(inputs = x, outputs = y, name = 'Model_1')"
      ],
      "metadata": {
        "id": "ol1G6zFpzzQy"
      },
      "execution_count": 15,
      "outputs": []
    },
    {
      "cell_type": "markdown",
      "source": [
        "* 모델 시각화\n",
        "  * `.summary()`\n",
        "  * `tensorflow.keras.utils.plot_model()`"
      ],
      "metadata": {
        "id": "buNi5cvx6s_f"
      }
    },
    {
      "cell_type": "code",
      "source": [
        "from tensorflow.keras import utils\n",
        "# Output shape : 데이터 변환 과정\n",
        "# None : 데이터 개수\n",
        "# Param # : 파라미터 개수\n",
        "# Trainable param : 학습 가능한 파라미터 (역전파 통해서 업데이트)\n",
        "# Non-trainable param : 학습 하지 않는 파라미터\n",
        "model1.summary()\n",
        "utils.plot_model(model1, show_shapes=True)"
      ],
      "metadata": {
        "id": "DALpoYDrmlGi",
        "colab": {
          "base_uri": "https://localhost:8080/",
          "height": 440
        },
        "outputId": "9a992175-729d-4247-a2e9-a1abf2e30f53"
      },
      "execution_count": 16,
      "outputs": [
        {
          "output_type": "stream",
          "name": "stdout",
          "text": [
            "Model: \"Model_1\"\n",
            "_________________________________________________________________\n",
            " Layer (type)                Output Shape              Param #   \n",
            "=================================================================\n",
            " input_layer (InputLayer)    [(None, 3)]               0         \n",
            "                                                                 \n",
            " output_layer (Dense)        (None, 1)                 4         \n",
            "                                                                 \n",
            "=================================================================\n",
            "Total params: 4\n",
            "Trainable params: 4\n",
            "Non-trainable params: 0\n",
            "_________________________________________________________________\n"
          ]
        },
        {
          "output_type": "execute_result",
          "data": {
            "text/plain": [
              "<IPython.core.display.Image object>"
            ],
            "image/png": "[encoded data removed]"
          },
          "metadata": {},
          "execution_count": 16
        }
      ]
    },
    {
      "cell_type": "markdown",
      "source": [
        "#### **파라미터** \n",
        "\n",
        "<p align='center'>\n",
        "<img src=https://github.com/yebiny/SkillTreePython-DeepLearning/blob/main/imgs/ch0101-04.png?raw=true width=900>\n",
        "</p>\n"
      ],
      "metadata": {
        "id": "NYFWTExFqYH_"
      }
    },
    {
      "cell_type": "markdown",
      "source": [
        "* 데이터 플로우 : 데이터의 변환 과정을 확인하세요.\n",
        "  * `layer.output`\n"
      ],
      "metadata": {
        "id": "wWF_aUpbklsa"
      }
    },
    {
      "cell_type": "code",
      "source": [
        "# output : 데이터의 변환 과정\n",
        "for layer in model1.layers:\n",
        "  print(layer.name) # 각 레이어의 이름\n",
        "  print(layer.output.shape) # 각 레이어의 아웃풋의 shape"
      ],
      "metadata": {
        "id": "DlBj87Rtklsa",
        "colab": {
          "base_uri": "https://localhost:8080/"
        },
        "outputId": "6f041346-9411-4f7a-8904-bce2acacf37f"
      },
      "execution_count": 18,
      "outputs": [
        {
          "output_type": "stream",
          "name": "stdout",
          "text": [
            "input_layer\n",
            "(None, 3)\n",
            "output_layer\n",
            "(None, 1)\n"
          ]
        }
      ]
    },
    {
      "cell_type": "markdown",
      "source": [
        "* 학습 파라미터 : 학습 파라미터의 shape를 확인하세요.\n",
        "  * `.get_weights()`"
      ],
      "metadata": {
        "id": "psYEdHG8rHT-"
      }
    },
    {
      "cell_type": "code",
      "source": [
        "'''\n",
        "W : (3,1)\n",
        "B : (1,)\n",
        "'''\n",
        "for param in model1.get_weights():\n",
        "  print(param.shape)\n",
        "\n",
        "print(model1.get_weights())"
      ],
      "metadata": {
        "id": "LamoOVNRrLKe",
        "colab": {
          "base_uri": "https://localhost:8080/"
        },
        "outputId": "d719adba-d8a5-46dd-b135-e7ac365bbcdc"
      },
      "execution_count": 19,
      "outputs": [
        {
          "output_type": "stream",
          "name": "stdout",
          "text": [
            "(3, 1)\n",
            "(1,)\n",
            "[array([[ 0.54578173],\n",
            "       [-1.0590113 ],\n",
            "       [ 0.15368557]], dtype=float32), array([0.], dtype=float32)]\n"
          ]
        }
      ]
    },
    {
      "cell_type": "markdown",
      "source": [
        "#### **순전파 계산**\n",
        "\n",
        "현재 초기화되어 있는 학습파라미터를 이용해 Y를 계산해 보세요.\n",
        "X는 랜덤한 숫자로 적용하세요.\n",
        "* `np.random.normal`"
      ],
      "metadata": {
        "id": "RE9XeArWBMoh"
      }
    },
    {
      "cell_type": "code",
      "source": [
        "X = np.random.normal(size = (1,3))\n",
        "print(X)\n",
        "Y_pred = model1.predict(X)\n",
        "print(Y_pred)"
      ],
      "metadata": {
        "id": "DC0otNklBMoh",
        "colab": {
          "base_uri": "https://localhost:8080/"
        },
        "outputId": "b0a4e62d-f242-4b36-f96a-1a744115c407"
      },
      "execution_count": 24,
      "outputs": [
        {
          "output_type": "stream",
          "name": "stdout",
          "text": [
            "[[-0.61906016  1.07227176 -0.31363484]]\n",
            "[[-1.5216209]]\n"
          ]
        }
      ]
    },
    {
      "cell_type": "markdown",
      "source": [
        "### | 모델링 (2)\n",
        "\n",
        "<p align='center'>\n",
        "<img src=https://github.com/yebiny/SkillTreePython-DeepLearning/blob/main/imgs/ch0101-02.png?raw=true width=450>\n",
        "</p>\n"
      ],
      "metadata": {
        "id": "CLRoUfPKvQRp"
      }
    },
    {
      "cell_type": "markdown",
      "source": [
        "#### **모델 구현**"
      ],
      "metadata": {
        "id": "-Ae5REJwMaTd"
      }
    },
    {
      "cell_type": "code",
      "source": [
        "from tensorflow.keras import layers, models, utils\n",
        "\n",
        "x = layers.Input(shape = (3), name = 'input_layer')\n",
        "y = layers.Dense(2, name = 'output_layer')(x)\n",
        "\n",
        "model2 = models.Model(inputs = x, outputs = y, name = 'Model_2')"
      ],
      "metadata": {
        "id": "ds6Y10NIDPX4"
      },
      "execution_count": 59,
      "outputs": []
    },
    {
      "cell_type": "markdown",
      "source": [
        "* 모델 시각화\n",
        "  * `.summary()`\n",
        "  * `tensorflow.keras.utils.plot_model()`"
      ],
      "metadata": {
        "id": "cqllNVUpDPX4"
      }
    },
    {
      "cell_type": "code",
      "source": [
        "model2.summary()\n",
        "utils.plot_model(model2, show_shapes=True)"
      ],
      "metadata": {
        "id": "JtYmoeGqDPX4",
        "colab": {
          "base_uri": "https://localhost:8080/",
          "height": 440
        },
        "outputId": "9d765cd9-4358-4341-eef1-6729f81eaa88"
      },
      "execution_count": 62,
      "outputs": [
        {
          "output_type": "stream",
          "name": "stdout",
          "text": [
            "Model: \"Model_2\"\n",
            "_________________________________________________________________\n",
            " Layer (type)                Output Shape              Param #   \n",
            "=================================================================\n",
            " input_layer (InputLayer)    [(None, 3)]               0         \n",
            "                                                                 \n",
            " output_layer (Dense)        (None, 2)                 8         \n",
            "                                                                 \n",
            "=================================================================\n",
            "Total params: 8\n",
            "Trainable params: 8\n",
            "Non-trainable params: 0\n",
            "_________________________________________________________________\n"
          ]
        },
        {
          "output_type": "execute_result",
          "data": {
            "text/plain": [
              "<IPython.core.display.Image object>"
            ],
            "image/png": "[encoded data removed]"
          },
          "metadata": {},
          "execution_count": 62
        }
      ]
    },
    {
      "cell_type": "markdown",
      "source": [
        "#### **파라미터** \n",
        "\n",
        "<p align='center'>\n",
        "<img src=https://github.com/yebiny/SkillTreePython-DeepLearning/blob/main/imgs/ch0101-05.png?raw=true width=900>\n",
        "</p>\n"
      ],
      "metadata": {
        "id": "FiQBcveRvQRq"
      }
    },
    {
      "cell_type": "markdown",
      "source": [
        "* 데이터 플로우 : 데이터의 변환 과정을 확인하세요.\n",
        "  * `layer.output`\n"
      ],
      "metadata": {
        "id": "47Bi4i9LDPX5"
      }
    },
    {
      "cell_type": "code",
      "source": [
        "for layer in model2.layers:\n",
        "  print(layer.name)\n",
        "  print(layer.output.shape) "
      ],
      "metadata": {
        "id": "5NBk9svKDPX5",
        "colab": {
          "base_uri": "https://localhost:8080/"
        },
        "outputId": "05fb524b-6780-4a66-e71d-6f350b20326d"
      },
      "execution_count": 63,
      "outputs": [
        {
          "output_type": "stream",
          "name": "stdout",
          "text": [
            "input_layer\n",
            "(None, 3)\n",
            "output_layer\n",
            "(None, 2)\n"
          ]
        }
      ]
    },
    {
      "cell_type": "markdown",
      "source": [
        "* 학습 파라미터 : 학습 파라미터의 shape를 확인하세요.\n",
        "  * `.get_weights()`"
      ],
      "metadata": {
        "id": "s5XkjLJMDPX5"
      }
    },
    {
      "cell_type": "code",
      "source": [
        "'''\n",
        "W : (3,2)\n",
        "B : (2,)\n",
        "'''\n",
        "for param in model2.get_weights():\n",
        "  print(param.shape)\n",
        "\n",
        "print(model2.get_weights())"
      ],
      "metadata": {
        "id": "XHMP6-qxDPX5",
        "colab": {
          "base_uri": "https://localhost:8080/"
        },
        "outputId": "ed689f49-fcb8-4f94-8605-82483b93f7f9"
      },
      "execution_count": 64,
      "outputs": [
        {
          "output_type": "stream",
          "name": "stdout",
          "text": [
            "(3, 2)\n",
            "(2,)\n",
            "[array([[ 0.6639123 , -0.597352  ],\n",
            "       [ 1.0942581 ,  0.3199116 ],\n",
            "       [-0.13036942,  0.1008786 ]], dtype=float32), array([0., 0.], dtype=float32)]\n"
          ]
        }
      ]
    },
    {
      "cell_type": "markdown",
      "source": [
        "#### **순전파 계산**\n",
        "\n",
        "현재 초기화되어 있는 학습파라미터를 이용해 Y를 계산해 보세요.\n",
        "X는 랜덤한 숫자로 적용하세요.\n",
        "* `np.random.normal`"
      ],
      "metadata": {
        "id": "PXaQ_U9hBKD4"
      }
    },
    {
      "cell_type": "code",
      "source": [
        "X = np.random.normal(size = (1,3))\n",
        "print(X)\n",
        "Y_pred = model2.predict(X)\n",
        "print(Y_pred)"
      ],
      "metadata": {
        "id": "f0PpJMe-BKD4",
        "colab": {
          "base_uri": "https://localhost:8080/"
        },
        "outputId": "9f86e47f-22fc-4f17-e03a-1015ec8dec9d"
      },
      "execution_count": 65,
      "outputs": [
        {
          "output_type": "stream",
          "name": "stdout",
          "text": [
            "[[ 0.3039633  -0.92612809  1.44531068]]\n",
            "[[-1.0000424 -0.3320513]]\n"
          ]
        }
      ]
    },
    {
      "cell_type": "markdown",
      "source": [
        "### | 모델링 (3)\n",
        "\n",
        "<p align='center'>\n",
        "<img src=https://github.com/yebiny/SkillTreePython-DeepLearning/blob/main/imgs/ch0101-03.png?raw=true width=550>\n",
        "</p>\n"
      ],
      "metadata": {
        "id": "pdq32nZCwMiL"
      }
    },
    {
      "cell_type": "markdown",
      "source": [
        "#### **모델 구현**"
      ],
      "metadata": {
        "id": "MMR9-36eJQbl"
      }
    },
    {
      "cell_type": "code",
      "source": [
        "from tensorflow.keras import layers, models, utils\n",
        "\n",
        "x = layers.Input(shape = (3), name = 'input_layer')\n",
        "y = layers.Dense(2)(x)\n",
        "y = layers.Dense(2, name = 'output_layer')(y)\n",
        "\n",
        "model3 = models.Model(x, y, name = 'Model_3')"
      ],
      "metadata": {
        "id": "Z2IuUrLswMiL"
      },
      "execution_count": 68,
      "outputs": []
    },
    {
      "cell_type": "markdown",
      "source": [
        "* 모델 시각화\n",
        "  * `.summary()`\n",
        "  * `tensorflow.keras.utils.plot_model()`"
      ],
      "metadata": {
        "id": "7O3UAyO1Fs9U"
      }
    },
    {
      "cell_type": "code",
      "source": [
        "model3.summary()\n",
        "utils.plot_model(model3, show_shapes=True)"
      ],
      "metadata": {
        "id": "fM20ihdrFs9U",
        "colab": {
          "base_uri": "https://localhost:8080/",
          "height": 587
        },
        "outputId": "46a3a809-6924-47c5-9d48-65028a894d4b"
      },
      "execution_count": 69,
      "outputs": [
        {
          "output_type": "stream",
          "name": "stdout",
          "text": [
            "Model: \"Model_3\"\n",
            "_________________________________________________________________\n",
            " Layer (type)                Output Shape              Param #   \n",
            "=================================================================\n",
            " input_layer (InputLayer)    [(None, 3)]               0         \n",
            "                                                                 \n",
            " dense_43 (Dense)            (None, 2)                 8         \n",
            "                                                                 \n",
            " output_layer (Dense)        (None, 2)                 6         \n",
            "                                                                 \n",
            "=================================================================\n",
            "Total params: 14\n",
            "Trainable params: 14\n",
            "Non-trainable params: 0\n",
            "_________________________________________________________________\n"
          ]
        },
        {
          "output_type": "execute_result",
          "data": {
            "text/plain": [
              "<IPython.core.display.Image object>"
            ],
            "image/png": "[encoded data removed]"
          },
          "metadata": {},
          "execution_count": 69
        }
      ]
    },
    {
      "cell_type": "markdown",
      "source": [
        "#### **파라미터** \n",
        "\n",
        "<p align='center'>\n",
        "<img src=https://github.com/yebiny/SkillTreePython-DeepLearning/blob/main/imgs/ch0101-06.png?raw=true width=900>\n",
        "</p>\n"
      ],
      "metadata": {
        "id": "b6McWfzgwMiL"
      }
    },
    {
      "cell_type": "markdown",
      "source": [
        "* 데이터 플로우 : 데이터의 변환 과정을 확인하세요.\n",
        "  * `layer.output`\n",
        "\n"
      ],
      "metadata": {
        "id": "iJlWs5SPGPY1"
      }
    },
    {
      "cell_type": "code",
      "source": [
        "for layer in model3.layers:\n",
        "  print(layer.name)\n",
        "  print(layer.output.shape) "
      ],
      "metadata": {
        "id": "mCGGTr0vGPY2",
        "colab": {
          "base_uri": "https://localhost:8080/"
        },
        "outputId": "94560484-333e-45bf-f9f3-5afed9ffccb1"
      },
      "execution_count": 70,
      "outputs": [
        {
          "output_type": "stream",
          "name": "stdout",
          "text": [
            "input_layer\n",
            "(None, 3)\n",
            "dense_43\n",
            "(None, 2)\n",
            "output_layer\n",
            "(None, 2)\n"
          ]
        }
      ]
    },
    {
      "cell_type": "markdown",
      "source": [
        "* 학습 파라미터 : 학습 파라미터의 shape를 확인하세요.\n",
        "  * `.get_weights()`"
      ],
      "metadata": {
        "id": "wcXGgS5wGPY2"
      }
    },
    {
      "cell_type": "code",
      "source": [
        "'''\n",
        "W1 : (3,2)\n",
        "B1 : (2,)\n",
        "W2 : (2,2)\n",
        "B2 : (2,)\n",
        "'''\n",
        "for param in model3.get_weights():\n",
        "  print(param.shape)\n",
        "\n",
        "print(model3.get_weights())"
      ],
      "metadata": {
        "id": "_dHFFVP9GPY2",
        "colab": {
          "base_uri": "https://localhost:8080/"
        },
        "outputId": "7466be5e-3ada-48b7-bd8a-3650f1acbd1a"
      },
      "execution_count": 72,
      "outputs": [
        {
          "output_type": "stream",
          "name": "stdout",
          "text": [
            "(3, 2)\n",
            "(2,)\n",
            "(2, 2)\n",
            "(2,)\n",
            "[array([[ 0.9701953 ,  0.5314237 ],\n",
            "       [-0.9468178 , -0.71022844],\n",
            "       [-0.39032316,  0.08440351]], dtype=float32), array([0., 0.], dtype=float32), array([[-0.6016303 ,  0.96860254],\n",
            "       [-0.356153  , -1.1091639 ]], dtype=float32), array([0., 0.], dtype=float32)]\n"
          ]
        }
      ]
    },
    {
      "cell_type": "markdown",
      "source": [
        "#### **순전파 계산**\n",
        "\n",
        "현재 초기화되어 있는 학습파라미터를 이용해 Y를 계산해 보세요.\n",
        "X는 랜덤한 숫자로 적용하세요.\n",
        "* `np.random.normal`"
      ],
      "metadata": {
        "id": "QXBhbZTdBF_f"
      }
    },
    {
      "cell_type": "code",
      "source": [
        "X = np.random.normal(size = (1,3))\n",
        "print(X)\n",
        "Y_pred = model3.predict(X)\n",
        "print(Y_pred)"
      ],
      "metadata": {
        "id": "mFLI_U-BBF_g",
        "colab": {
          "base_uri": "https://localhost:8080/"
        },
        "outputId": "e6e24f44-76d5-4f6a-ad77-80c9b8263151"
      },
      "execution_count": 73,
      "outputs": [
        {
          "output_type": "stream",
          "name": "stdout",
          "text": [
            "[[ 0.66879425 -0.38585128  0.94806392]]\n",
            "[[-0.6402164  -0.16300848]]\n"
          ]
        }
      ]
    },
    {
      "cell_type": "markdown",
      "source": [
        "### | 모델링 (4)\n",
        "\n",
        "<p align='center'>\n",
        "<img src=https://github.com/yebiny/SkillTreePython-DeepLearning/blob/main/imgs/ch0101-12.png?raw=true width=820>"
      ],
      "metadata": {
        "id": "iF1Pr3EaoAF7"
      }
    },
    {
      "cell_type": "markdown",
      "source": [
        "#### **모델 구현**"
      ],
      "metadata": {
        "id": "B5AjRa732e7p"
      }
    },
    {
      "cell_type": "code",
      "source": [
        "from tensorflow.keras import layers, models, utils\n",
        "\n",
        "x = layers.Input(shape = (4,), name = 'Input_layer')\n",
        "z1 = layers.Dense(8)(x)\n",
        "z2 = layers.Dense(8)(z1)\n",
        "y = layers.Dense(3)(z2)\n",
        "model4 = models.Model(inputs = x, outputs = y, name = 'Model_4')\n",
        "\n",
        "model4.summary()\n",
        "utils.plot_model(model4, show_shapes = True)"
      ],
      "metadata": {
        "id": "CgMWjNgu2e7y",
        "colab": {
          "base_uri": "https://localhost:8080/",
          "height": 734
        },
        "outputId": "18a55cf7-6b0d-4b02-a675-cec83101d4f6"
      },
      "execution_count": 37,
      "outputs": [
        {
          "output_type": "stream",
          "name": "stdout",
          "text": [
            "Model: \"Model_4\"\n",
            "_________________________________________________________________\n",
            " Layer (type)                Output Shape              Param #   \n",
            "=================================================================\n",
            " Input_layer (InputLayer)    [(None, 4)]               0         \n",
            "                                                                 \n",
            " dense_23 (Dense)            (None, 8)                 40        \n",
            "                                                                 \n",
            " dense_24 (Dense)            (None, 8)                 72        \n",
            "                                                                 \n",
            " dense_25 (Dense)            (None, 3)                 27        \n",
            "                                                                 \n",
            "=================================================================\n",
            "Total params: 139\n",
            "Trainable params: 139\n",
            "Non-trainable params: 0\n",
            "_________________________________________________________________\n"
          ]
        },
        {
          "output_type": "execute_result",
          "data": {
            "text/plain": [
              "<IPython.core.display.Image object>"
            ],
            "image/png": "[encoded data removed]"
          },
          "metadata": {},
          "execution_count": 37
        }
      ]
    },
    {
      "cell_type": "markdown",
      "source": [
        "#### **파라미터** \n",
        "\n"
      ],
      "metadata": {
        "id": "SANpL92z1-bd"
      }
    },
    {
      "cell_type": "markdown",
      "source": [
        "* 데이터 플로우 : 데이터의 변환 과정을 확인하세요.\n",
        "  * `layer.output`\n",
        "\n"
      ],
      "metadata": {
        "id": "pBcmDE8ZybwG"
      }
    },
    {
      "cell_type": "code",
      "source": [
        "'''\n",
        "N은 데이터 개수\n",
        "X : (N,4) \n",
        "Z1 : (N,8) \n",
        "Z2 : (N,8)\n",
        "Y : (N,4)\n",
        "'''\n",
        "\n",
        "for layer in model4.layers:\n",
        "  print(layer.output_shape)"
      ],
      "metadata": {
        "id": "lc2W98-amfyP",
        "colab": {
          "base_uri": "https://localhost:8080/"
        },
        "outputId": "2468e64c-aca1-4e11-e163-e23b080625e3"
      },
      "execution_count": 32,
      "outputs": [
        {
          "output_type": "stream",
          "name": "stdout",
          "text": [
            "[(None, 4)]\n",
            "(None, 8)\n",
            "(None, 8)\n",
            "(None, 3)\n"
          ]
        }
      ]
    },
    {
      "cell_type": "markdown",
      "source": [
        "* 학습 파라미터 : 학습 파라미터의 shape를 확인하세요.\n",
        "  * `.get_weights()`"
      ],
      "metadata": {
        "id": "1f3wtqGoyz4n"
      }
    },
    {
      "cell_type": "code",
      "source": [
        "'''\n",
        "W1 : (4,8)\n",
        "B1 : (8,)\n",
        "W2 : (8,8)\n",
        "B2 : (8,)\n",
        "W3 : (8,3)\n",
        "B3 : (3,)\n",
        "'''\n",
        "\n",
        "for param in model4.get_weights():\n",
        "  print(param.shape)\n",
        "print(model4.get_weights())"
      ],
      "metadata": {
        "id": "YGL2joIdyz4o",
        "colab": {
          "base_uri": "https://localhost:8080/"
        },
        "outputId": "c92aefa0-4f31-49ef-eb7d-8117bec5c742"
      },
      "execution_count": 33,
      "outputs": [
        {
          "output_type": "stream",
          "name": "stdout",
          "text": [
            "(4, 8)\n",
            "(8,)\n",
            "(8, 8)\n",
            "(8,)\n",
            "(8, 3)\n",
            "(3,)\n",
            "[array([[ 0.6473245 ,  0.12216115,  0.48030013, -0.56539106,  0.04498774,\n",
            "        -0.2954484 ,  0.5840122 , -0.4081698 ],\n",
            "       [ 0.34387332, -0.4704207 ,  0.38388664,  0.0850935 ,  0.58882934,\n",
            "         0.51453155, -0.27140158, -0.56268907],\n",
            "       [ 0.42454487, -0.2987077 , -0.4744646 , -0.5468296 ,  0.28049248,\n",
            "        -0.40618655,  0.3390898 , -0.48295584],\n",
            "       [-0.0568409 , -0.10876435,  0.38113433, -0.1246326 ,  0.00153333,\n",
            "         0.480282  , -0.392667  , -0.08265787]], dtype=float32), array([0., 0., 0., 0., 0., 0., 0., 0.], dtype=float32), array([[-0.48376852, -0.3489971 ,  0.29037213, -0.60723233,  0.09468967,\n",
            "        -0.09167838, -0.2581211 , -0.19924316],\n",
            "       [ 0.05849791,  0.17814189, -0.1117391 ,  0.3654223 ,  0.06962246,\n",
            "        -0.06685299,  0.59526557, -0.22407761],\n",
            "       [-0.28287512, -0.41702315, -0.13608107,  0.57942647, -0.31493884,\n",
            "         0.04055554,  0.01149088,  0.28183383],\n",
            "       [ 0.07236594,  0.33160967, -0.59364474, -0.04783428, -0.15301195,\n",
            "        -0.38142666,  0.09387994, -0.03119689],\n",
            "       [ 0.4951375 ,  0.41514212,  0.37234992, -0.5160981 , -0.06503421,\n",
            "        -0.55067873,  0.22649568,  0.15782416],\n",
            "       [ 0.01674765,  0.2852894 , -0.32530943,  0.17255682, -0.1909624 ,\n",
            "         0.0225383 ,  0.41838092,  0.27649695],\n",
            "       [ 0.1707468 ,  0.3322487 , -0.36773062, -0.5221947 , -0.34456098,\n",
            "         0.32645643,  0.3952374 , -0.38525656],\n",
            "       [ 0.58223933, -0.20586911,  0.40247136,  0.06665659, -0.2877035 ,\n",
            "         0.41230327, -0.5775908 , -0.33926713]], dtype=float32), array([0., 0., 0., 0., 0., 0., 0., 0.], dtype=float32), array([[-0.3712827 , -0.3862243 ,  0.5707777 ],\n",
            "       [-0.4096695 , -0.38798055, -0.49360478],\n",
            "       [ 0.65463763,  0.5360878 ,  0.493213  ],\n",
            "       [-0.2121098 , -0.37699628,  0.71501166],\n",
            "       [-0.21067739, -0.3034214 , -0.5150014 ],\n",
            "       [ 0.52230483,  0.13988203,  0.29632097],\n",
            "       [-0.14891034, -0.32005623,  0.00621611],\n",
            "       [-0.39857745,  0.10378695,  0.61334807]], dtype=float32), array([0., 0., 0.], dtype=float32)]\n"
          ]
        }
      ]
    },
    {
      "cell_type": "markdown",
      "source": [
        "#### **순전파 계산**\n",
        "\n",
        "현재 초기화되어 있는 학습파라미터를 이용해 Y를 계산해 보세요.\n",
        "X는 랜덤한 숫자로 적용하세요.\n",
        "* `np.random.normal`"
      ],
      "metadata": {
        "id": "EtkJfyepMfJk"
      }
    },
    {
      "cell_type": "code",
      "source": [
        "X = np.random.normal(size = (1,4))\n",
        "Y_pred = model4.predict(X)\n",
        "print('X:', X, X.shape)\n",
        "print('Y_pred:', Y_pred, Y_pred.shape)\n"
      ],
      "metadata": {
        "id": "al1XlzJuMf9-",
        "colab": {
          "base_uri": "https://localhost:8080/"
        },
        "outputId": "bda646a1-6cfe-4a48-d4a8-587d34fb40d0"
      },
      "execution_count": 34,
      "outputs": [
        {
          "output_type": "stream",
          "name": "stdout",
          "text": [
            "X: [[0.23074062 0.12283454 1.92060955 0.23026733]] (1, 4)\n",
            "Y_pred: [[ 1.1233077  1.2913126 -1.8214356]] (1, 3)\n"
          ]
        }
      ]
    },
    {
      "cell_type": "markdown",
      "source": [
        "### | 병렬연산\n",
        "\n",
        "\n",
        "<p align='center'>\n",
        "<img src=https://github.com/yebiny/SkillTreePython-DeepLearning/blob/main/imgs/ch0101-13.png?raw=true width=820>\n",
        "\n"
      ],
      "metadata": {
        "id": "2B95PNoM0O9a"
      }
    },
    {
      "cell_type": "markdown",
      "source": [
        "#### **순전파 계산**\n",
        "\n",
        "Model4를 이용하여 Y를 계산해 보세요.\n",
        "X는 랜덤한 숫자로 적용하세요. X의 샘플 개수는 10개 입니다.\n",
        "* `np.random.normal`"
      ],
      "metadata": {
        "id": "LZoN8fo-PboK"
      }
    },
    {
      "cell_type": "code",
      "source": [
        "# 실제 데이터 (1000 - 100000 중에 배치 단위로 계산이 진행됨) 배치 사이즈 : 8,16, 32, 64,...\n",
        "X = np.random.normal(size = (10,4)) # 배치의 개수가 10개.\n",
        "Y_pred = model4.predict(X)\n",
        "print('X:', X, X.shape)\n",
        "print('Y_pred:', Y_pred, Y_pred.shape)"
      ],
      "metadata": {
        "id": "Vv1yq_uF4Vxu",
        "colab": {
          "base_uri": "https://localhost:8080/"
        },
        "outputId": "0b8a5235-a41d-4cf9-a3cf-bcc4856ca858"
      },
      "execution_count": 35,
      "outputs": [
        {
          "output_type": "stream",
          "name": "stdout",
          "text": [
            "X: [[ 0.56265941 -1.11930599 -1.62168315 -0.08868364]\n",
            " [-0.30833365 -0.10896267 -0.34824744  0.30613278]\n",
            " [ 2.58397929  2.14312546 -0.96952898  0.38596513]\n",
            " [ 0.72231013  1.29958221 -1.06096219  0.13259467]\n",
            " [-1.15152937 -0.08340602 -0.79263588  0.11044511]\n",
            " [ 0.42028024  0.11169034 -0.06389632  0.74803024]\n",
            " [-2.29332792 -0.95982726  0.12426726 -1.025605  ]\n",
            " [ 1.40385917  1.85109752  0.68456431 -0.83234805]\n",
            " [ 0.95213207 -1.26420284  0.97894441  0.6466597 ]\n",
            " [ 1.18388911  0.21520428 -0.41317217  0.47817531]] (10, 4)\n",
            "Y_pred: [[ 0.06948003 -0.76407194  1.509129  ]\n",
            " [-0.41963604 -0.4081092   0.67392236]\n",
            " [ 0.18102014  1.1922596  -0.44657427]\n",
            " [-0.735319   -0.05590918  0.4827337 ]\n",
            " [-1.2418962  -1.1643493   1.3369884 ]\n",
            " [ 0.06317083  0.20939939  0.30425966]\n",
            " [-0.8965379  -1.373888    0.47161287]\n",
            " [ 0.637008    1.4695987  -2.1825414 ]\n",
            " [ 1.7150388   0.98561907 -0.6642036 ]\n",
            " [ 0.41695473  0.4692609   0.12311107]] (10, 3)\n"
          ]
        }
      ]
    },
    {
      "cell_type": "markdown",
      "source": [
        "## 텐서플로우 - 모델을 만드는 세가지 방법\n",
        "---"
      ],
      "metadata": {
        "id": "cxfkYRgEl_CM"
      }
    },
    {
      "cell_type": "markdown",
      "metadata": {
        "id": "ek-Z53ZpxD7P"
      },
      "source": [
        "1. keras Sequential API\n",
        "2. Keras Functional API\n",
        "3. Model Class Subsclassing\n"
      ]
    },
    {
      "cell_type": "code",
      "source": [
        ""
      ],
      "metadata": {
        "id": "ynYVT_G104eR"
      },
      "execution_count": null,
      "outputs": []
    },
    {
      "cell_type": "markdown",
      "source": [
        "아래 그림과 같은 모델을 텐서플로우를 이용해서 만들어 봅시다.\n",
        "\n",
        "<p align='center'>\n",
        "<img src=https://github.com/yebiny/NCS-lecture-deeplearning/blob/main/imgs/01-testmodel1.PNG?raw=true width=600>"
      ],
      "metadata": {
        "id": "9KCc_ZoOlxBy"
      }
    },
    {
      "cell_type": "markdown",
      "metadata": {
        "id": "6fB29iRAxyP_"
      },
      "source": [
        "### | Keras Functional API"
      ]
    },
    {
      "cell_type": "markdown",
      "source": [
        "* 모델 구현"
      ],
      "metadata": {
        "id": "_nHacE06bPwT"
      }
    },
    {
      "cell_type": "code",
      "metadata": {
        "id": "nzzxJsKfxwXS"
      },
      "source": [
        "# 이 함수를 실행하면 아래와 같은 구성을 가진 모델이 반환\n",
        "def build_model1():\n",
        "  x = layers.Input(shape = (3,))\n",
        "  y = layers.Dense(6)(x)\n",
        "  y = layers.Dense(6)(y)\n",
        "  y = layers.Dense(1)(y)\n",
        "  model = models.Model(x, y)\n",
        "  return model\n"
      ],
      "execution_count": 48,
      "outputs": []
    },
    {
      "cell_type": "markdown",
      "source": [
        "* 시각화"
      ],
      "metadata": {
        "id": "fu5N77ex1uJH"
      }
    },
    {
      "cell_type": "code",
      "metadata": {
        "id": "KMP3U9hj1uJH",
        "colab": {
          "base_uri": "https://localhost:8080/",
          "height": 734
        },
        "outputId": "38a46742-181f-49c3-8585-16d9ebcc293e"
      },
      "source": [
        "m1 = build_model1()\n",
        "m1.summary()\n",
        "utils.plot_model(m1, show_shapes = True)"
      ],
      "execution_count": 49,
      "outputs": [
        {
          "output_type": "stream",
          "name": "stdout",
          "text": [
            "Model: \"model_5\"\n",
            "_________________________________________________________________\n",
            " Layer (type)                Output Shape              Param #   \n",
            "=================================================================\n",
            " input_5 (InputLayer)        [(None, 3)]               0         \n",
            "                                                                 \n",
            " dense_35 (Dense)            (None, 6)                 24        \n",
            "                                                                 \n",
            " dense_36 (Dense)            (None, 6)                 42        \n",
            "                                                                 \n",
            " dense_37 (Dense)            (None, 1)                 7         \n",
            "                                                                 \n",
            "=================================================================\n",
            "Total params: 73\n",
            "Trainable params: 73\n",
            "Non-trainable params: 0\n",
            "_________________________________________________________________\n"
          ]
        },
        {
          "output_type": "execute_result",
          "data": {
            "text/plain": [
              "<IPython.core.display.Image object>"
            ],
            "image/png": "[encoded data removed]"
          },
          "metadata": {},
          "execution_count": 49
        }
      ]
    },
    {
      "cell_type": "markdown",
      "metadata": {
        "id": "8aFljiFtxGUP"
      },
      "source": [
        "### | Keras Sequential API\n",
        "\n"
      ]
    },
    {
      "cell_type": "markdown",
      "source": [
        "* 모델 구현: `Sequential()`"
      ],
      "metadata": {
        "id": "j5xvJ7e01rbx"
      }
    },
    {
      "cell_type": "code",
      "metadata": {
        "id": "8Id8VOEiw-nT"
      },
      "source": [
        "def build_model2():\n",
        "  model = tf.keras.Sequential() # 빈 껍질을 만들어 놓은 것\n",
        "  model.add( layers.Input(shape = (3,)))\n",
        "  model.add( layers.Dense(6))\n",
        "  model.add( layers.Dense(6))\n",
        "  model.add( layers.Dense(1))\n",
        "  \n",
        "  return model"
      ],
      "execution_count": 50,
      "outputs": []
    },
    {
      "cell_type": "markdown",
      "source": [
        "* 모델 시각화"
      ],
      "metadata": {
        "id": "Xzmbgxa31oew"
      }
    },
    {
      "cell_type": "code",
      "metadata": {
        "id": "fc-0GKtqxopy",
        "colab": {
          "base_uri": "https://localhost:8080/",
          "height": 697
        },
        "outputId": "3ffd811e-be77-4335-88d0-0f7a6ab4729a"
      },
      "source": [
        "m2 = build_model2()\n",
        "m2.summary()\n",
        "utils.plot_model(m2, show_shapes = True)"
      ],
      "execution_count": 51,
      "outputs": [
        {
          "output_type": "stream",
          "name": "stdout",
          "text": [
            "Model: \"sequential\"\n",
            "_________________________________________________________________\n",
            " Layer (type)                Output Shape              Param #   \n",
            "=================================================================\n",
            " dense_38 (Dense)            (None, 6)                 24        \n",
            "                                                                 \n",
            " dense_39 (Dense)            (None, 6)                 42        \n",
            "                                                                 \n",
            " dense_40 (Dense)            (None, 1)                 7         \n",
            "                                                                 \n",
            "=================================================================\n",
            "Total params: 73\n",
            "Trainable params: 73\n",
            "Non-trainable params: 0\n",
            "_________________________________________________________________\n"
          ]
        },
        {
          "output_type": "execute_result",
          "data": {
            "text/plain": [
              "<IPython.core.display.Image object>"
            ],
            "image/png": "[encoded data removed]"
          },
          "metadata": {},
          "execution_count": 51
        }
      ]
    },
    {
      "cell_type": "markdown",
      "metadata": {
        "id": "J3weqVyOymnn"
      },
      "source": [
        "### | Model Class Subclassing"
      ]
    },
    {
      "cell_type": "markdown",
      "source": [
        "* 모델 구현"
      ],
      "metadata": {
        "id": "k8A4RhsPbbnS"
      }
    },
    {
      "cell_type": "code",
      "metadata": {
        "id": "Y8pq4dLnykdS"
      },
      "source": [
        "class Model3(tf.keras.Model): # 이미 존재하는 클래스를 불러올 때\n",
        "  def __init__(self):\n",
        "    super(Model3, self).__init__() # tf.keras.Model에 이미 정의되어 있는 (init)파라미터 불러오기\n",
        "    self._name = 'Model3'\n",
        "    self._input_shape = (3)\n",
        "    self.dense1 = layers.Dense(6, name = 'dense1')\n",
        "    self.dense2 = layers.Dense(6, name = 'dense2')\n",
        "    self.dense3 = layers.Dense(6, name = 'dense3')\n",
        "    \n",
        "  def call(self, x):\n",
        "    y = self.dense1(x)\n",
        "    y = self.dense2(y)\n",
        "    y = self.dense3(y)\n",
        "    return y"
      ],
      "execution_count": 55,
      "outputs": []
    },
    {
      "cell_type": "markdown",
      "source": [
        "* 모델 시각화"
      ],
      "metadata": {
        "id": "zgTALE5H17_3"
      }
    },
    {
      "cell_type": "code",
      "metadata": {
        "id": "HK0_O6i117_4",
        "colab": {
          "base_uri": "https://localhost:8080/",
          "height": 352
        },
        "outputId": "a7420949-4a71-4305-a0e5-23c2b0515e80"
      },
      "source": [
        "m3 = Model3()\n",
        "m3(np.array([[1,2,1]]))\n",
        "m3.summary()\n",
        "utils.plot_model(m3, show_shapes = True)"
      ],
      "execution_count": 57,
      "outputs": [
        {
          "output_type": "stream",
          "name": "stdout",
          "text": [
            "Model: \"Model3\"\n",
            "_________________________________________________________________\n",
            " Layer (type)                Output Shape              Param #   \n",
            "=================================================================\n",
            " dense1 (Dense)              multiple                  24        \n",
            "                                                                 \n",
            " dense2 (Dense)              multiple                  42        \n",
            "                                                                 \n",
            " dense3 (Dense)              multiple                  42        \n",
            "                                                                 \n",
            "=================================================================\n",
            "Total params: 108\n",
            "Trainable params: 108\n",
            "Non-trainable params: 0\n",
            "_________________________________________________________________\n"
          ]
        },
        {
          "output_type": "execute_result",
          "data": {
            "text/plain": [
              "<IPython.core.display.Image object>"
            ],
            "image/png": "[encoded data removed]"
          },
          "metadata": {},
          "execution_count": 57
        }
      ]
    },
    {
      "cell_type": "markdown",
      "source": [
        "### | 예제\n",
        "\n",
        "세가지 방법을 이용해 아래 모델을 구현하세요."
      ],
      "metadata": {
        "id": "gpBnK0J7cbpK"
      }
    },
    {
      "cell_type": "markdown",
      "source": [
        "#### **예제 01**\n",
        "\n",
        "<p align='center'>\n",
        "<img src=https://github.com/yebiny/NCS-lecture-deeplearning/blob/main/imgs/01-testmodel2.PNG?raw=true width=500>\n"
      ],
      "metadata": {
        "id": "e7DmmlbplmAa"
      }
    },
    {
      "cell_type": "markdown",
      "source": [
        "* Keras Functional API\n"
      ],
      "metadata": {
        "id": "5mnW29R1qK5u"
      }
    },
    {
      "cell_type": "code",
      "source": [
        "def build_model1():\n",
        "  x = layers.Input(shape = (4,))\n",
        "  y = layers.Dense(8)(x)\n",
        "  y = layers.Dense(8)(y)\n",
        "  y = layers.Dense(3)(y)\n",
        "  model = models.Model(x, y)\n",
        "  return model\n"
      ],
      "metadata": {
        "id": "BgLyz6HXqK5v"
      },
      "execution_count": 74,
      "outputs": []
    },
    {
      "cell_type": "code",
      "source": [
        "m1 = build_model1()\n",
        "m1.summary()\n",
        "utils.plot_model(m1, show_shapes = True)"
      ],
      "metadata": {
        "colab": {
          "base_uri": "https://localhost:8080/",
          "height": 734
        },
        "id": "X6M5GOWV5nzU",
        "outputId": "fa59a85d-3be0-467b-b72b-6001b2030fe1"
      },
      "execution_count": 77,
      "outputs": [
        {
          "output_type": "stream",
          "name": "stdout",
          "text": [
            "Model: \"model_6\"\n",
            "_________________________________________________________________\n",
            " Layer (type)                Output Shape              Param #   \n",
            "=================================================================\n",
            " input_7 (InputLayer)        [(None, 4)]               0         \n",
            "                                                                 \n",
            " dense_44 (Dense)            (None, 8)                 40        \n",
            "                                                                 \n",
            " dense_45 (Dense)            (None, 8)                 72        \n",
            "                                                                 \n",
            " dense_46 (Dense)            (None, 3)                 27        \n",
            "                                                                 \n",
            "=================================================================\n",
            "Total params: 139\n",
            "Trainable params: 139\n",
            "Non-trainable params: 0\n",
            "_________________________________________________________________\n"
          ]
        },
        {
          "output_type": "execute_result",
          "data": {
            "text/plain": [
              "<IPython.core.display.Image object>"
            ],
            "image/png": "[encoded data removed]"
          },
          "metadata": {},
          "execution_count": 77
        }
      ]
    },
    {
      "cell_type": "markdown",
      "source": [
        "* keras Sequential API\n"
      ],
      "metadata": {
        "id": "q5ygabc2qI1P"
      }
    },
    {
      "cell_type": "code",
      "source": [
        "def build_model2():\n",
        "  model = tf.keras.Sequential()\n",
        "  model.add( layers.Input(shape = (4,)))\n",
        "  model.add( layers.Dense(8))\n",
        "  model.add( layers.Dense(8))\n",
        "  model.add( layers.Dense(3))\n",
        "  \n",
        "  return model"
      ],
      "metadata": {
        "id": "I6qwU4_zlnN_"
      },
      "execution_count": 75,
      "outputs": []
    },
    {
      "cell_type": "code",
      "source": [
        "m2 = build_model2()\n",
        "m2.summary()\n",
        "utils.plot_model(m2, show_shapes = True)"
      ],
      "metadata": {
        "colab": {
          "base_uri": "https://localhost:8080/",
          "height": 697
        },
        "id": "Uq2m_MOi5qgs",
        "outputId": "45a29ebe-795b-4a07-8ce6-a4e5bc8ea423"
      },
      "execution_count": 78,
      "outputs": [
        {
          "output_type": "stream",
          "name": "stdout",
          "text": [
            "Model: \"sequential_1\"\n",
            "_________________________________________________________________\n",
            " Layer (type)                Output Shape              Param #   \n",
            "=================================================================\n",
            " dense_47 (Dense)            (None, 8)                 40        \n",
            "                                                                 \n",
            " dense_48 (Dense)            (None, 8)                 72        \n",
            "                                                                 \n",
            " dense_49 (Dense)            (None, 3)                 27        \n",
            "                                                                 \n",
            "=================================================================\n",
            "Total params: 139\n",
            "Trainable params: 139\n",
            "Non-trainable params: 0\n",
            "_________________________________________________________________\n"
          ]
        },
        {
          "output_type": "execute_result",
          "data": {
            "text/plain": [
              "<IPython.core.display.Image object>"
            ],
            "image/png": "[encoded data removed]"
          },
          "metadata": {},
          "execution_count": 78
        }
      ]
    },
    {
      "cell_type": "markdown",
      "source": [
        "* Model Class Subsclassing\n",
        "\n",
        "\n"
      ],
      "metadata": {
        "id": "k9crENLAqLEW"
      }
    },
    {
      "cell_type": "code",
      "source": [
        "class Model3(tf.keras.Model): # 이미 존재하는 클래스를 불러올 때\n",
        "  def __init__(self):\n",
        "    super(Model3, self).__init__() # tf.keras.Model에 이미 정의되어 있는 (init)파라미터 불러오기\n",
        "    self._name = 'Model3'\n",
        "    self._input_shape = (4)\n",
        "    self.dense1 = layers.Dense(8, name = 'dense1')\n",
        "    self.dense2 = layers.Dense(8, name = 'dense2')\n",
        "    self.dense3 = layers.Dense(3, name = 'dense3')\n",
        "    \n",
        "  def call(self, x):\n",
        "    y = self.dense1(x)\n",
        "    y = self.dense2(y)\n",
        "    y = self.dense3(y)\n",
        "    return y"
      ],
      "metadata": {
        "id": "hP3yZKS0qLEW"
      },
      "execution_count": 76,
      "outputs": []
    },
    {
      "cell_type": "code",
      "source": [
        "m3 = Model3()\n",
        "m3(np.array([[1,2,1,2]]))\n",
        "m3.summary()\n",
        "utils.plot_model(m3, show_shapes = True)"
      ],
      "metadata": {
        "colab": {
          "base_uri": "https://localhost:8080/",
          "height": 352
        },
        "id": "zI7w1gbc5tG8",
        "outputId": "db3866a5-e1f0-404d-c520-6dc94198218a"
      },
      "execution_count": 79,
      "outputs": [
        {
          "output_type": "stream",
          "name": "stdout",
          "text": [
            "Model: \"Model3\"\n",
            "_________________________________________________________________\n",
            " Layer (type)                Output Shape              Param #   \n",
            "=================================================================\n",
            " dense1 (Dense)              multiple                  40        \n",
            "                                                                 \n",
            " dense2 (Dense)              multiple                  72        \n",
            "                                                                 \n",
            " dense3 (Dense)              multiple                  27        \n",
            "                                                                 \n",
            "=================================================================\n",
            "Total params: 139\n",
            "Trainable params: 139\n",
            "Non-trainable params: 0\n",
            "_________________________________________________________________\n"
          ]
        },
        {
          "output_type": "execute_result",
          "data": {
            "text/plain": [
              "<IPython.core.display.Image object>"
            ],
            "image/png": "[encoded data removed]"
          },
          "metadata": {},
          "execution_count": 79
        }
      ]
    },
    {
      "cell_type": "markdown",
      "source": [
        "#### **예제 02**\n",
        "\n",
        "\n",
        "\n",
        "\n",
        "<p align='center'>\n",
        "<img src=https://github.com/yebiny/NCS-lecture-deeplearning/blob/main/imgs/01-testmodel3.PNG?raw=true width=700>\n"
      ],
      "metadata": {
        "id": "ZCd50-faAZg9"
      }
    },
    {
      "cell_type": "markdown",
      "source": [
        "* Keras Functional API\n"
      ],
      "metadata": {
        "id": "-TXHCeHZqZjF"
      }
    },
    {
      "cell_type": "code",
      "source": [
        "def build_model1():\n",
        "  x = layers.Input(shape = (3,))\n",
        "  y = layers.Dense(4)(x)\n",
        "  y = layers.Dense(8)(y)\n",
        "  y = layers.Dense(4)(y)\n",
        "  y = layers.Dense(1)(y)\n",
        "  model = models.Model(x, y)\n",
        "  return model\n"
      ],
      "metadata": {
        "id": "Zekozc0QqZjG"
      },
      "execution_count": 80,
      "outputs": []
    },
    {
      "cell_type": "code",
      "source": [
        "m1 = build_model1()\n",
        "m1.summary()\n",
        "utils.plot_model(m1, show_shapes = True)"
      ],
      "metadata": {
        "colab": {
          "base_uri": "https://localhost:8080/",
          "height": 882
        },
        "id": "dNopBdFO55Cc",
        "outputId": "fedf5190-897e-42ea-9db1-0dd89f28f01f"
      },
      "execution_count": 81,
      "outputs": [
        {
          "output_type": "stream",
          "name": "stdout",
          "text": [
            "Model: \"model_7\"\n",
            "_________________________________________________________________\n",
            " Layer (type)                Output Shape              Param #   \n",
            "=================================================================\n",
            " input_9 (InputLayer)        [(None, 3)]               0         \n",
            "                                                                 \n",
            " dense_50 (Dense)            (None, 4)                 16        \n",
            "                                                                 \n",
            " dense_51 (Dense)            (None, 8)                 40        \n",
            "                                                                 \n",
            " dense_52 (Dense)            (None, 4)                 36        \n",
            "                                                                 \n",
            " dense_53 (Dense)            (None, 1)                 5         \n",
            "                                                                 \n",
            "=================================================================\n",
            "Total params: 97\n",
            "Trainable params: 97\n",
            "Non-trainable params: 0\n",
            "_________________________________________________________________\n"
          ]
        },
        {
          "output_type": "execute_result",
          "data": {
            "text/plain": [
              "<IPython.core.display.Image object>"
            ],
            "image/png": "[encoded data removed]"
          },
          "metadata": {},
          "execution_count": 81
        }
      ]
    },
    {
      "cell_type": "markdown",
      "source": [
        "* keras Sequential API\n"
      ],
      "metadata": {
        "id": "LQPscC7sqZjA"
      }
    },
    {
      "cell_type": "code",
      "source": [
        "def build_model2():\n",
        "  model = tf.keras.Sequential()\n",
        "  model.add( layers.Input(shape = (3,)))\n",
        "  model.add( layers.Dense(4))\n",
        "  model.add( layers.Dense(8))\n",
        "  model.add( layers.Dense(4))\n",
        "  model.add( layers.Dense(1))\n",
        "  \n",
        "  return model"
      ],
      "metadata": {
        "id": "IO0chB0pqZjF"
      },
      "execution_count": 82,
      "outputs": []
    },
    {
      "cell_type": "code",
      "source": [
        "m2 = build_model2()\n",
        "m2.summary()\n",
        "utils.plot_model(m2, show_shapes = True)"
      ],
      "metadata": {
        "colab": {
          "base_uri": "https://localhost:8080/",
          "height": 845
        },
        "id": "bBomqpsM6AoE",
        "outputId": "675b072f-43a0-47be-aa38-086d7cdd6a6e"
      },
      "execution_count": 84,
      "outputs": [
        {
          "output_type": "stream",
          "name": "stdout",
          "text": [
            "Model: \"sequential_2\"\n",
            "_________________________________________________________________\n",
            " Layer (type)                Output Shape              Param #   \n",
            "=================================================================\n",
            " dense_58 (Dense)            (None, 4)                 16        \n",
            "                                                                 \n",
            " dense_59 (Dense)            (None, 8)                 40        \n",
            "                                                                 \n",
            " dense_60 (Dense)            (None, 4)                 36        \n",
            "                                                                 \n",
            " dense_61 (Dense)            (None, 1)                 5         \n",
            "                                                                 \n",
            "=================================================================\n",
            "Total params: 97\n",
            "Trainable params: 97\n",
            "Non-trainable params: 0\n",
            "_________________________________________________________________\n"
          ]
        },
        {
          "output_type": "execute_result",
          "data": {
            "text/plain": [
              "<IPython.core.display.Image object>"
            ],
            "image/png": "[encoded data removed]"
          },
          "metadata": {},
          "execution_count": 84
        }
      ]
    },
    {
      "cell_type": "markdown",
      "source": [
        "* Model Class Subsclassing\n",
        "\n"
      ],
      "metadata": {
        "id": "LKm8DvxSqZjG"
      }
    },
    {
      "cell_type": "code",
      "source": [
        "class Model3(tf.keras.Model): # 이미 존재하는 클래스를 불러올 때\n",
        "  def __init__(self):\n",
        "    super(Model3, self).__init__() # tf.keras.Model에 이미 정의되어 있는 (init)파라미터 불러오기\n",
        "    self._name = 'Model3'\n",
        "    self._input_shape = (3)\n",
        "    self.dense1 = layers.Dense(4, name = 'dense1')\n",
        "    self.dense2 = layers.Dense(8, name = 'dense2')\n",
        "    self.dense3 = layers.Dense(4, name = 'dense3')\n",
        "    self.dense4 = layers.Dense(1, name = 'dense4')\n",
        "    \n",
        "  def call(self, x):\n",
        "    y = self.dense1(x)\n",
        "    y = self.dense2(y)\n",
        "    y = self.dense3(y)\n",
        "    y = self.dense4(y)\n",
        "    return y"
      ],
      "metadata": {
        "id": "fEOkBDe2qZjG"
      },
      "execution_count": 85,
      "outputs": []
    },
    {
      "cell_type": "code",
      "source": [
        "m3 = Model3()\n",
        "m3(np.array([[1,2,1]]))\n",
        "m3.summary()\n",
        "utils.plot_model(m3, show_shapes = True)"
      ],
      "metadata": {
        "colab": {
          "base_uri": "https://localhost:8080/",
          "height": 389
        },
        "id": "2VsIs-kF6NSs",
        "outputId": "7c4b5a47-4758-421d-fbc6-509f55047e93"
      },
      "execution_count": 86,
      "outputs": [
        {
          "output_type": "stream",
          "name": "stdout",
          "text": [
            "Model: \"Model3\"\n",
            "_________________________________________________________________\n",
            " Layer (type)                Output Shape              Param #   \n",
            "=================================================================\n",
            " dense1 (Dense)              multiple                  16        \n",
            "                                                                 \n",
            " dense2 (Dense)              multiple                  40        \n",
            "                                                                 \n",
            " dense3 (Dense)              multiple                  36        \n",
            "                                                                 \n",
            " dense4 (Dense)              multiple                  5         \n",
            "                                                                 \n",
            "=================================================================\n",
            "Total params: 97\n",
            "Trainable params: 97\n",
            "Non-trainable params: 0\n",
            "_________________________________________________________________\n"
          ]
        },
        {
          "output_type": "execute_result",
          "data": {
            "text/plain": [
              "<IPython.core.display.Image object>"
            ],
            "image/png": "[encoded data removed]"
          },
          "metadata": {},
          "execution_count": 86
        }
      ]
    },
    {
      "cell_type": "code",
      "source": [
        ""
      ],
      "metadata": {
        "id": "Sjkc_-cb6P7E"
      },
      "execution_count": null,
      "outputs": []
    }
  ]
}
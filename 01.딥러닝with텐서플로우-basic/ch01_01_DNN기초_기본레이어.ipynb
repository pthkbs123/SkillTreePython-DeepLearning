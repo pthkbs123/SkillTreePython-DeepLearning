{
  "nbformat": 4,
  "nbformat_minor": 0,
  "metadata": {
    "colab": {
      "name": "ch01_01_DNN기초_기본레이어.ipynb",
      "provenance": [],
      "collapsed_sections": [],
      "include_colab_link": true
    },
    "kernelspec": {
      "name": "python3",
      "display_name": "Python 3"
    },
    "language_info": {
      "name": "python"
    }
  },
  "cells": [
    {
      "cell_type": "markdown",
      "metadata": {
        "id": "view-in-github",
        "colab_type": "text"
      },
      "source": [
        "<a href=\"https://colab.research.google.com/github/pthkbs123/SkillTreePython-DeepLearning/blob/main/01.%EB%94%A5%EB%9F%AC%EB%8B%9Dwith%ED%85%90%EC%84%9C%ED%94%8C%EB%A1%9C%EC%9A%B0-basic/ch01_01_DNN%EA%B8%B0%EC%B4%88_%EA%B8%B0%EB%B3%B8%EB%A0%88%EC%9D%B4%EC%96%B4.ipynb\" target=\"_parent\"><img src=\"https://colab.research.google.com/assets/colab-badge.svg\" alt=\"Open In Colab\"/></a>"
      ]
    },
    {
      "cell_type": "markdown",
      "source": [
        "# 01. DNN기초 - 기본 레이어\n",
        "---\n",
        "* 날짜: 2022-06-23\n",
        "* 이름: 박태현\n",
        "\n",
        "## 학습내용\n",
        "    - 딥러닝을 구성하는 레이어에 대해 이해한다.\n",
        "    - 활성화 함수 종류를 구현하고 특징을 정리한다.\n",
        "    - 그래디언트 소실에 대해 이해한다.\n",
        "\n",
        "## 학습자료\n",
        "\n",
        "\n",
        "- 케라스 창시자에게 배우는 딥러닝\n"
      ],
      "metadata": {
        "id": "9Q1yeunDnbDS"
      }
    },
    {
      "cell_type": "code",
      "source": [
        "import numpy as np\n",
        "import matplotlib.pyplot as plt\n",
        "import pandas as pd"
      ],
      "metadata": {
        "id": "FH_uBeAD1qZ1"
      },
      "execution_count": null,
      "outputs": []
    },
    {
      "cell_type": "markdown",
      "source": [
        "## 선형 함수 (Linear)\n",
        "---\n",
        "\n",
        "<p align='center'>\n",
        "<img src=https://github.com/yebiny/SkillTreePython-DeepLearning/blob/main/imgs/ch0101-07.png?raw=true width=700>\n",
        "\n"
      ],
      "metadata": {
        "id": "TE4OOCmn02qg"
      }
    },
    {
      "cell_type": "markdown",
      "source": [
        "### **| 모델 생성**"
      ],
      "metadata": {
        "id": "otUGNnfHAMHh"
      }
    },
    {
      "cell_type": "code",
      "source": [
        "class LinearLayer():\n",
        "  # 학습파라미터(W, b)의 shape 설정\n",
        "  def __init__(self, d_in, d_out):\n",
        "    W_shape = (d_in, d_out)\n",
        "    B_shape = (d_out)\n",
        "    # 행렬 만들기\n",
        "    self.W = np.random.normal(0,1, W_shape) # 정규분포를 따르는 랜덤 값 (평균 0, 표준편차 1)\n",
        "    self.B = np.zeros(B_shape) # bias(덧셈) 디폴트값을 0\n",
        "\n",
        "  def forward(self, X):\n",
        "    # X : (n_sample, d_in)\n",
        "    return X@self.W+self.B\n",
        "\n",
        "layer1 = LinearLayer(d_in=3, d_out=3)\n",
        "layer2 = LinearLayer(d_in=3, d_out=2)\n",
        "print(layer1.W, layer1.B)\n",
        "print(layer2.W, layer2.B)\n",
        "\n",
        "X = np.array([[1,2,1]])\n",
        "print(f'X: {X} shape: {X.shape}')\n",
        "print(f'첫번째 레이어 계산결과: { layer1.forward(X) }')\n",
        "print(f'두번째 레이어 계산결과: { layer2.forward(layer1.forward(X))}')"
      ],
      "metadata": {
        "id": "nG4eK5_61AEy",
        "colab": {
          "base_uri": "https://localhost:8080/"
        },
        "outputId": "05807136-f0df-4af3-c300-938c734eec4f"
      },
      "execution_count": null,
      "outputs": [
        {
          "output_type": "stream",
          "name": "stdout",
          "text": [
            "[[-1.02662748 -0.64834016 -0.28440822]\n",
            " [-0.15230371 -0.20572079  0.2542064 ]\n",
            " [-0.66415722 -0.17565443  0.82423568]] [0. 0. 0.]\n",
            "[[ 0.68818518 -0.74005109]\n",
            " [ 1.15487101 -0.78947043]\n",
            " [-0.27411284  1.64862668]] [0. 0.]\n",
            "X: [[1 2 1]] shape: (1, 3)\n",
            "첫번째 레이어 계산결과: [[-1.99539213 -1.23543617  1.04824026]]\n",
            "두번째 레이어 계산결과: [[-3.08730483  4.18018932]]\n"
          ]
        }
      ]
    },
    {
      "cell_type": "code",
      "source": [
        "class Model():\n",
        "  def __init__(self):\n",
        "    self.layer1 = LinearLayer(d_in=3, d_out=3)\n",
        "    self.layer2 = LinearLayer(d_in=3, d_out=2)\n",
        "\n",
        "  def predict(self, x):\n",
        "    z = self.layer1.forward(x)\n",
        "    y = self.layer2.forward(z)\n",
        "    return y\n",
        "\n",
        "  # 학습 파라미터를 반환하는 함수\n",
        "  def get_weights(self):\n",
        "    return [ self.layer1.W, self.layer1.B, self.layer2.W, self.layer2.B ]\n",
        "\n",
        "  # 학습 파라미터를 직접 정해주는 함수\n",
        "  def set_weights(self, new_weight_list):\n",
        "    self.layer1.W = new_weight_list[0]\n",
        "    self.layer1.B = new_weight_list[1]\n",
        "    self.layer2.W = new_weight_list[2]\n",
        "    self.layer2.B = new_weight_list[3]"
      ],
      "metadata": {
        "id": "O6slcz-wnRKa"
      },
      "execution_count": null,
      "outputs": []
    },
    {
      "cell_type": "markdown",
      "source": [
        "* 모델 불러오기"
      ],
      "metadata": {
        "id": "NDY8-kbSCcGj"
      }
    },
    {
      "cell_type": "code",
      "source": [
        "model = Model()\n",
        "model.predict(X)"
      ],
      "metadata": {
        "id": "nwJeEInq6_P7",
        "colab": {
          "base_uri": "https://localhost:8080/"
        },
        "outputId": "997a4a68-663d-4e23-aeb5-470f16555314"
      },
      "execution_count": null,
      "outputs": [
        {
          "output_type": "execute_result",
          "data": {
            "text/plain": [
              "array([[-0.02123562,  3.97901107]])"
            ]
          },
          "metadata": {},
          "execution_count": 4
        }
      ]
    },
    {
      "cell_type": "markdown",
      "source": [
        "### **| 순전파 계산**\n",
        "\n",
        "데이터와 학습파라미터의 값이 아래와 같을 때 Y값을 구하세요.\n",
        "\n",
        "<p align='center'>\n",
        "<img src=https://github.com/yebiny/SkillTreePython-DeepLearning/blob/main/imgs/ch0101-11.png?raw=true width=800>\n",
        "</p>"
      ],
      "metadata": {
        "id": "aQLEzz4e80It"
      }
    },
    {
      "cell_type": "markdown",
      "source": [
        "* 파라미터 정의"
      ],
      "metadata": {
        "id": "2jpPu_1ACdlt"
      }
    },
    {
      "cell_type": "code",
      "source": [
        "X = np.array([1,2,1]).reshape(1,3) # X shape : (1,3)\n",
        "W1_ = np.array([1,1,-1,1,0.5,-1,1,1,1]).reshape(3,3)  \n",
        "B1_ = np.array([0,0,0]).reshape(1,3)\n",
        "W2_ = np.array([1,0.5,-1,0.5,0,1]).reshape(3,2)\n",
        "B2_ = np.array([1,-0.5]).reshape(1,2)\n",
        "\n",
        "print(f'{X} X shape: {X.shape} ')\n",
        "print(f'{W1_} W1_ shape: {W1_.shape}')\n",
        "print(f'{B1_} B1_ shape: {B1_.shape}')\n",
        "print(f'{W2_} W2_ shape: {W2_.shape}')\n",
        "print(f'{B2_} B2_ shape: {B2_.shape}')"
      ],
      "metadata": {
        "id": "0aZbsZGP6XVH",
        "colab": {
          "base_uri": "https://localhost:8080/"
        },
        "outputId": "cd7b9781-6830-4ddf-dbcb-cef2e0e0fade"
      },
      "execution_count": null,
      "outputs": [
        {
          "output_type": "stream",
          "name": "stdout",
          "text": [
            "[[1 2 1]] X shape: (1, 3) \n",
            "[[ 1.   1.  -1. ]\n",
            " [ 1.   0.5 -1. ]\n",
            " [ 1.   1.   1. ]] W1_ shape: (3, 3)\n",
            "[[0 0 0]] B1_ shape: (1, 3)\n",
            "[[ 1.   0.5]\n",
            " [-1.   0.5]\n",
            " [ 0.   1. ]] W2_ shape: (3, 2)\n",
            "[[ 1.  -0.5]] B2_ shape: (1, 2)\n"
          ]
        }
      ]
    },
    {
      "cell_type": "markdown",
      "source": [
        "* 학습 파라미터 확인"
      ],
      "metadata": {
        "id": "Yj1j1WVlCfEL"
      }
    },
    {
      "cell_type": "code",
      "source": [
        "model.get_weights()"
      ],
      "metadata": {
        "id": "-KS1Snwg60FH",
        "colab": {
          "base_uri": "https://localhost:8080/"
        },
        "outputId": "3a184b11-5fa3-4f1f-c472-21380269f8f3"
      },
      "execution_count": null,
      "outputs": [
        {
          "output_type": "execute_result",
          "data": {
            "text/plain": [
              "[array([[ 0.59203939, -0.85189309,  0.64245675],\n",
              "        [ 1.72540535, -0.21031142,  0.24362798],\n",
              "        [-0.36395384, -1.59053396, -1.92420421]]),\n",
              " array([0., 0., 0.]),\n",
              " array([[ 0.54989398,  1.04584632],\n",
              "        [ 0.90012836, -0.29572397],\n",
              "        [-0.67071061,  0.90022554]]),\n",
              " array([0., 0.])]"
            ]
          },
          "metadata": {},
          "execution_count": 6
        }
      ]
    },
    {
      "cell_type": "markdown",
      "source": [
        "* 학습 파라미터 세팅"
      ],
      "metadata": {
        "id": "eUOF6xYgClzp"
      }
    },
    {
      "cell_type": "code",
      "source": [
        "model.set_weights([W1_, B1_, W2_, B2_])\n",
        "model.get_weights()"
      ],
      "metadata": {
        "id": "DvoBSK086gxm",
        "colab": {
          "base_uri": "https://localhost:8080/"
        },
        "outputId": "9c040e29-47a9-4b44-f136-c1bb2471d58a"
      },
      "execution_count": null,
      "outputs": [
        {
          "output_type": "execute_result",
          "data": {
            "text/plain": [
              "[array([[ 1. ,  1. , -1. ],\n",
              "        [ 1. ,  0.5, -1. ],\n",
              "        [ 1. ,  1. ,  1. ]]), array([[0, 0, 0]]), array([[ 1. ,  0.5],\n",
              "        [-1. ,  0.5],\n",
              "        [ 0. ,  1. ]]), array([[ 1. , -0.5]])]"
            ]
          },
          "metadata": {},
          "execution_count": 7
        }
      ]
    },
    {
      "cell_type": "markdown",
      "source": [
        "* 예측 (순전파)"
      ],
      "metadata": {
        "id": "V-dCS6zTCjD2"
      }
    },
    {
      "cell_type": "code",
      "source": [
        "model.predict(X)"
      ],
      "metadata": {
        "id": "Ag3K-NO97FzD",
        "colab": {
          "base_uri": "https://localhost:8080/"
        },
        "outputId": "a5d501d2-7d2d-4638-ceae-751a656709cf"
      },
      "execution_count": null,
      "outputs": [
        {
          "output_type": "execute_result",
          "data": {
            "text/plain": [
              "array([[2., 1.]])"
            ]
          },
          "metadata": {},
          "execution_count": 8
        }
      ]
    },
    {
      "cell_type": "markdown",
      "source": [
        "## 활성 함수 (Activation)\n",
        "---\n",
        "\n",
        "<p align='center'>\n",
        "<img src=https://github.com/yebiny/SkillTreePython-DeepLearning/blob/main/imgs/ch0101-08.png?raw=true width=800>\n",
        "\n",
        "* 비선형 함수를 사용하는 이유\n",
        "\n",
        "> 선형함수인 $h(x)=cx$를 활성화함수로 사용한 3층 네트워크를 떠올려 보세요.\n",
        "이를 식으로 나타내면 $y(x)=h(h(h(x)))$가 됩니다. 이는 실은 $y(x)=ax$와 똑같은 식입니다.\n",
        "$a=c3$이라고만 하면 끝이죠. 즉, 은닉층이 없는 네트워크로 표현할 수 있습니다.\n",
        "뉴럴네트워크에서 층을 쌓는 혜택을 얻고 싶다면 활성화함수로는 반드시 비선형 함수를 사용해야 합니다. **출처: [밑바닥부터 시작하는 딥러닝]**\n",
        " \n",
        "* 어떤 활성화 함수를 써야할까\n",
        "\n",
        "> ELU → LeakyReLU → ReLU → tanh → sigmoid 순으로 사용하라는 얘기도 있고, cs231n 강의에서는 ReLU를 먼저 쓰고 , 그다음으로 LeakyReLU나 ELU 같은 ReLU Family를 쓰며, sigmoid는 사용하지 말라고 하고 있다.\n",
        "**출처: https://excelsior-cjh.tistory.com/177 [EXCELSIOR:티스토리]**\n",
        "\n",
        "* 딥러닝에서 사용되는 활성화 함수의 종류\n",
        "\n",
        "```\n",
        "- Step Function # 예외 ( 최근에는 사용하지 않음)\n",
        "-------------------------=\n",
        "- Sigmoid : 예측 결과가 두개 클래스 중 하나\n",
        "- Softmax : 예측 결과가 세개 이상 클래스 중 하나\n",
        "만약 마지막 층에서 활성화 안쓰면 회귀\n",
        "--- 마지막 층에서 사용 ---\n",
        "- Tanh\n",
        "- ReLU\n",
        "- Leaky ReLU\n",
        "- PReLU\n",
        "- ELU\n",
        "--- 중간 층에서 사용 ---\n",
        "중간 층에서 사용될 때는 gradient(미분) 값이 중요\n",
        "```\n"
      ],
      "metadata": {
        "id": "BARbnIMRzMRC"
      }
    },
    {
      "cell_type": "markdown",
      "source": [
        "* 시각화를 위한 플롯팅 함수"
      ],
      "metadata": {
        "id": "SFciXyKSJG9q"
      }
    },
    {
      "cell_type": "code",
      "source": [
        "plt.rcParams['figure.figsize'] = (8, 2)\n",
        "def plot_func(xs, ys, title=''):\n",
        "  plt.plot(xs, ys)\n",
        "  plt.title(title)\n",
        "  plt.ylim(-1, 2)\n",
        "  plt.hlines(xmin=-5, xmax=5, y=0, colors='r', linestyles=':')\n",
        "  plt.grid()\n",
        "\n",
        "plot_func(xs=[1], ys=[1])"
      ],
      "metadata": {
        "id": "joqmI6sxJOIO",
        "colab": {
          "base_uri": "https://localhost:8080/",
          "height": 161
        },
        "outputId": "fcd91ef1-ac7f-4683-8f3c-25cd7ff52ec4"
      },
      "execution_count": null,
      "outputs": [
        {
          "output_type": "display_data",
          "data": {
            "text/plain": [
              "<Figure size 576x144 with 1 Axes>"
            ],
            "image/png": "[encoded data removed]"
          },
          "metadata": {
            "needs_background": "light"
          }
        }
      ]
    },
    {
      "cell_type": "markdown",
      "source": [
        "### **| Sigmoid**\n",
        "\n",
        "<p align='center'>\n",
        "<img src=https://github.com/yebiny/SkillTreePython-DeepLearning/blob/main/imgs/ch0101-15.png?raw=true width=500>\n",
        "\n",
        "\n",
        "\n"
      ],
      "metadata": {
        "id": "qCVwE0VGdEya"
      }
    },
    {
      "cell_type": "markdown",
      "source": [
        "* 구현\n",
        "\\begin{align}\n",
        "sigmoid(x) = \\frac{1}{1+e^{-x}}\n",
        "\\end{align}\n"
      ],
      "metadata": {
        "id": "lZ-BqoaMI_zr"
      }
    },
    {
      "cell_type": "code",
      "source": [
        "# 함수의 인풋 : 0차 텐서,  아웃풋: 0차 텐서\n",
        "def sigmoid(x):\n",
        "  return 1/(1+np.exp(-x))\n",
        "sigmoid(-1)"
      ],
      "metadata": {
        "id": "lykqtbIuzXlS",
        "colab": {
          "base_uri": "https://localhost:8080/"
        },
        "outputId": "641e117b-d69f-458e-d817-d2deedeab4c9"
      },
      "execution_count": null,
      "outputs": [
        {
          "output_type": "execute_result",
          "data": {
            "text/plain": [
              "0.2689414213699951"
            ]
          },
          "metadata": {},
          "execution_count": 10
        }
      ]
    },
    {
      "cell_type": "markdown",
      "source": [
        "* 미분\n",
        "\\begin{align}\n",
        "\\frac{d}{dx} sigmoid(x) = sigmoid(x)(1-sigmoid(x))\n",
        "\\end{align}\n"
      ],
      "metadata": {
        "id": "RwWVqA0ddJvx"
      }
    },
    {
      "cell_type": "code",
      "source": [
        "def sigmoid_grad(x):\n",
        "  return sigmoid(x)*(1-sigmoid(x))\n",
        "sigmoid_grad(0)"
      ],
      "metadata": {
        "id": "Oqb7TLZGzXnh",
        "colab": {
          "base_uri": "https://localhost:8080/"
        },
        "outputId": "729316b4-00f0-4210-bee8-c3f59149b67e"
      },
      "execution_count": null,
      "outputs": [
        {
          "output_type": "execute_result",
          "data": {
            "text/plain": [
              "0.25"
            ]
          },
          "metadata": {},
          "execution_count": 11
        }
      ]
    },
    {
      "cell_type": "markdown",
      "source": [
        "* 시각화"
      ],
      "metadata": {
        "id": "05K5suyKJhCH"
      }
    },
    {
      "cell_type": "code",
      "source": [
        "#xs = np.array([-2, -1, 0, 1, 2])\n",
        "xs = np.linspace(-5, 5, 100) # -5부터, 5까지 100개의 숫자\n",
        "plt.subplot(121);plot_func(xs, sigmoid(xs), title='Sigmoid')\n",
        "plt.subplot(122);plot_func(xs, sigmoid_grad(xs), title='Sigmoid (dev)')"
      ],
      "metadata": {
        "id": "y_27bU8kJCdO",
        "colab": {
          "base_uri": "https://localhost:8080/",
          "height": 173
        },
        "outputId": "c167d0dc-4fe7-4b63-a0f7-2f8e5e333062"
      },
      "execution_count": null,
      "outputs": [
        {
          "output_type": "display_data",
          "data": {
            "text/plain": [
              "<Figure size 576x144 with 2 Axes>"
            ],
            "image/png": "[encoded data removed]"
          },
          "metadata": {
            "needs_background": "light"
          }
        }
      ]
    },
    {
      "cell_type": "markdown",
      "source": [
        "\n",
        "\n",
        "**Sigmoid 소개**\n",
        "\n",
        "```\n",
        "- # 나오게 된 배경\n",
        "선형 함수와 계단 함수의 단점을 보완하기 위해서\n",
        "- # 장단점\n",
        "값의 크기가 소실되지 않음, 층을 유의미하게 쌓을 수 있음 (선형 함수, 계단 함수 단점 보완)\n",
        "속도가 느림, 학습시간이 오래걸림, 기울기가 소실될 수 있음\n",
        "- # 특징 정리 (출력 범위, 미분 값 등 )\n",
        "출력 범위 : 0-1, 미분 값 : 0-0.25\n",
        "```\n"
      ],
      "metadata": {
        "id": "Oi2i3MEjIyhu"
      }
    },
    {
      "cell_type": "markdown",
      "source": [
        "### **| Softmax**\n",
        "\n",
        "<p align='center'>\n",
        "<img src=https://github.com/yebiny/SkillTreePython-DeepLearning/blob/main/imgs/ch0101-16.png?raw=true width=550>\n"
      ],
      "metadata": {
        "id": "oUb85RD1ds-H"
      }
    },
    {
      "cell_type": "markdown",
      "source": [
        "* 구현\n",
        "\n",
        "\\begin{align}\n",
        "softmax(x) = \\frac{e^{x_i}}{\\sum_je^{x_j}}\n",
        "\\end{align}"
      ],
      "metadata": {
        "id": "MAS3Q5qGkSnz"
      }
    },
    {
      "cell_type": "code",
      "source": [
        "# 함수의 인풋 : 1차 텐서,  아웃풋: 1차 텐서\n",
        "def softmax(xs): #[1,2,1]\n",
        "  exs = np.exp(xs) # [np.exp(1), np.exp(2), np.exp(1)]\n",
        "  sum_exs = np.sum(exs) # np.exp(1)+np.exp(2)+np.exp(1) # 0차텐서\n",
        "  return exs / sum_exs # [np.exp(1)/sum_exs, np.exp(2)/sum_exs, np.exp(1)/sum_exs]\n",
        "# 아웃풋의 요소들은 0~1까지의 값을 가지고 다 더하면 1이 된다.\n",
        "\n",
        "softmax(np.array([-1,2,1,1]))"
      ],
      "metadata": {
        "id": "V9OtdSfPkSn0",
        "colab": {
          "base_uri": "https://localhost:8080/"
        },
        "outputId": "519218cd-f96a-41c7-8163-e86d1c000da5"
      },
      "execution_count": null,
      "outputs": [
        {
          "output_type": "execute_result",
          "data": {
            "text/plain": [
              "array([0.02788339, 0.56005279, 0.20603191, 0.20603191])"
            ]
          },
          "metadata": {},
          "execution_count": 30
        }
      ]
    },
    {
      "cell_type": "markdown",
      "source": [
        "* 미분\n",
        "\n",
        "\n",
        "\\begin{align}\n",
        "\\frac{x}{dx} Softmax(\\vec{x}) =  \n",
        "\\begin{cases}\n",
        "& Softmax(\\vec{x})(1-Softmax(\\vec{x})) \\;\\;\\;\\;\\;\\;\\; \\text{ if } i=j  \n",
        "\\\\ & 0 \\;\\;\\;\\;\\;\\;\\;\\;\\;\\;\\;\\;\\;\\;\\;\\;\\;\\;\\;\\;\\;\\;\\;\\;\\;\\;\\;\\;\\;\\;\\;\\;\\;\\;\\;\\;\\;\\;\\;\\;\\;\\;\\;\\;\\;\\;\\;\\;\\;\\;\\;\\;\\;\\;\\;\\; \\text{ if } i\\neq j \n",
        "\\end{cases}\n",
        "\\end{align}"
      ],
      "metadata": {
        "id": "DozuQe8ikSn0"
      }
    },
    {
      "cell_type": "code",
      "source": [
        "# 예측 [0.7, 0.2, 0.1 ] 실제 [1, 0, 0] -> 0번째 클래스가 정답! (j=0)"
      ],
      "metadata": {
        "id": "RsLPlGPckSn0"
      },
      "execution_count": null,
      "outputs": []
    },
    {
      "cell_type": "code",
      "source": [
        "def softmax_grad(xs, j=0):\n",
        "  return (softmax(xs)*(1-softmax(xs)) )[j]\n",
        "\n",
        "softmax_grad(np.array([0.7, 0.2, 1]))"
      ],
      "metadata": {
        "colab": {
          "base_uri": "https://localhost:8080/"
        },
        "id": "mejg4my9-3vv",
        "outputId": "224c936e-c2b4-4c66-b8ae-4615298c8955"
      },
      "execution_count": null,
      "outputs": [
        {
          "output_type": "execute_result",
          "data": {
            "text/plain": [
              "0.223837075668383"
            ]
          },
          "metadata": {},
          "execution_count": 32
        }
      ]
    },
    {
      "cell_type": "markdown",
      "source": [
        "* 시각화\n"
      ],
      "metadata": {
        "id": "z2ak5_tNQmu9"
      }
    },
    {
      "cell_type": "code",
      "source": [
        "xs = np.linspace(-5, 5, 100)\n",
        "plt.subplot(121);plot_func(xs, softmax(xs), title='softmax')\n",
        "plt.subplot(122);plot_func(xs, softmax(xs), title='softmax (dev)')"
      ],
      "metadata": {
        "colab": {
          "base_uri": "https://localhost:8080/",
          "height": 173
        },
        "id": "B_OOyjiRnJ5z",
        "outputId": "2b54646b-ac40-4820-ff5d-1e9844edb897"
      },
      "execution_count": null,
      "outputs": [
        {
          "output_type": "display_data",
          "data": {
            "text/plain": [
              "<Figure size 576x144 with 2 Axes>"
            ],
            "image/png": "[encoded data removed]"
          },
          "metadata": {
            "needs_background": "light"
          }
        }
      ]
    },
    {
      "cell_type": "code",
      "source": [
        "ys = softmax(np.array([-1,2,1,1]))\n",
        "pd.DataFrame(ys).plot(kind='bar')\n",
        "pd.DataFrame([ys]).plot(kind='barh', stacked=True)"
      ],
      "metadata": {
        "id": "s_LJOuOJQmu9",
        "colab": {
          "base_uri": "https://localhost:8080/",
          "height": 311
        },
        "outputId": "2ce7b709-cd15-47f9-97bd-6f9b76d80127"
      },
      "execution_count": null,
      "outputs": [
        {
          "output_type": "execute_result",
          "data": {
            "text/plain": [
              "<matplotlib.axes._subplots.AxesSubplot at 0x7f758500b910>"
            ]
          },
          "metadata": {},
          "execution_count": 16
        },
        {
          "output_type": "display_data",
          "data": {
            "text/plain": [
              "<Figure size 576x144 with 1 Axes>"
            ],
            "image/png": "[encoded data removed]"
          },
          "metadata": {
            "needs_background": "light"
          }
        },
        {
          "output_type": "display_data",
          "data": {
            "text/plain": [
              "<Figure size 576x144 with 1 Axes>"
            ],
            "image/png": "[encoded data removed]"
          },
          "metadata": {
            "needs_background": "light"
          }
        }
      ]
    },
    {
      "cell_type": "markdown",
      "source": [
        "\n",
        "**Softmax 소개**\n",
        "\n",
        "```\n",
        "- # 나오게 된 배경\n",
        "시그모이드 함수가 이진 분류에서만 사용되던 점을 보완\n",
        "- # 장단점\n",
        "확률의 총합이 1이므로, 어떤 분류에 속할 확률이 높은지 한 눈에 알 수 있다.\n",
        "- # 특징 정리 (출력 범위, 미분 값 등 )\n",
        "분류될 클래스가 n개라 할 때, n차원의 벡터를 입력받아, 각 클래스에 속할 확률을 추정한다.\n",
        "출력 범위 : 0 ~ x\n",
        "```\n"
      ],
      "metadata": {
        "id": "ejR0PQYZtLSg"
      }
    },
    {
      "cell_type": "markdown",
      "source": [
        "### **| Tanh**\n",
        "\n"
      ],
      "metadata": {
        "id": "W78hLTGxdtK3"
      }
    },
    {
      "cell_type": "markdown",
      "source": [
        "* 구현\n",
        "\n",
        "\\begin{align}\n",
        "tanh(x) = \\frac{e^x - e^{-x}}{e^{x}+e^{-x}}\n",
        "\\end{align}"
      ],
      "metadata": {
        "id": "eBD4SPRLkTMl"
      }
    },
    {
      "cell_type": "code",
      "source": [
        "def tanh(x):\n",
        "  return (np.exp(x)-np.exp(-x))/(np.exp(x)+np.exp(-x))"
      ],
      "metadata": {
        "id": "SHdGQkAhkTMl"
      },
      "execution_count": null,
      "outputs": []
    },
    {
      "cell_type": "markdown",
      "source": [
        "* 미분\n",
        "\n",
        "\n",
        "\\begin{align}\n",
        "\\frac{d}{dx} tanh(x) = (1-tanh(x))(1+tanh(x))) = 1-tanh(x)^2\n",
        "\\end{align}"
      ],
      "metadata": {
        "id": "nqlW5Q_7kTMl"
      }
    },
    {
      "cell_type": "code",
      "source": [
        "def tanh_grad(x):\n",
        "  return 1-(tanh(x)**2)"
      ],
      "metadata": {
        "id": "NKy-cXGAkTMl"
      },
      "execution_count": null,
      "outputs": []
    },
    {
      "cell_type": "markdown",
      "source": [
        "* 시각화"
      ],
      "metadata": {
        "id": "wXi8E2T_INh4"
      }
    },
    {
      "cell_type": "code",
      "source": [
        "xs = np.linspace(-5,5,100)\n",
        "plt.subplot(121);plot_func(xs, tanh(xs), title='tanh')\n",
        "plt.subplot(122);plot_func(xs, tanh_grad(xs), title='tanh (dev)')"
      ],
      "metadata": {
        "id": "zli5iL01INh5",
        "colab": {
          "base_uri": "https://localhost:8080/",
          "height": 173
        },
        "outputId": "b878d8d3-44ed-485a-de5e-8f2fc5ee05ed"
      },
      "execution_count": null,
      "outputs": [
        {
          "output_type": "display_data",
          "data": {
            "text/plain": [
              "<Figure size 576x144 with 2 Axes>"
            ],
            "image/png": "[encoded data removed]"
          },
          "metadata": {
            "needs_background": "light"
          }
        }
      ]
    },
    {
      "cell_type": "markdown",
      "source": [
        "\n",
        "**Tanh 소개**\n",
        "\n",
        "```\n",
        "- # 나오게 된 배경\n",
        "시그모이드의 단점을 보완하기 위해\n",
        "- # 장단점\n",
        "학습 시간이 빠르며, 시그모이드와 달리 편향 이동이 없고 학습 효율성이 더 뛰어남\n",
        "- # 특징 정리 (출력 범위, 미분 값 등 )\n",
        "출력범위 : -1~1, 미분값 : 0-1\n",
        "```\n",
        "\n"
      ],
      "metadata": {
        "id": "aeS5x6QJINh5"
      }
    },
    {
      "cell_type": "markdown",
      "source": [
        "### **| ReLU**\n"
      ],
      "metadata": {
        "id": "3pvnp63ydtbv"
      }
    },
    {
      "cell_type": "markdown",
      "source": [
        "* 구현\n",
        "\n",
        "\\begin{align}\n",
        "ReLU(x) = max(0, x)\n",
        "\\end{align}"
      ],
      "metadata": {
        "id": "CoX6MmkZkU2s"
      }
    },
    {
      "cell_type": "code",
      "source": [
        "def ReLU(x):\n",
        "  return np.maximum(0, x)"
      ],
      "metadata": {
        "id": "pHdYyZY0kU2s"
      },
      "execution_count": null,
      "outputs": []
    },
    {
      "cell_type": "markdown",
      "source": [
        "* 미분\n",
        "\n",
        "\n",
        "\\begin{align}\n",
        "\\frac{x}{dx} ReLU(x) =  \n",
        "\\begin{cases}\n",
        "& 1 \\;\\; \\text{ if } x \\geq 0  \n",
        "\\\\ & 0 \\;\\; \\text{ if } x <0  \n",
        "\\end{cases}\n",
        "\\end{align}\n"
      ],
      "metadata": {
        "id": "i02vlzpOkU2s"
      }
    },
    {
      "cell_type": "code",
      "source": [
        "def ReLU_grad(x):\n",
        "  return np.where( x >= 0, 1, 0)"
      ],
      "metadata": {
        "id": "VVvwQ-LkkU2s"
      },
      "execution_count": null,
      "outputs": []
    },
    {
      "cell_type": "markdown",
      "source": [
        "* 시각화"
      ],
      "metadata": {
        "id": "kyDgaTsnImBJ"
      }
    },
    {
      "cell_type": "code",
      "source": [
        "xs = np.linspace(-5,5,100)\n",
        "plt.subplot(121);plot_func(xs, ReLU(xs), title='ReLU')\n",
        "plt.subplot(122);plot_func(xs, ReLU_grad(xs), title='ReLU (dev)')"
      ],
      "metadata": {
        "id": "Gus2PThvImBJ",
        "colab": {
          "base_uri": "https://localhost:8080/",
          "height": 173
        },
        "outputId": "83063c0e-a1e2-4b1d-f877-35aedfd90b21"
      },
      "execution_count": null,
      "outputs": [
        {
          "output_type": "display_data",
          "data": {
            "text/plain": [
              "<Figure size 576x144 with 2 Axes>"
            ],
            "image/png": "[encoded data removed]"
          },
          "metadata": {
            "needs_background": "light"
          }
        }
      ]
    },
    {
      "cell_type": "markdown",
      "source": [
        "\n",
        "\n",
        "**ReLU 소개**\n",
        "\n",
        "```\n",
        "- # 나오게 된 배경\n",
        "시그모이드의 기울기 소실 문제를 해결하기 위해.\n",
        "- # 장단점\n",
        "장점 : 기울기 소실 문제가 해결되었고, 은닉층에서 주로 사용하며 기존 활성화 함수보다 속도가 매우 빠름.\n",
        "단점 : 입력 값이 음수일 경우, 기울기도 0이 되는데, 가중치의 합이 음수가 될 때 기울기가 0이 되는 문제 발생.\n",
        "- # 특징 정리 (출력 범위, 미분 값 등 )\n",
        "출력범위 : 0~x, 미분값 : 0-1\n",
        "```\n",
        "\n"
      ],
      "metadata": {
        "id": "W7iYiMomImBJ"
      }
    },
    {
      "cell_type": "markdown",
      "source": [
        "### **| LeackyReLU & PReLU**\n",
        "\n"
      ],
      "metadata": {
        "id": "giYriuzFd2Y5"
      }
    },
    {
      "cell_type": "markdown",
      "source": [
        "* 구현\n",
        "\n",
        "\\begin{align}\n",
        "LeackyReLU(x) = max(0.01  x, x)\n",
        "\\\\\n",
        "\\\\\n",
        "\\end{align}\n",
        "\n",
        "\n",
        "\n",
        "\\begin{align}\n",
        "PReLU(x;\\alpha) = max(\\alpha  x, x)\n",
        "\\end{align}"
      ],
      "metadata": {
        "id": "0J0EQQr6kVyU"
      }
    },
    {
      "cell_type": "code",
      "source": [
        "def PReLU(x, alpha=0.01):\n",
        "  return np.maximum(alpha*x, x)"
      ],
      "metadata": {
        "id": "ZPn3pdYRkVyU"
      },
      "execution_count": null,
      "outputs": []
    },
    {
      "cell_type": "markdown",
      "source": [
        "* 미분\n",
        "\n",
        "\\begin{align}\n",
        "\\frac{x}{dx} PReLU(x;\\alpha) =  \n",
        "\\begin{cases}\n",
        "& 1 \\;\\; \\text{ if } x \\geq 0  \n",
        "\\\\ & \\alpha \\;\\; \\text{ if } x <0  \n",
        "\\end{cases}\n",
        "\\end{align}"
      ],
      "metadata": {
        "id": "GgkyM8S9kVyU"
      }
    },
    {
      "cell_type": "code",
      "source": [
        "def PReLU_grad(x, alpha=0.01):\n",
        "  return np.where( x >= 0, 1, alpha)"
      ],
      "metadata": {
        "id": "SbkBD0IkkVyU"
      },
      "execution_count": null,
      "outputs": []
    },
    {
      "cell_type": "markdown",
      "source": [
        "* 시각화\n",
        "  * $\\alpha$ 값이 각각 0.01, 0.1, 0.2 일때 플롯을 그리세요."
      ],
      "metadata": {
        "id": "hEw-vFRiK_LP"
      }
    },
    {
      "cell_type": "code",
      "source": [
        "xs = np.linspace(-5,5,100)\n",
        "for alpha in [0.01, 0.1, 0.2]:\n",
        "  plt.subplot(121);plot_func(xs, PReLU(xs, alpha=alpha), title=f'PReLU (alpha={alpha})')\n",
        "  plt.subplot(122);plot_func(xs, PReLU_grad(xs, alpha=alpha), title=f'PReLU (dev, alpah={alpha})')\n",
        "  plt.show()"
      ],
      "metadata": {
        "id": "NnSDkIONK_LP",
        "colab": {
          "base_uri": "https://localhost:8080/",
          "height": 485
        },
        "outputId": "699e349a-6bb7-4f7b-ab58-5de4e315b31f"
      },
      "execution_count": null,
      "outputs": [
        {
          "output_type": "display_data",
          "data": {
            "text/plain": [
              "<Figure size 576x144 with 2 Axes>"
            ],
            "image/png": "[encoded data removed]"
          },
          "metadata": {
            "needs_background": "light"
          }
        },
        {
          "output_type": "display_data",
          "data": {
            "text/plain": [
              "<Figure size 576x144 with 2 Axes>"
            ],
            "image/png": "[encoded data removed]"
          },
          "metadata": {
            "needs_background": "light"
          }
        },
        {
          "output_type": "display_data",
          "data": {
            "text/plain": [
              "<Figure size 576x144 with 2 Axes>"
            ],
            "image/png": "[encoded data removed]"
          },
          "metadata": {
            "needs_background": "light"
          }
        }
      ]
    },
    {
      "cell_type": "markdown",
      "source": [
        "\n",
        "\n",
        "**LeackReLU및 PReLU 소개**\n",
        "\n",
        "```\n",
        "- # 나오게 된 배경\n",
        "ReLU의 단점을 보완하기 위해.\n",
        "- # LeackReLU 장단점\n",
        "음수를 0으로 하던 기존 ReLU와 달리 0.01배 함으로 단점 보완함.\n",
        "음수에서 선형성이 생겨 복잡한 분류를 사용할 수 없어짐.\n",
        "- # PReLU 장단점\n",
        "LeackReLU가 0.01배를 한다면, PReLU는 음수의 계수 알파 값이라는 하이퍼 파라미터로 내가 원하는 값을 사용해 대규모 이미지셋에서 사용하기 좋음.\n",
        "과적합의 위험이 있음.\n",
        "- # 특징 정리 (출력 범위, 미분 값 등 )\n",
        "LeackReLU : 출력 범위 : -x ~ x, 미분 값 : -x ~ x\n",
        "PReLU : 출력 범위 : -x ~ x, 미분 값 : 0 ~ 1\n",
        "- # 알파 값은 보통 어떻게 정해지는가?\n",
        "```\n",
        "\n"
      ],
      "metadata": {
        "id": "iBA1WZWSK_LQ"
      }
    },
    {
      "cell_type": "markdown",
      "source": [
        "### **| ELU & SELU**\n",
        "\n",
        "\n",
        "\\begin{align}\n",
        "ELU(x) =\n",
        "\\begin{cases}\n",
        "& x \\;\\;\\;\\;\\;\\;\\;\\;\\;\\;\\;\\;\\;\\;\\;\\;\\; \\text{ if } x \\geq 0  \n",
        "\\\\ & (e^x-1) \\;\\;\\;\\;\\;\\; \\text{ if } x <0  \n",
        "\\end{cases}\n",
        "\\\\\n",
        "\\\\\n",
        "\\end{align}\n",
        "\n",
        "\n",
        "\n",
        "\\begin{align}\n",
        "SELU(x;\\alpha) =\n",
        "\\begin{cases}\n",
        "& x \\;\\;\\;\\;\\;\\;\\;\\;\\;\\;\\;\\;\\;\\;\\; \\text{ if } x \\geq 0  \n",
        "\\\\ & \\alpha(e^x-1) \\;\\; \\text{ if } x <0  \n",
        "\\end{cases}\n",
        "\\end{align}"
      ],
      "metadata": {
        "id": "IuUR73Ytd-E3"
      }
    },
    {
      "cell_type": "markdown",
      "source": [
        "* 구현"
      ],
      "metadata": {
        "id": "gllJdWbrkYEn"
      }
    },
    {
      "cell_type": "code",
      "source": [
        "def ELU(x, alpha=1):\n",
        "  return np.where( x >= 0, x, alpha*(np.exp(x)-1))"
      ],
      "metadata": {
        "id": "bgm1hZG0kYEo"
      },
      "execution_count": null,
      "outputs": []
    },
    {
      "cell_type": "markdown",
      "source": [
        "* 미분\n",
        "\n",
        "\\begin{align}\n",
        "\\frac{x}{dx} ELU(x;\\alpha) =  \n",
        "\\begin{cases}\n",
        "& 1 \\;\\;\\;\\;\\;\\; \\text{ if } x \\geq 0  \n",
        "\\\\ & \\alpha e^{x} \\;\\; \\text{ if } x <0  \n",
        "\\end{cases}\n",
        "\\end{align}"
      ],
      "metadata": {
        "id": "w-f6CI2PkYEo"
      }
    },
    {
      "cell_type": "code",
      "source": [
        "def ELU_grad(x, alpha=1):\n",
        "  return np.where( x >= 0, 1, alpha*np.exp(x) )"
      ],
      "metadata": {
        "id": "5DlHTv-VkYEo"
      },
      "execution_count": null,
      "outputs": []
    },
    {
      "cell_type": "markdown",
      "source": [
        "* 시각화\n",
        "  * $\\alpha$ 값이 각각 0.1, 1, 2 일때 플롯을 그리세요."
      ],
      "metadata": {
        "id": "9fQgzGW7MGXO"
      }
    },
    {
      "cell_type": "code",
      "source": [
        "xs = np.linspace(-5,5,100)\n",
        "for alpha in (0.1, 1, 2):\n",
        "  plt.subplot(121);plot_func(xs, ELU(xs, alpha=alpha), title=f'ELU (alpha={alpha})')\n",
        "  plt.subplot(122);plot_func(xs, ELU_grad(xs, alpha=alpha), title=f'ELU (dev, alpah={alpha})')\n",
        "  plt.show()"
      ],
      "metadata": {
        "id": "PQsWOKX8MGXO",
        "colab": {
          "base_uri": "https://localhost:8080/",
          "height": 485
        },
        "outputId": "bc1b91a4-326b-4e4d-8a08-8079e6140f76"
      },
      "execution_count": null,
      "outputs": [
        {
          "output_type": "display_data",
          "data": {
            "text/plain": [
              "<Figure size 576x144 with 2 Axes>"
            ],
            "image/png": "[encoded data removed]"
          },
          "metadata": {
            "needs_background": "light"
          }
        },
        {
          "output_type": "display_data",
          "data": {
            "text/plain": [
              "<Figure size 576x144 with 2 Axes>"
            ],
            "image/png": "[encoded data removed]"
          },
          "metadata": {
            "needs_background": "light"
          }
        },
        {
          "output_type": "display_data",
          "data": {
            "text/plain": [
              "<Figure size 576x144 with 2 Axes>"
            ],
            "image/png": "[encoded data removed]"
          },
          "metadata": {
            "needs_background": "light"
          }
        }
      ]
    },
    {
      "cell_type": "markdown",
      "source": [
        "\n",
        "\n",
        "**ELU 및 SELU 소개**\n",
        "\n",
        "```\n",
        "- # 나오게 된 배경\n",
        "위와 마찬가지로 ReLU를 보완하기 위해.\n",
        "- # ELU 장단점\n",
        "미분 시 0에서 끊어지는 ReLU와 달리 부드럽게 이어지며 음의 출력 또한 가능.\n",
        "성능이 크게 증가하진 않으며 학습 속도 또한 느림.\n",
        "- # SELU 장단점\n",
        "ELU에서 알파 값을 하나 더 넣어 학습하여 분산이 일정하게 나옴.\n",
        "결과값이 일정하지 않아 층을 쌓을 수 없어지며 ELU와 마찬가지로 속도가 느림.\n",
        "- # 특징 정리 (출력 범위, 미분 값 등 )\n",
        "ELU : 출력 범위 : -x ~ x 미분 값 : x <= 0 : e^x, x >= 1\n",
        "SELU : 출력 범위 : \n",
        "- # 알파 값은 보통 어떻게 정해지는가?\n",
        "ELU는 알파 값을 통상적으로 1로 정함.\n",
        "```\n",
        "\n"
      ],
      "metadata": {
        "id": "lScBXtP4MGXO"
      }
    },
    {
      "cell_type": "markdown",
      "source": [
        "## 그래디언트 소실 (Vaniching Gradient)\n",
        "---\n",
        "다음 질문에 답할 수 있도록 내용을 정리하세요.\n",
        "\n",
        "1. 그래디언트 소실 개념\n",
        "2. 딥러닝에서 그래디언트 값이 중요한 이유\n",
        "3. 그래디언트 소실을 방지하기 위한 딥러닝 기법\n",
        "\n",
        "```\n",
        "1. 역전파 알고리즘에서 처음 입력층(input layer)으로 진행할수록 기울기가 점차적으로 작아지다가 나중에는 거의 기울기의 변화가 없어지는 문제\n",
        "2. 기울기 값이 가중치의 값이기 때문.\n",
        "3. ReLU\n",
        "\n",
        "```"
      ],
      "metadata": {
        "id": "jmJI0rPcK0Lg"
      }
    },
    {
      "cell_type": "code",
      "source": [
        ""
      ],
      "metadata": {
        "id": "UwJdVUnqkL7i"
      },
      "execution_count": null,
      "outputs": []
    }
  ]
}
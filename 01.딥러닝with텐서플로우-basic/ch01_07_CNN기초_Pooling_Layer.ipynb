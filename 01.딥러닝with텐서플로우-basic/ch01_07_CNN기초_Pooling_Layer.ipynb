{
  "nbformat": 4,
  "nbformat_minor": 0,
  "metadata": {
    "colab": {
      "name": "ch01_07_CNN기초_Pooling_Layer.ipynb",
      "provenance": [],
      "collapsed_sections": [],
      "include_colab_link": true
    },
    "kernelspec": {
      "name": "python3",
      "display_name": "Python 3"
    },
    "language_info": {
      "name": "python"
    },
    "accelerator": "GPU",
    "gpuClass": "standard"
  },
  "cells": [
    {
      "cell_type": "markdown",
      "metadata": {
        "id": "view-in-github",
        "colab_type": "text"
      },
      "source": [
        "<a href=\"https://colab.research.google.com/github/pthkbs123/SkillTreePython-DeepLearning/blob/main/01.%EB%94%A5%EB%9F%AC%EB%8B%9Dwith%ED%85%90%EC%84%9C%ED%94%8C%EB%A1%9C%EC%9A%B0-basic/ch01_07_CNN%EA%B8%B0%EC%B4%88_Pooling_Layer.ipynb\" target=\"_parent\"><img src=\"https://colab.research.google.com/assets/colab-badge.svg\" alt=\"Open In Colab\"/></a>"
      ]
    },
    {
      "cell_type": "markdown",
      "source": [
        "# ch01.07 CNN기초 - Pooling Layer\n",
        "---\n",
        "\n",
        "* 날짜: 2022-07-05\n",
        "* 이름: 박태현\n",
        "\n",
        "## 학습내용\n",
        "    - CNN의 개념을 이해한다.\n",
        "    - 텐서플로우를 이용해 CNN을 구성한다.\n",
        "    - CNN 모델을 이용해 손글씨 이미지를 분류한다.\n",
        "    - CNN의 feature map에 대해 이해한다.\n",
        "\n",
        "## 데이터셋\n",
        "\n",
        "* MNIST\n",
        "\n",
        "```\n",
        "import numpy as np\n",
        "import tensorflow as tf\n",
        "import matplotlib.pyplot as plt\n",
        "```"
      ],
      "metadata": {
        "id": "sWs2kEC1_b-P"
      }
    },
    {
      "cell_type": "code",
      "source": [
        "import numpy as np\n",
        "import tensorflow as tf\n",
        "import matplotlib.pyplot as plt"
      ],
      "metadata": {
        "id": "7vXrksNr0m1v"
      },
      "execution_count": 4,
      "outputs": []
    },
    {
      "cell_type": "markdown",
      "source": [
        "## Pooling layer\n",
        "---\n",
        "\n",
        "풀링(Pooling) 연산은 커널과 스트라이드 개념이 존재한다는 점에서 합성곱 연산과 유사하지만, 학습해야 할 가중치가 없으며 연산 후에 채널 수가 변하지 않습니다. 일반적으로 합성곱 층(합성곱 연산 + 활성화 함수) 다음에는 풀링 층을 추가하는 것이 일반적입니다. \n"
      ],
      "metadata": {
        "id": "EL2T1tz6Y9yn"
      }
    },
    {
      "cell_type": "code",
      "source": [
        "from tensorflow.keras.layers import MaxPool2D, AvgPool2D"
      ],
      "metadata": {
        "id": "gIW4t6tvstjV"
      },
      "execution_count": 5,
      "outputs": []
    },
    {
      "cell_type": "markdown",
      "source": [
        "### **| 맥스 풀링(Max Pooling)**\n",
        "맥스풀링은 이미지 영역의 최대값 만을 출력값으로 가지는 연산 방법입니다. \n",
        "\n",
        "\n",
        "\n",
        "<p align='center'>\n",
        "<img src=https://github.com/yebiny/SkillTreePython-DeepLearning/blob/main/imgs/ch0107-01.PNG?raw=true width=400>\n",
        "</p>\n",
        "\n"
      ],
      "metadata": {
        "id": "m3Y7QC2Lg_eo"
      }
    },
    {
      "cell_type": "code",
      "source": [
        "x = np.array([1,0,1,1,1,2,0,0,1,0,1,0,0,0,1,1], dtype='float16').reshape(1,4,4,1)\n",
        "print(x, x.shape)\n",
        "\n",
        "y = MaxPool2D(pool_size = 2, strides = 1)(x) # kernel_size = pool_size / input_shape -> (n,w,h,ch). 안그러면 오류\n",
        "print(y[0,:,:,0] ,y.shape)"
      ],
      "metadata": {
        "id": "X3MbCf7Bk_yj",
        "colab": {
          "base_uri": "https://localhost:8080/"
        },
        "outputId": "0e90d5d3-49c0-4af2-fef2-949c0603c010"
      },
      "execution_count": 6,
      "outputs": [
        {
          "output_type": "stream",
          "name": "stdout",
          "text": [
            "[[[[1.]\n",
            "   [0.]\n",
            "   [1.]\n",
            "   [1.]]\n",
            "\n",
            "  [[1.]\n",
            "   [2.]\n",
            "   [0.]\n",
            "   [0.]]\n",
            "\n",
            "  [[1.]\n",
            "   [0.]\n",
            "   [1.]\n",
            "   [0.]]\n",
            "\n",
            "  [[0.]\n",
            "   [0.]\n",
            "   [1.]\n",
            "   [1.]]]] (1, 4, 4, 1)\n",
            "tf.Tensor(\n",
            "[[2. 2. 1.]\n",
            " [2. 2. 1.]\n",
            " [1. 1. 1.]], shape=(3, 3), dtype=float32) (1, 3, 3, 1)\n"
          ]
        }
      ]
    },
    {
      "cell_type": "markdown",
      "source": [
        "### **| 평균 풀링(Average Pooling)**\n",
        "\n",
        "\n",
        "평균풀링은 이미지 영역의 평균값 을 출력값으로 가지는 연산 방법입니다. \n",
        "\n",
        "\n",
        "<p align='center'>\n",
        "<img src=https://github.com/yebiny/SkillTreePython-DeepLearning/blob/main/imgs/ch0107-02.PNG?raw=true width=400>\n",
        "</p>\n",
        "\n",
        "\n",
        "\n"
      ],
      "metadata": {
        "id": "qu4lThvGhun1"
      }
    },
    {
      "cell_type": "code",
      "source": [
        "x = np.array([1,0,1,1,1,2,0,0,1,0,1,0,0,0,1,1], dtype='float16').reshape(1,4,4,1)\n",
        "print(x, x.shape)\n",
        "\n",
        "y = AvgPool2D(pool_size = 2, strides = 1)(x) # kernel_size = pool_size / input_shape -> (n,w,h,ch). 안그러면 오류\n",
        "print(y[0,:,:,0] ,y.shape)"
      ],
      "metadata": {
        "id": "o1XirsZ5mqAY",
        "colab": {
          "base_uri": "https://localhost:8080/"
        },
        "outputId": "31ada05e-8618-42d0-9b83-4f2d132781e3"
      },
      "execution_count": 7,
      "outputs": [
        {
          "output_type": "stream",
          "name": "stdout",
          "text": [
            "[[[[1.]\n",
            "   [0.]\n",
            "   [1.]\n",
            "   [1.]]\n",
            "\n",
            "  [[1.]\n",
            "   [2.]\n",
            "   [0.]\n",
            "   [0.]]\n",
            "\n",
            "  [[1.]\n",
            "   [0.]\n",
            "   [1.]\n",
            "   [0.]]\n",
            "\n",
            "  [[0.]\n",
            "   [0.]\n",
            "   [1.]\n",
            "   [1.]]]] (1, 4, 4, 1)\n",
            "tf.Tensor(\n",
            "[[1.   0.75 0.5 ]\n",
            " [1.   0.75 0.25]\n",
            " [0.25 0.5  0.75]], shape=(3, 3), dtype=float32) (1, 3, 3, 1)\n"
          ]
        }
      ]
    },
    {
      "cell_type": "markdown",
      "source": [
        "## LeNet-5\n",
        "---\n",
        "\n",
        "LeNet-5[(논문)](http://yann.lecun.com/exdb/publis/pdf/lecun-01a.pdf) 구조는 아마도 가장 널리 알려진 CNN 구조일 것입니다. 이 구조는 1998년 얀 르쿤이 만들었으며 손글씨 숫자 인식(MNIST)에 널리 사용되었습니다. \n",
        "\n",
        "\n",
        "![](https://www.datasciencecentral.com/wp-content/uploads/2021/10/1lvvWF48t7cyRWqct13eU0w.jpeg)"
      ],
      "metadata": {
        "id": "smec5PcVY_iZ"
      }
    },
    {
      "cell_type": "markdown",
      "source": [
        "### | LeNet-5을 이용한 손글씨 이미지 분류"
      ],
      "metadata": {
        "id": "H5gXVz4_jTyl"
      }
    },
    {
      "cell_type": "markdown",
      "source": [
        "####  **데이터 준비**"
      ],
      "metadata": {
        "id": "9XFyQs_Nm6w0"
      }
    },
    {
      "cell_type": "code",
      "source": [
        "mnist = tf.keras.datasets.mnist\n",
        "(x_train, y_train), (x_test, y_test) = mnist.load_data()\n",
        "# 전처리-정규화\n",
        "x_train, x_test = x_train/255.0 , x_test/255.0\n",
        "# 전처리-shape 맞추기\n",
        "x_train = np.expand_dims(x_train, 3)\n",
        "x_test = np.expand_dims(x_test, 3)\n",
        "\n",
        "print(x_train.shape, x_test.shape, y_train.shape, y_test.shape)"
      ],
      "metadata": {
        "id": "eFbUg6pkhV0I",
        "colab": {
          "base_uri": "https://localhost:8080/"
        },
        "outputId": "fc8ee951-6b31-4f32-dcec-1f70c46dbce2"
      },
      "execution_count": 24,
      "outputs": [
        {
          "output_type": "stream",
          "name": "stdout",
          "text": [
            "(60000, 28, 28, 1) (10000, 28, 28, 1) (60000,) (10000,)\n"
          ]
        }
      ]
    },
    {
      "cell_type": "markdown",
      "source": [
        "#### **모델 구성**"
      ],
      "metadata": {
        "id": "OsX9GfKbiKRy"
      }
    },
    {
      "cell_type": "code",
      "source": [
        "from tensorflow.keras import layers, models, utils\n",
        "def build_lenet5():\n",
        "  x = layers.Input(shape = (28,28,1))\n",
        "  y = layers.Conv2D(filters=6, kernel_size = 5, padding = 'same', activation = 'tanh')(x)\n",
        "  y = layers.AvgPool2D(pool_size = 2, strides = 2)(y)\n",
        "  y = layers.Conv2D(filters=16, kernel_size = 5, padding = 'valid', activation = 'tanh')(y)\n",
        "  y = layers.MaxPool2D(pool_size = 2, strides = 2)(y)\n",
        "\n",
        "  y = layers.Flatten()(y)\n",
        "  y = layers.Dense(120, activation='tanh')(y)\n",
        "  y = layers.Dense(84, activation='tanh')(y)\n",
        "  y = layers.Dense(10, activation='softmax')(y)\n",
        "  model = tf.keras.models.Model(x,y)\n",
        "  return model"
      ],
      "metadata": {
        "id": "6M3wFU_lZFoV"
      },
      "execution_count": 25,
      "outputs": []
    },
    {
      "cell_type": "markdown",
      "source": [
        "#### **학습 및 평가**"
      ],
      "metadata": {
        "id": "rz5mqFWCiLiv"
      }
    },
    {
      "cell_type": "code",
      "source": [
        "model = build_lenet5()\n",
        "model.summary()\n",
        "model.compile(optimizer = 'sgd', # 경사하강법 (배치)\n",
        "              loss = 'sparse_categorical_crossentropy',\n",
        "              metrics=['accuracy']\n",
        "              )\n",
        "model.fit(x_train, y_train, epochs=10)\n",
        "print('===테스트 스코어===')\n",
        "model.evaluate(x_test, y_test)"
      ],
      "metadata": {
        "id": "pKqI02-5aZ1I",
        "colab": {
          "base_uri": "https://localhost:8080/"
        },
        "outputId": "e5310d14-2c9e-4a8f-b38c-342b5fdbf112"
      },
      "execution_count": 26,
      "outputs": [
        {
          "output_type": "stream",
          "name": "stdout",
          "text": [
            "Model: \"model_4\"\n",
            "_________________________________________________________________\n",
            " Layer (type)                Output Shape              Param #   \n",
            "=================================================================\n",
            " input_5 (InputLayer)        [(None, 28, 28, 1)]       0         \n",
            "                                                                 \n",
            " conv2d_8 (Conv2D)           (None, 28, 28, 6)         156       \n",
            "                                                                 \n",
            " average_pooling2d_5 (Averag  (None, 14, 14, 6)        0         \n",
            " ePooling2D)                                                     \n",
            "                                                                 \n",
            " conv2d_9 (Conv2D)           (None, 10, 10, 16)        2416      \n",
            "                                                                 \n",
            " max_pooling2d_5 (MaxPooling  (None, 5, 5, 16)         0         \n",
            " 2D)                                                             \n",
            "                                                                 \n",
            " flatten_4 (Flatten)         (None, 400)               0         \n",
            "                                                                 \n",
            " dense_12 (Dense)            (None, 120)               48120     \n",
            "                                                                 \n",
            " dense_13 (Dense)            (None, 84)                10164     \n",
            "                                                                 \n",
            " dense_14 (Dense)            (None, 10)                850       \n",
            "                                                                 \n",
            "=================================================================\n",
            "Total params: 61,706\n",
            "Trainable params: 61,706\n",
            "Non-trainable params: 0\n",
            "_________________________________________________________________\n",
            "Epoch 1/10\n",
            "1875/1875 [==============================] - 6s 3ms/step - loss: 0.5084 - accuracy: 0.8699\n",
            "Epoch 2/10\n",
            "1875/1875 [==============================] - 5s 3ms/step - loss: 0.1726 - accuracy: 0.9514\n",
            "Epoch 3/10\n",
            "1875/1875 [==============================] - 5s 3ms/step - loss: 0.1189 - accuracy: 0.9654\n",
            "Epoch 4/10\n",
            "1875/1875 [==============================] - 5s 3ms/step - loss: 0.0937 - accuracy: 0.9732\n",
            "Epoch 5/10\n",
            "1875/1875 [==============================] - 5s 3ms/step - loss: 0.0792 - accuracy: 0.9771\n",
            "Epoch 6/10\n",
            "1875/1875 [==============================] - 5s 3ms/step - loss: 0.0692 - accuracy: 0.9805\n",
            "Epoch 7/10\n",
            "1875/1875 [==============================] - 5s 3ms/step - loss: 0.0617 - accuracy: 0.9822\n",
            "Epoch 8/10\n",
            "1875/1875 [==============================] - 5s 3ms/step - loss: 0.0561 - accuracy: 0.9837\n",
            "Epoch 9/10\n",
            "1875/1875 [==============================] - 5s 3ms/step - loss: 0.0514 - accuracy: 0.9851\n",
            "Epoch 10/10\n",
            "1875/1875 [==============================] - 5s 3ms/step - loss: 0.0471 - accuracy: 0.9868\n",
            "===테스트 스코어===\n",
            "313/313 [==============================] - 1s 2ms/step - loss: 0.0450 - accuracy: 0.9856\n"
          ]
        },
        {
          "output_type": "execute_result",
          "data": {
            "text/plain": [
              "[0.04496404156088829, 0.9855999946594238]"
            ]
          },
          "metadata": {},
          "execution_count": 26
        }
      ]
    },
    {
      "cell_type": "markdown",
      "source": [
        "### **| Feature map**"
      ],
      "metadata": {
        "id": "MDlSRAle6SKL"
      }
    },
    {
      "cell_type": "markdown",
      "source": [
        "#### **feature map 얻기**"
      ],
      "metadata": {
        "id": "Idw3nITWaaGb"
      }
    },
    {
      "cell_type": "code",
      "source": [
        "#for layer in model.layers:\n",
        "#  print(layer, layer.output)\n",
        "layer_outputs = [layer.output for layer in model.layers] # 레이어의 아웃풋 = 데이터 변환과정\n",
        "model_output_by_layer = models.Model(inputs=model.input, outputs=layer_outputs) # 모든 레이어의 아웃풋 획득 가능\n",
        "print(len(layer_outputs))\n",
        "x_pred_maps = model_output_by_layer(x_test)\n",
        "for x_pred_map in x_pred_maps:\n",
        "  print(x_pred_map.shape)\n",
        "cnn_layers = [1,2,3,4]\n",
        "dnn_layers = [5,6,7]"
      ],
      "metadata": {
        "id": "sEFcCb5Btua2",
        "colab": {
          "base_uri": "https://localhost:8080/"
        },
        "outputId": "521e4688-eacb-4974-aa89-c606edb4f64a"
      },
      "execution_count": 33,
      "outputs": [
        {
          "output_type": "stream",
          "name": "stdout",
          "text": [
            "9\n",
            "(10000, 28, 28, 1)\n",
            "(10000, 28, 28, 6)\n",
            "(10000, 14, 14, 6)\n",
            "(10000, 10, 10, 16)\n",
            "(10000, 5, 5, 16)\n",
            "(10000, 400)\n",
            "(10000, 120)\n",
            "(10000, 84)\n",
            "(10000, 10)\n"
          ]
        }
      ]
    },
    {
      "cell_type": "markdown",
      "source": [
        "#### **시각화**\n",
        "\n",
        "![](https://www.datasciencecentral.com/wp-content/uploads/2021/10/1lvvWF48t7cyRWqct13eU0w.jpeg)\n",
        "\n",
        "[시각화 함수 스크립트](https://github.com/yebiny/SkillTreePython-DeepLearning/blob/main/01.%EB%94%A5%EB%9F%AC%EB%8B%9Dwith%ED%85%90%EC%84%9C%ED%94%8C%EB%A1%9C%EC%9A%B0-basic/scripts/featuremap_dict.py)"
      ],
      "metadata": {
        "id": "KS8K45aqWbYb"
      }
    },
    {
      "cell_type": "code",
      "source": [
        "import numpy as numpy\n",
        "import tensorflow as tf\n",
        "import matplotlib.pyplot as plt\n",
        "\n",
        "def show_featuremap(sample_idx, fmaps, cnn_idxs, flatten_idxs):\n",
        "  for idx in cnn_idxs:\n",
        "    fmap = fmaps[idx][sample_idx]\n",
        "    chs = fmap.shape[2]\n",
        "    print(f'{idx} 번째 Convolutional 레이어 {fmap.shape}')\n",
        "    for ch in range(chs):\n",
        "      plt.subplot(1,chs,ch+1)\n",
        "      plt.imshow(fmap[:,:,ch], cmap='gray')\n",
        "      plt.xticks([]);plt.yticks([])\n",
        "    plt.show()\n",
        "\n",
        "  for idx in flatten_idxs:\n",
        "    fmap = fmaps[idx][sample_idx]\n",
        "    print(f'{idx} 번째 Dense 레이어 {fmap.shape}')\n",
        "    plt.figure(figsize=(int(len(fmap)/5),10))\n",
        "    plt.imshow(tf.reshape(fmap,(1,len(fmap))), cmap='gray')\n",
        "    plt.xticks(range(10));plt.yticks([]);plt.show()"
      ],
      "metadata": {
        "id": "lR5o-iP0znfa"
      },
      "execution_count": 28,
      "outputs": []
    },
    {
      "cell_type": "code",
      "source": [
        "sample_idx = 5\n",
        "show_featuremap(sample_idx, x_pred_maps, cnn_layers, dnn_layers)"
      ],
      "metadata": {
        "colab": {
          "base_uri": "https://localhost:8080/",
          "height": 447
        },
        "id": "l8Tlp63b9WrD",
        "outputId": "d25bade5-642d-4d24-88d8-f72010be8518"
      },
      "execution_count": 34,
      "outputs": [
        {
          "output_type": "stream",
          "name": "stdout",
          "text": [
            "1 번째 Convolutional 레이어 (28, 28, 6)\n"
          ]
        },
        {
          "output_type": "display_data",
          "data": {
            "text/plain": [
              "<Figure size 432x288 with 6 Axes>"
            ],
            "image/png": "[encoded data removed]"
          },
          "metadata": {}
        },
        {
          "output_type": "stream",
          "name": "stdout",
          "text": [
            "2 번째 Convolutional 레이어 (14, 14, 6)\n"
          ]
        },
        {
          "output_type": "display_data",
          "data": {
            "text/plain": [
              "<Figure size 432x288 with 6 Axes>"
            ],
            "image/png": "[encoded data removed]"
          },
          "metadata": {}
        },
        {
          "output_type": "stream",
          "name": "stdout",
          "text": [
            "3 번째 Convolutional 레이어 (10, 10, 16)\n"
          ]
        },
        {
          "output_type": "display_data",
          "data": {
            "text/plain": [
              "<Figure size 432x288 with 16 Axes>"
            ],
            "image/png": "[encoded data removed]"
          },
          "metadata": {}
        },
        {
          "output_type": "stream",
          "name": "stdout",
          "text": [
            "4 번째 Convolutional 레이어 (5, 5, 16)\n"
          ]
        },
        {
          "output_type": "display_data",
          "data": {
            "text/plain": [
              "<Figure size 432x288 with 16 Axes>"
            ],
            "image/png": "[encoded data removed]"
          },
          "metadata": {}
        },
        {
          "output_type": "stream",
          "name": "stdout",
          "text": [
            "5 번째 Dense 레이어 (400,)\n"
          ]
        },
        {
          "output_type": "display_data",
          "data": {
            "text/plain": [
              "<Figure size 5760x720 with 1 Axes>"
            ],
            "image/png": "[encoded data removed]"
          },
          "metadata": {
            "needs_background": "light"
          }
        },
        {
          "output_type": "stream",
          "name": "stdout",
          "text": [
            "6 번째 Dense 레이어 (120,)\n"
          ]
        },
        {
          "output_type": "display_data",
          "data": {
            "text/plain": [
              "<Figure size 1728x720 with 1 Axes>"
            ],
            "image/png": "[encoded data removed]"
          },
          "metadata": {
            "needs_background": "light"
          }
        },
        {
          "output_type": "stream",
          "name": "stdout",
          "text": [
            "7 번째 Dense 레이어 (84,)\n"
          ]
        },
        {
          "output_type": "display_data",
          "data": {
            "text/plain": [
              "<Figure size 1152x720 with 1 Axes>"
            ],
            "image/png": "[encoded data removed]"
          },
          "metadata": {
            "needs_background": "light"
          }
        }
      ]
    },
    {
      "cell_type": "markdown",
      "source": [
        "## 과제 1. 의류 이미지 분류\n",
        "---\n",
        "* 데이터셋 : f-minst(fashoin mnist)\n",
        "* 데이터를 소개하세요.\n",
        "* 데이터의 형태를 파악하세요\n",
        "* 적절한 모델을 생성하세요\n",
        "* 데이터에 적합하게 학습을 진행하세요."
      ],
      "metadata": {
        "id": "DQcPHD1H5lZM"
      }
    },
    {
      "cell_type": "code",
      "source": [
        "# fashoin mnist는 운동화, 셔츠, 샌들과 같은 이미지들의 모임\n",
        "f_mnist = tf.keras.datasets.fashion_mnist\n",
        "(x_train, y_train), (x_test, y_test) = f_mnist.load_data()\n",
        "# 전처리-정규화\n",
        "x_train, x_test = x_train/255.0 , x_test/255.0\n",
        "# 전처리-shape 맞추기\n",
        "x_train = np.expand_dims(x_train, 3)\n",
        "x_test = np.expand_dims(x_test, 3)\n",
        "\n",
        "print(x_train.shape, x_test.shape, y_train.shape, y_test.shape)"
      ],
      "metadata": {
        "colab": {
          "base_uri": "https://localhost:8080/"
        },
        "id": "lJH29bFW5lwj",
        "outputId": "fc3c37a3-9662-46ce-8bba-9fcb2eae98e0"
      },
      "execution_count": 67,
      "outputs": [
        {
          "output_type": "stream",
          "name": "stdout",
          "text": [
            "(60000, 28, 28, 1) (10000, 28, 28, 1) (60000,) (10000,)\n"
          ]
        }
      ]
    },
    {
      "cell_type": "code",
      "source": [
        "from tensorflow.keras import layers, models, utils\n",
        "def build_lenet5_2():\n",
        "  x = layers.Input(shape = (28,28,1))\n",
        "  y = layers.Conv2D(filters=6, kernel_size = 5, padding = 'same', activation = 'tanh')(x)\n",
        "  y = layers.AvgPool2D(pool_size = 2, strides = 2)(y)\n",
        "  y = layers.Conv2D(filters=16, kernel_size = 5, padding = 'valid', activation = 'tanh')(y)\n",
        "  y = layers.MaxPool2D(pool_size = 2, strides = 2)(y)\n",
        "\n",
        "  y = layers.Flatten()(y)\n",
        "  y = layers.Dense(120, activation='tanh')(y)\n",
        "  y = layers.Dense(84, activation='tanh')(y)\n",
        "  y = layers.Dense(10, activation='softmax')(y)\n",
        "  model = tf.keras.models.Model(x,y)\n",
        "  return model"
      ],
      "metadata": {
        "id": "kfGjGm4f6PdX"
      },
      "execution_count": 68,
      "outputs": []
    },
    {
      "cell_type": "code",
      "source": [
        "model = build_lenet5_2()\n",
        "model.summary()\n",
        "model.compile(optimizer = 'sgd', # 경사하강법 (배치)\n",
        "              loss = 'sparse_categorical_crossentropy',\n",
        "              metrics=['accuracy']\n",
        "              )\n",
        "model.fit(x_train, y_train, epochs=10)\n",
        "print('===테스트 스코어===')\n",
        "model.evaluate(x_test, y_test)"
      ],
      "metadata": {
        "colab": {
          "base_uri": "https://localhost:8080/"
        },
        "id": "ZRe170MS6-gq",
        "outputId": "e8c9b10f-db18-4d1f-ad6e-8e7788ab9ebe"
      },
      "execution_count": 69,
      "outputs": [
        {
          "output_type": "stream",
          "name": "stdout",
          "text": [
            "Model: \"model_13\"\n",
            "_________________________________________________________________\n",
            " Layer (type)                Output Shape              Param #   \n",
            "=================================================================\n",
            " input_16 (InputLayer)       [(None, 28, 28, 1)]       0         \n",
            "                                                                 \n",
            " conv2d_24 (Conv2D)          (None, 28, 28, 6)         156       \n",
            "                                                                 \n",
            " average_pooling2d_16 (Avera  (None, 14, 14, 6)        0         \n",
            " gePooling2D)                                                    \n",
            "                                                                 \n",
            " conv2d_25 (Conv2D)          (None, 10, 10, 16)        2416      \n",
            "                                                                 \n",
            " max_pooling2d_10 (MaxPoolin  (None, 5, 5, 16)         0         \n",
            " g2D)                                                            \n",
            "                                                                 \n",
            " flatten_9 (Flatten)         (None, 400)               0         \n",
            "                                                                 \n",
            " dense_27 (Dense)            (None, 120)               48120     \n",
            "                                                                 \n",
            " dense_28 (Dense)            (None, 84)                10164     \n",
            "                                                                 \n",
            " dense_29 (Dense)            (None, 10)                850       \n",
            "                                                                 \n",
            "=================================================================\n",
            "Total params: 61,706\n",
            "Trainable params: 61,706\n",
            "Non-trainable params: 0\n",
            "_________________________________________________________________\n",
            "Epoch 1/10\n",
            "1875/1875 [==============================] - 6s 3ms/step - loss: 0.7445 - accuracy: 0.7461\n",
            "Epoch 2/10\n",
            "1875/1875 [==============================] - 6s 3ms/step - loss: 0.4763 - accuracy: 0.8302\n",
            "Epoch 3/10\n",
            "1875/1875 [==============================] - 5s 3ms/step - loss: 0.4170 - accuracy: 0.8509\n",
            "Epoch 4/10\n",
            "1875/1875 [==============================] - 5s 3ms/step - loss: 0.3865 - accuracy: 0.8596\n",
            "Epoch 5/10\n",
            "1875/1875 [==============================] - 5s 3ms/step - loss: 0.3649 - accuracy: 0.8684\n",
            "Epoch 6/10\n",
            "1875/1875 [==============================] - 5s 3ms/step - loss: 0.3484 - accuracy: 0.8741\n",
            "Epoch 7/10\n",
            "1875/1875 [==============================] - 5s 3ms/step - loss: 0.3350 - accuracy: 0.8788\n",
            "Epoch 8/10\n",
            "1875/1875 [==============================] - 5s 3ms/step - loss: 0.3232 - accuracy: 0.8825\n",
            "Epoch 9/10\n",
            "1875/1875 [==============================] - 5s 3ms/step - loss: 0.3137 - accuracy: 0.8860\n",
            "Epoch 10/10\n",
            "1875/1875 [==============================] - 5s 3ms/step - loss: 0.3045 - accuracy: 0.8877\n",
            "===테스트 스코어===\n",
            "313/313 [==============================] - 1s 2ms/step - loss: 0.3418 - accuracy: 0.8745\n"
          ]
        },
        {
          "output_type": "execute_result",
          "data": {
            "text/plain": [
              "[0.3418472111225128, 0.8744999766349792]"
            ]
          },
          "metadata": {},
          "execution_count": 69
        }
      ]
    },
    {
      "cell_type": "code",
      "source": [
        "#for layer in model.layers:\n",
        "#  print(layer, layer.output)\n",
        "layer_outputs = [layer.output for layer in model.layers] # 레이어의 아웃풋 = 데이터 변환과정\n",
        "model_output_by_layer = models.Model(inputs=model.input, outputs=layer_outputs) # 모든 레이어의 아웃풋 획득 가능\n",
        "print(len(layer_outputs))\n",
        "x_pred_maps = model_output_by_layer(x_test)\n",
        "for x_pred_map in x_pred_maps:\n",
        "  print(x_pred_map.shape)\n",
        "cnn_layers = [1,2,3,4]\n",
        "dnn_layers = [5,6,7]"
      ],
      "metadata": {
        "colab": {
          "base_uri": "https://localhost:8080/"
        },
        "id": "1Znc6O-fHUfv",
        "outputId": "b4909ec1-d714-4be1-a899-eb45614c8ba9"
      },
      "execution_count": 70,
      "outputs": [
        {
          "output_type": "stream",
          "name": "stdout",
          "text": [
            "9\n",
            "(10000, 28, 28, 1)\n",
            "(10000, 28, 28, 6)\n",
            "(10000, 14, 14, 6)\n",
            "(10000, 10, 10, 16)\n",
            "(10000, 5, 5, 16)\n",
            "(10000, 400)\n",
            "(10000, 120)\n",
            "(10000, 84)\n",
            "(10000, 10)\n"
          ]
        }
      ]
    },
    {
      "cell_type": "code",
      "source": [
        "sample_idx = 5\n",
        "show_featuremap(sample_idx, x_pred_maps, cnn_layers, dnn_layers)"
      ],
      "metadata": {
        "colab": {
          "base_uri": "https://localhost:8080/",
          "height": 447
        },
        "id": "i9oNlx2vHZ2_",
        "outputId": "abf36e2f-53ac-4511-e2d8-cfe595dde645"
      },
      "execution_count": 71,
      "outputs": [
        {
          "output_type": "stream",
          "name": "stdout",
          "text": [
            "1 번째 Convolutional 레이어 (28, 28, 6)\n"
          ]
        },
        {
          "output_type": "display_data",
          "data": {
            "text/plain": [
              "<Figure size 432x288 with 6 Axes>"
            ],
            "image/png": "[encoded data removed]"
          },
          "metadata": {}
        },
        {
          "output_type": "stream",
          "name": "stdout",
          "text": [
            "2 번째 Convolutional 레이어 (14, 14, 6)\n"
          ]
        },
        {
          "output_type": "display_data",
          "data": {
            "text/plain": [
              "<Figure size 432x288 with 6 Axes>"
            ],
            "image/png": "[encoded data removed]"
          },
          "metadata": {}
        },
        {
          "output_type": "stream",
          "name": "stdout",
          "text": [
            "3 번째 Convolutional 레이어 (10, 10, 16)\n"
          ]
        },
        {
          "output_type": "display_data",
          "data": {
            "text/plain": [
              "<Figure size 432x288 with 16 Axes>"
            ],
            "image/png": "[encoded data removed]"
          },
          "metadata": {}
        },
        {
          "output_type": "stream",
          "name": "stdout",
          "text": [
            "4 번째 Convolutional 레이어 (5, 5, 16)\n"
          ]
        },
        {
          "output_type": "display_data",
          "data": {
            "text/plain": [
              "<Figure size 432x288 with 16 Axes>"
            ],
            "image/png": "[encoded data removed]"
          },
          "metadata": {}
        },
        {
          "output_type": "stream",
          "name": "stdout",
          "text": [
            "5 번째 Dense 레이어 (400,)\n"
          ]
        },
        {
          "output_type": "display_data",
          "data": {
            "text/plain": [
              "<Figure size 5760x720 with 1 Axes>"
            ],
            "image/png": "[encoded data removed]"
          },
          "metadata": {
            "needs_background": "light"
          }
        },
        {
          "output_type": "stream",
          "name": "stdout",
          "text": [
            "6 번째 Dense 레이어 (120,)\n"
          ]
        },
        {
          "output_type": "display_data",
          "data": {
            "text/plain": [
              "<Figure size 1728x720 with 1 Axes>"
            ],
            "image/png": "[encoded data removed]"
          },
          "metadata": {
            "needs_background": "light"
          }
        },
        {
          "output_type": "stream",
          "name": "stdout",
          "text": [
            "7 번째 Dense 레이어 (84,)\n"
          ]
        },
        {
          "output_type": "display_data",
          "data": {
            "text/plain": [
              "<Figure size 1152x720 with 1 Axes>"
            ],
            "image/png": "[encoded data removed]"
          },
          "metadata": {
            "needs_background": "light"
          }
        }
      ]
    },
    {
      "cell_type": "markdown",
      "source": [
        "## 과제 2. 동물 및 물체 이미지 분류\n",
        "---\n",
        "* 데이터셋 : cifar-10\n",
        "* 데이터의 형태를 파악하세요\n",
        "* 적절한 모델을 생성하세요\n",
        "* 데이터를 학습하세요."
      ],
      "metadata": {
        "id": "btyAaTaE5o1T"
      }
    },
    {
      "cell_type": "code",
      "source": [
        "# cifar10은 10종류의 이미지들의 모임\n",
        "cifar10 = tf.keras.datasets.cifar10\n",
        "(x_train, y_train), (x_test, y_test) = cifar10.load_data()\n",
        "# 전처리-정규화\n",
        "x_train, x_test = x_train/255.0 , x_test/255.0\n",
        "# 전처리-shape 맞추기\n",
        "# x_train = np.expand_dims(x_train, 3)\n",
        "# x_test = np.expand_dims(x_test, 3)\n",
        "\n",
        "print(x_train.shape, x_test.shape, y_train.shape, y_test.shape)"
      ],
      "metadata": {
        "colab": {
          "base_uri": "https://localhost:8080/"
        },
        "id": "9Mg9ArA45pFr",
        "outputId": "bfdec656-f1a3-48ff-b463-3cfac6b277cc"
      },
      "execution_count": 45,
      "outputs": [
        {
          "output_type": "stream",
          "name": "stdout",
          "text": [
            "(50000, 32, 32, 3) (10000, 32, 32, 3) (50000, 1) (10000, 1)\n"
          ]
        }
      ]
    },
    {
      "cell_type": "code",
      "source": [
        "from tensorflow.keras import layers, models, utils\n",
        "def build_lenet5_3():\n",
        "  x = layers.Input(shape = (32,32,3))\n",
        "  y = layers.Conv2D(filters=6, kernel_size = 5, padding = 'same', activation = 'tanh')(x)\n",
        "  y = layers.AvgPool2D(pool_size = 2, strides = 2)(y)\n",
        "  y = layers.Conv2D(filters=16, kernel_size = 5, padding = 'valid', activation = 'tanh')(y)\n",
        "  y = layers.MaxPool2D(pool_size = 2, strides = 2)(y)\n",
        "\n",
        "  y = layers.Flatten()(y)\n",
        "  y = layers.Dense(120, activation='tanh')(y)\n",
        "  y = layers.Dense(84, activation='tanh')(y)\n",
        "  y = layers.Dense(10, activation='softmax')(y)\n",
        "  model = tf.keras.models.Model(x,y)\n",
        "  return model"
      ],
      "metadata": {
        "id": "ory_sEwMCGoh"
      },
      "execution_count": 61,
      "outputs": []
    },
    {
      "cell_type": "code",
      "source": [
        "model = build_lenet5_3()\n",
        "model.summary()\n",
        "model.compile(optimizer = 'sgd', # 경사하강법 (배치)\n",
        "              loss = 'sparse_categorical_crossentropy',\n",
        "              metrics=['accuracy']\n",
        "              )\n",
        "model.fit(x_train, y_train, epochs=10)\n",
        "print('===테스트 스코어===')\n",
        "model.evaluate(x_test, y_test)"
      ],
      "metadata": {
        "colab": {
          "base_uri": "https://localhost:8080/"
        },
        "id": "wvp1YoRRCfLs",
        "outputId": "5c48df29-9a80-4ad0-9577-128ed1149542"
      },
      "execution_count": 62,
      "outputs": [
        {
          "output_type": "stream",
          "name": "stdout",
          "text": [
            "Model: \"model_10\"\n",
            "_________________________________________________________________\n",
            " Layer (type)                Output Shape              Param #   \n",
            "=================================================================\n",
            " input_15 (InputLayer)       [(None, 32, 32, 3)]       0         \n",
            "                                                                 \n",
            " conv2d_22 (Conv2D)          (None, 32, 32, 6)         456       \n",
            "                                                                 \n",
            " average_pooling2d_15 (Avera  (None, 16, 16, 6)        0         \n",
            " gePooling2D)                                                    \n",
            "                                                                 \n",
            " conv2d_23 (Conv2D)          (None, 12, 12, 16)        2416      \n",
            "                                                                 \n",
            " max_pooling2d_9 (MaxPooling  (None, 6, 6, 16)         0         \n",
            " 2D)                                                             \n",
            "                                                                 \n",
            " flatten_8 (Flatten)         (None, 576)               0         \n",
            "                                                                 \n",
            " dense_24 (Dense)            (None, 120)               69240     \n",
            "                                                                 \n",
            " dense_25 (Dense)            (None, 84)                10164     \n",
            "                                                                 \n",
            " dense_26 (Dense)            (None, 10)                850       \n",
            "                                                                 \n",
            "=================================================================\n",
            "Total params: 83,126\n",
            "Trainable params: 83,126\n",
            "Non-trainable params: 0\n",
            "_________________________________________________________________\n",
            "Epoch 1/10\n",
            "1563/1563 [==============================] - 6s 4ms/step - loss: 1.8552 - accuracy: 0.3361\n",
            "Epoch 2/10\n",
            "1563/1563 [==============================] - 6s 4ms/step - loss: 1.5380 - accuracy: 0.4478\n",
            "Epoch 3/10\n",
            "1563/1563 [==============================] - 6s 4ms/step - loss: 1.4060 - accuracy: 0.4948\n",
            "Epoch 4/10\n",
            "1563/1563 [==============================] - 6s 4ms/step - loss: 1.3269 - accuracy: 0.5260\n",
            "Epoch 5/10\n",
            "1563/1563 [==============================] - 6s 4ms/step - loss: 1.2630 - accuracy: 0.5514\n",
            "Epoch 6/10\n",
            "1563/1563 [==============================] - 6s 4ms/step - loss: 1.2120 - accuracy: 0.5699\n",
            "Epoch 7/10\n",
            "1563/1563 [==============================] - 6s 4ms/step - loss: 1.1684 - accuracy: 0.5870\n",
            "Epoch 8/10\n",
            "1563/1563 [==============================] - 6s 4ms/step - loss: 1.1285 - accuracy: 0.6007\n",
            "Epoch 9/10\n",
            "1563/1563 [==============================] - 6s 4ms/step - loss: 1.0930 - accuracy: 0.6141\n",
            "Epoch 10/10\n",
            "1563/1563 [==============================] - 6s 4ms/step - loss: 1.0643 - accuracy: 0.6253\n",
            "===테스트 스코어===\n",
            "313/313 [==============================] - 1s 3ms/step - loss: 1.1500 - accuracy: 0.6001\n"
          ]
        },
        {
          "output_type": "execute_result",
          "data": {
            "text/plain": [
              "[1.1500056982040405, 0.6000999808311462]"
            ]
          },
          "metadata": {},
          "execution_count": 62
        }
      ]
    },
    {
      "cell_type": "code",
      "source": [
        "#for layer in model.layers:\n",
        "#  print(layer, layer.output)\n",
        "layer_outputs = [layer.output for layer in model.layers] # 레이어의 아웃풋 = 데이터 변환과정\n",
        "model_output_by_layer = models.Model(inputs=model.input, outputs=layer_outputs) # 모든 레이어의 아웃풋 획득 가능\n",
        "print(len(layer_outputs))\n",
        "x_pred_maps = model_output_by_layer(x_test)\n",
        "for x_pred_map in x_pred_maps:\n",
        "  print(x_pred_map.shape)\n",
        "cnn_layers = [1,2,3,4]\n",
        "dnn_layers = [5,6,7]"
      ],
      "metadata": {
        "colab": {
          "base_uri": "https://localhost:8080/"
        },
        "id": "iq7Wi4yECieU",
        "outputId": "64793827-5da4-4b6d-80a6-54db5c547663"
      },
      "execution_count": 64,
      "outputs": [
        {
          "output_type": "stream",
          "name": "stdout",
          "text": [
            "9\n",
            "(10000, 32, 32, 3)\n",
            "(10000, 32, 32, 6)\n",
            "(10000, 16, 16, 6)\n",
            "(10000, 12, 12, 16)\n",
            "(10000, 6, 6, 16)\n",
            "(10000, 576)\n",
            "(10000, 120)\n",
            "(10000, 84)\n",
            "(10000, 10)\n"
          ]
        }
      ]
    },
    {
      "cell_type": "code",
      "source": [
        "sample_idx = 5\n",
        "show_featuremap(sample_idx, x_pred_maps, cnn_layers, dnn_layers)"
      ],
      "metadata": {
        "colab": {
          "base_uri": "https://localhost:8080/",
          "height": 447
        },
        "id": "5TRT1yu4HC8o",
        "outputId": "cc234231-7395-4b05-ddb0-1abc97073d3d"
      },
      "execution_count": 65,
      "outputs": [
        {
          "output_type": "stream",
          "name": "stdout",
          "text": [
            "1 번째 Convolutional 레이어 (32, 32, 6)\n"
          ]
        },
        {
          "output_type": "display_data",
          "data": {
            "text/plain": [
              "<Figure size 432x288 with 6 Axes>"
            ],
            "image/png": "[encoded data removed]"
          },
          "metadata": {}
        },
        {
          "output_type": "stream",
          "name": "stdout",
          "text": [
            "2 번째 Convolutional 레이어 (16, 16, 6)\n"
          ]
        },
        {
          "output_type": "display_data",
          "data": {
            "text/plain": [
              "<Figure size 432x288 with 6 Axes>"
            ],
            "image/png": "[encoded data removed]"
          },
          "metadata": {}
        },
        {
          "output_type": "stream",
          "name": "stdout",
          "text": [
            "3 번째 Convolutional 레이어 (12, 12, 16)\n"
          ]
        },
        {
          "output_type": "display_data",
          "data": {
            "text/plain": [
              "<Figure size 432x288 with 16 Axes>"
            ],
            "image/png": "[encoded data removed]"
          },
          "metadata": {}
        },
        {
          "output_type": "stream",
          "name": "stdout",
          "text": [
            "4 번째 Convolutional 레이어 (6, 6, 16)\n"
          ]
        },
        {
          "output_type": "display_data",
          "data": {
            "text/plain": [
              "<Figure size 432x288 with 16 Axes>"
            ],
            "image/png": "[encoded data removed]"
          },
          "metadata": {}
        },
        {
          "output_type": "stream",
          "name": "stdout",
          "text": [
            "5 번째 Dense 레이어 (576,)\n"
          ]
        },
        {
          "output_type": "display_data",
          "data": {
            "text/plain": [
              "<Figure size 8280x720 with 1 Axes>"
            ],
            "image/png": "[encoded data removed]"
          },
          "metadata": {
            "needs_background": "light"
          }
        },
        {
          "output_type": "stream",
          "name": "stdout",
          "text": [
            "6 번째 Dense 레이어 (120,)\n"
          ]
        },
        {
          "output_type": "display_data",
          "data": {
            "text/plain": [
              "<Figure size 1728x720 with 1 Axes>"
            ],
            "image/png": "[encoded data removed]"
          },
          "metadata": {
            "needs_background": "light"
          }
        },
        {
          "output_type": "stream",
          "name": "stdout",
          "text": [
            "7 번째 Dense 레이어 (84,)\n"
          ]
        },
        {
          "output_type": "display_data",
          "data": {
            "text/plain": [
              "<Figure size 1152x720 with 1 Axes>"
            ],
            "image/png": "[encoded data removed]"
          },
          "metadata": {
            "needs_background": "light"
          }
        }
      ]
    },
    {
      "cell_type": "code",
      "source": [
        ""
      ],
      "metadata": {
        "id": "s0wBkooJHMTX"
      },
      "execution_count": null,
      "outputs": []
    }
  ]
}
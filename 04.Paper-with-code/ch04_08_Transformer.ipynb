{
  "nbformat": 4,
  "nbformat_minor": 0,
  "metadata": {
    "colab": {
      "provenance": [],
      "collapsed_sections": [],
      "machine_shape": "hm",
      "include_colab_link": true
    },
    "kernelspec": {
      "name": "python3",
      "display_name": "Python 3"
    },
    "language_info": {
      "name": "python"
    },
    "accelerator": "GPU",
    "gpuClass": "standard"
  },
  "cells": [
    {
      "cell_type": "markdown",
      "metadata": {
        "id": "view-in-github",
        "colab_type": "text"
      },
      "source": [
        "<a href=\"https://colab.research.google.com/github/pthkbs123/SkillTreePython-DeepLearning/blob/main/04.Paper-with-code/ch04_08_Transformer.ipynb\" target=\"_parent\"><img src=\"https://colab.research.google.com/assets/colab-badge.svg\" alt=\"Open In Colab\"/></a>"
      ]
    },
    {
      "cell_type": "markdown",
      "source": [
        "# ch04.08 Transformer\n",
        "\n",
        "* 날짜: 2022-09-06,07\n",
        "* 이름: 박태현\n",
        "\n",
        "## 학습내용\n",
        "  - Transformer을 이해하고 구현한다.\n",
        "  - Vision Transformer을 이해하고 구현한다.\n",
        "\n",
        "## 참고 사이트\n",
        "\n",
        "   - 논문 [Attention is all you need](https://arxiv.org/pdf/1706.03762.pdf)\n"
      ],
      "metadata": {
        "id": "nLnUQASYQKZc"
      }
    },
    {
      "cell_type": "code",
      "source": [
        "from google.colab import drive\n",
        "drive.mount('/content/drive')"
      ],
      "metadata": {
        "colab": {
          "base_uri": "https://localhost:8080/"
        },
        "id": "9cmGOG7BMI-O",
        "outputId": "a2fbffc6-ebe8-4fbb-a171-271c9e8d3d8b"
      },
      "execution_count": 1,
      "outputs": [
        {
          "output_type": "stream",
          "name": "stdout",
          "text": [
            "Mounted at /content/drive\n"
          ]
        }
      ]
    },
    {
      "cell_type": "code",
      "source": [
        "import sys, os\n",
        "sys.path.append('/content/drive/MyDrive/딥러닝 프레임워크실무/scripts')\n",
        "from lib import *"
      ],
      "metadata": {
        "id": "FlxzeNvjD2dP"
      },
      "execution_count": 2,
      "outputs": []
    },
    {
      "cell_type": "markdown",
      "source": [
        "## 모듈 제작\n",
        "---"
      ],
      "metadata": {
        "id": "XcL9NVU8iYZB"
      }
    },
    {
      "cell_type": "markdown",
      "source": [
        "### **| Multi Head Attention**\n",
        "\n",
        "<p align='center'>\n",
        "<img src=https://github.com/yebiny/SkillTreePython-DeepLearning/blob/main/imgs/ch0408-09.PNG?raw=true?raw=true?raw=true\n",
        " width=350>\n",
        "</p>"
      ],
      "metadata": {
        "id": "xolCJasMbBLR"
      }
    },
    {
      "cell_type": "markdown",
      "source": [
        "* set params\n",
        "\n",
        "<p align='center'>\n",
        "<img src=https://github.com/yebiny/SkillTreePython-DeepLearning/blob/main/imgs/ch0408-01.PNG?raw=true?raw=true\n",
        " width=850>\n",
        "</p>\n"
      ],
      "metadata": {
        "id": "Pvbc9o05q-MC"
      }
    },
    {
      "cell_type": "code",
      "source": [
        "h = 8 \n",
        "d_k = 64\n",
        "d_v  = 64\n",
        "d_model = 64 * h #512  = embeding dims\n",
        "\n",
        "# 인풋 x shape \n",
        "# 시계열 : ( time range(window_size), channel )\n",
        "# 텍스트 : ( max lenth , vocab size )\n",
        "# 텍스트 임베딩 : (max lenth, embeding dims)\n",
        "\n",
        "# -> (V, K, Q)\n",
        "# T = S = max lenth\n",
        "# d_model = embedding dims\n",
        "T = 200\n",
        "S = 100\n",
        "\n",
        "Q = (T, d_model)\n",
        "K = (S, d_model)\n",
        "V = (S, d_model)\n",
        "print(Q)\n",
        "print(K)\n",
        "print(V)"
      ],
      "metadata": {
        "id": "GkyUk71jrBti",
        "colab": {
          "base_uri": "https://localhost:8080/"
        },
        "outputId": "feaf4b2a-e9e4-403a-9675-07b7f1f58f65"
      },
      "execution_count": 3,
      "outputs": [
        {
          "output_type": "stream",
          "name": "stdout",
          "text": [
            "(200, 512)\n",
            "(100, 512)\n",
            "(100, 512)\n"
          ]
        }
      ]
    },
    {
      "cell_type": "code",
      "source": [
        "def matmul(shape1, shape2):\n",
        "  assert shape1[1]==shape2[0]\n",
        "  return (shape1[0], shape2[1])"
      ],
      "metadata": {
        "id": "qjGtR8OpwCUC"
      },
      "execution_count": 4,
      "outputs": []
    },
    {
      "cell_type": "markdown",
      "source": [
        "* Step1. Linear each  $Q, K, V(W^Q, W^K, W^V)$\n",
        "\n",
        "<br>\n",
        "\n",
        "<p align='center'>\n",
        "<img src=https://github.com/yebiny/SkillTreePython-DeepLearning/blob/main/imgs/ch0408-05.PNG?raw=true?raw=true?raw=true\n",
        " width=250>\n",
        "</p>\n",
        "\n",
        "<p align='center'>\n",
        "<img src=https://github.com/yebiny/SkillTreePython-DeepLearning/blob/main/imgs/ch0408-02-1.PNG?raw=true?raw=true\n",
        " width=850>\n",
        "</p>\n",
        "\n"
      ],
      "metadata": {
        "id": "U2pu1Yk8rFay"
      }
    },
    {
      "cell_type": "code",
      "source": [
        "# set weights\n",
        "W_Q = (d_model, d_k)\n",
        "W_K = (d_model, d_k)\n",
        "W_V = (d_model, d_v) \n",
        "\n",
        "# calculate shape\n",
        "VW = matmul(V, W_V) \n",
        "KW = matmul(K, W_K) \n",
        "QW = matmul(Q, W_Q) \n",
        "\n",
        "print(f'Q {Q} x W_Q {W_Q} = {QW}')\n",
        "print(f'K {K} x W_K {W_K} = {KW}')\n",
        "print(f'V {V} x W_V {W_V} = {VW}')"
      ],
      "metadata": {
        "id": "-mgzUhEMwEAa",
        "colab": {
          "base_uri": "https://localhost:8080/"
        },
        "outputId": "f7c00dfc-7831-411b-dd6d-7ab3752c9034"
      },
      "execution_count": 5,
      "outputs": [
        {
          "output_type": "stream",
          "name": "stdout",
          "text": [
            "Q (200, 512) x W_Q (512, 64) = (200, 64)\n",
            "K (100, 512) x W_K (512, 64) = (100, 64)\n",
            "V (100, 512) x W_V (512, 64) = (100, 64)\n"
          ]
        }
      ]
    },
    {
      "cell_type": "markdown",
      "source": [
        "* Step2. Attention\n",
        "\n",
        "\n",
        "<p align='center'>\n",
        "<img src=https://wikidocs.net/images/page/159310/mha_img_original.png?raw=true\n",
        " width=450>\n",
        "</p>\n",
        "\n",
        "\n",
        "<p align='center'>\n",
        "<img src=https://github.com/yebiny/SkillTreePython-DeepLearning/blob/main/imgs/ch0408-03.PNG?raw=true?raw=true\n",
        " width=850>\n",
        "</p>"
      ],
      "metadata": {
        "id": "5Jt-3QHk5ceb"
      }
    },
    {
      "cell_type": "code",
      "source": [
        "KW_T = (KW[1], KW[0])\n",
        "print(f\"QW: {QW}, KW_T: {KW_T}, VW: {VW}\")\n",
        "\n",
        "Att = matmul( matmul(QW, KW_T), VW )\n",
        "print(f'Attention(QW, KW, VW) : {Att}')"
      ],
      "metadata": {
        "id": "q4wy6SCaqcA7",
        "colab": {
          "base_uri": "https://localhost:8080/"
        },
        "outputId": "be1f016c-8447-47a3-fe3f-9944864cb3ce"
      },
      "execution_count": 6,
      "outputs": [
        {
          "output_type": "stream",
          "name": "stdout",
          "text": [
            "QW: (200, 64), KW_T: (64, 100), VW: (100, 64)\n",
            "Attention(QW, KW, VW) : (200, 64)\n"
          ]
        }
      ]
    },
    {
      "cell_type": "markdown",
      "source": [
        "* step3. concat & Linear $(W^O)$\n",
        "\n",
        "<p align='center'>\n",
        "<img src=https://github.com/yebiny/SkillTreePython-DeepLearning/blob/main/imgs/ch0408-10.PNG?raw=true?raw=true?raw=true\n",
        " width=300>\n",
        "</p>\n",
        "\n",
        "<p align='center'>\n",
        "<img src=https://github.com/yebiny/SkillTreePython-DeepLearning/blob/main/imgs/ch0408-04.PNG?raw=true?raw=true\n",
        " width=850>\n",
        "</p>"
      ],
      "metadata": {
        "id": "rpK9F02_61db"
      }
    },
    {
      "cell_type": "code",
      "source": [
        "print(f'- Attention(QW, KW, VW) = head {Att}')\n",
        "\n",
        "concat_att = (Att[0], Att[1]*h)\n",
        "print(f'- Concat(head_1, ...head_h) {concat_att}')\n",
        "\n",
        "W_O = ((h*d_v), d_model)\n",
        "final_out = matmul(concat_att, W_O)\n",
        "print(f'- Concat {concat_att} x W_O {W_O} = final output: {final_out}' )"
      ],
      "metadata": {
        "id": "ALvY3gFB5j2z",
        "colab": {
          "base_uri": "https://localhost:8080/"
        },
        "outputId": "2b4befa4-b872-470b-c32c-34a98b5d7006"
      },
      "execution_count": 7,
      "outputs": [
        {
          "output_type": "stream",
          "name": "stdout",
          "text": [
            "- Attention(QW, KW, VW) = head (200, 64)\n",
            "- Concat(head_1, ...head_h) (200, 512)\n",
            "- Concat (200, 512) x W_O (512, 512) = final output: (200, 512)\n"
          ]
        }
      ]
    },
    {
      "cell_type": "code",
      "source": [
        "print('- 인풋: ',  V, K, Q)\n",
        "print(f'- 최종 아웃풋: {final_out}')"
      ],
      "metadata": {
        "id": "0yQlAMph8BQb",
        "colab": {
          "base_uri": "https://localhost:8080/"
        },
        "outputId": "bc8a1c42-24c4-47e4-ad1d-9818b8f29a84"
      },
      "execution_count": 8,
      "outputs": [
        {
          "output_type": "stream",
          "name": "stdout",
          "text": [
            "- 인풋:  (100, 512) (100, 512) (200, 512)\n",
            "- 최종 아웃풋: (200, 512)\n"
          ]
        }
      ]
    },
    {
      "cell_type": "markdown",
      "source": [
        "#### Tensorflow.keras MultiHeadAttention Layer\n",
        "\n",
        "* docs: https://www.tensorflow.org/api_docs/python/tf/keras/layers/MultiHeadAttention\n",
        "\n",
        "```\n",
        "tf.keras.layers.MultiHeadAttention(\n",
        "    num_heads,\n",
        "    key_dim,\n",
        "    value_dim=None,\n",
        ")\n",
        "\n",
        "# call args\n",
        "\n",
        "query\tQuery Tensor of shape (B, T, dim).\n",
        "value\tValue Tensor of shape (B, S, dim).\n",
        "key\tOptional key Tensor of shape (B, S, dim). If not given, will use \n",
        "```"
      ],
      "metadata": {
        "id": "JlGlKBg57lRr"
      }
    },
    {
      "cell_type": "code",
      "source": [
        "h = 8 \n",
        "d_k = 64\n",
        "d_v  = 64\n",
        "d_model = 64 * h\n",
        "\n",
        "T = 200\n",
        "S = 100\n",
        "\n",
        "\n",
        "Q = layers.Input(shape = (T, d_model))\n",
        "V = layers.Input(shape= (S, d_model))\n",
        "\n",
        "y = layers.MultiHeadAttention(num_heads = h,\n",
        "                              key_dim = d_k,\n",
        "                              )(Q,V)\n"
      ],
      "metadata": {
        "id": "cOHRxGBxbE1C"
      },
      "execution_count": 9,
      "outputs": []
    },
    {
      "cell_type": "code",
      "source": [
        "print(f'- 인풋: V {V.shape} K {K.shape} Q {Q.shape}')\n",
        "print(f'- 최종 아웃풋: {y.shape}')"
      ],
      "metadata": {
        "id": "QRnjbqfvKmn7",
        "colab": {
          "base_uri": "https://localhost:8080/",
          "height": 193
        },
        "outputId": "7dc5f00c-8631-424b-f7f8-0260ddd207e0"
      },
      "execution_count": 11,
      "outputs": [
        {
          "output_type": "error",
          "ename": "AttributeError",
          "evalue": "ignored",
          "traceback": [
            "\u001b[0;31m---------------------------------------------------------------------------\u001b[0m",
            "\u001b[0;31mAttributeError\u001b[0m                            Traceback (most recent call last)",
            "\u001b[0;32m<ipython-input-11-2b45874eed66>\u001b[0m in \u001b[0;36m<module>\u001b[0;34m\u001b[0m\n\u001b[0;32m----> 1\u001b[0;31m \u001b[0mprint\u001b[0m\u001b[0;34m(\u001b[0m\u001b[0;34mf'- 인풋: V {V.shape} K {K.shape} Q {Q.shape}'\u001b[0m\u001b[0;34m)\u001b[0m\u001b[0;34m\u001b[0m\u001b[0;34m\u001b[0m\u001b[0m\n\u001b[0m\u001b[1;32m      2\u001b[0m \u001b[0mprint\u001b[0m\u001b[0;34m(\u001b[0m\u001b[0;34mf'- 최종 아웃풋: {y.shape}'\u001b[0m\u001b[0;34m)\u001b[0m\u001b[0;34m\u001b[0m\u001b[0;34m\u001b[0m\u001b[0m\n",
            "\u001b[0;31mAttributeError\u001b[0m: 'tuple' object has no attribute 'shape'"
          ]
        }
      ]
    },
    {
      "cell_type": "markdown",
      "source": [
        "### **| Encoder Block**\n",
        "\n",
        "<p align='center'>\n",
        "<img src=https://github.com/yebiny/SkillTreePython-DeepLearning/blob/main/imgs/ch0408-11.PNG?raw=true?raw=true\n",
        " width=250>\n",
        "</p>"
      ],
      "metadata": {
        "id": "etBfO5Y9cHVf"
      }
    },
    {
      "cell_type": "code",
      "source": [
        "def encoder_block(Input_shape, h, d_k, d_ff, dropout=0.25, name=None):\n",
        "    inputs = layers.Input(shape = Input_shape)\n",
        "    # Attention and Normalization\n",
        "      # multi-head\n",
        "    y = layers.MultiHeadAttention(num_heads= h,\n",
        "                                key_dim = d_k,\n",
        "                                dropout = dropout)(inputs,inputs)\n",
        "    y = layers.Dropout(dropout)(y)\n",
        "    # Add & Norm\n",
        "    y = layers.LayerNormalization(epsilon=1e-6)(y)\n",
        "    y_1 = layers.Add()([y, inputs])\n",
        "    # Feed Forward Part\n",
        "      # FF\n",
        "    y = layers.Conv1D(filters=d_ff, kernel_size=1, activation='relu')(y_1)\n",
        "    y = layers.Dropout(dropout)(y)\n",
        "    y = layers.Conv1D(filters=inputs.shape[-1], kernel_size=1, activation='relu')(y)\n",
        "    # Add & Norm\n",
        "    y = layers.LayerNormalization(epsilon=1e-6)(y)\n",
        "    outputs = layers.Add()([y,y_1])\n",
        "\n",
        "    return models.Model(inputs, outputs, name = name)"
      ],
      "metadata": {
        "id": "e-hVfBKwMG9X"
      },
      "execution_count": 12,
      "outputs": []
    },
    {
      "cell_type": "code",
      "source": [
        "from textwrap import shorten\n",
        "input_shape = (200,120)\n",
        "h = 8\n",
        "d_k = 64\n",
        "d_ff = 32\n",
        "encoder = encoder_block(input_shape,\n",
        "                        h,\n",
        "                        d_k,\n",
        "                        d_ff)\n",
        "utils.plot_model(encoder, show_shapes=True)"
      ],
      "metadata": {
        "id": "ZRRQwBR6ayxH",
        "colab": {
          "base_uri": "https://localhost:8080/",
          "height": 1000
        },
        "outputId": "57c0c9ee-a27c-438a-9513-2e60832333c1"
      },
      "execution_count": 13,
      "outputs": [
        {
          "output_type": "execute_result",
          "data": {
            "image/png": "[encoded data removed]",
            "text/plain": [
              "<IPython.core.display.Image object>"
            ]
          },
          "metadata": {},
          "execution_count": 13
        }
      ]
    },
    {
      "cell_type": "markdown",
      "source": [
        "## 실습1. 시계열 데이터 분류\n",
        "---"
      ],
      "metadata": {
        "id": "adsKf_GqrbFw"
      }
    },
    {
      "cell_type": "markdown",
      "source": [
        "### **| 시계열 데이터셋**"
      ],
      "metadata": {
        "id": "tS8Z6BJxib6n"
      }
    },
    {
      "cell_type": "code",
      "source": [
        "def readucr(filename):\n",
        "    data = np.loadtxt(filename, delimiter=\"\\t\")\n",
        "    y = data[:, 0]\n",
        "    x = data[:, 1:]\n",
        "    return x, y.astype(int)\n",
        "\n",
        "\n",
        "root_url = \"https://raw.githubusercontent.com/hfawaz/cd-diagram/master/FordA/\"\n",
        "\n",
        "x_train, y_train = readucr(root_url + \"FordA_TRAIN.tsv\")\n",
        "x_test, y_test = readucr(root_url + \"FordA_TEST.tsv\")\n",
        "\n",
        "x_train = x_train.reshape((x_train.shape[0], x_train.shape[1], 1))\n",
        "x_test = x_test.reshape((x_test.shape[0], x_test.shape[1], 1))\n",
        "\n",
        "n_classes = len(np.unique(y_train))\n",
        "\n",
        "idx = np.random.permutation(len(x_train))\n",
        "x_train = x_train[idx]\n",
        "y_train = y_train[idx]\n",
        "\n",
        "y_train[y_train == -1] = 0\n",
        "y_test[y_test == -1] = 0"
      ],
      "metadata": {
        "id": "1ngVAq1FEy1v"
      },
      "execution_count": null,
      "outputs": []
    },
    {
      "cell_type": "code",
      "source": [
        "print(x_train.shape, y_train.shape)\n",
        "\n",
        "idx = 10\n",
        "plt.subplot(121)\n",
        "plt.title(y_train[idx])\n",
        "plt.plot(x_train[idx])\n",
        "\n",
        "plt.subplot(122)\n",
        "plt.hist(y_train)\n",
        "plt.show()"
      ],
      "metadata": {
        "id": "JrwNOqUXE3Lm",
        "colab": {
          "base_uri": "https://localhost:8080/",
          "height": 299
        },
        "outputId": "0b8bb78d-6933-4780-91a8-57a2d138ec34"
      },
      "execution_count": null,
      "outputs": [
        {
          "output_type": "stream",
          "name": "stdout",
          "text": [
            "(3601, 500, 1) (3601,)\n"
          ]
        },
        {
          "output_type": "display_data",
          "data": {
            "text/plain": [
              "<Figure size 432x288 with 2 Axes>"
            ],
            "image/png": "[encoded data removed]"
          },
          "metadata": {
            "needs_background": "light"
          }
        }
      ]
    },
    {
      "cell_type": "markdown",
      "source": [
        "\n",
        "### **| 모델 구현**"
      ],
      "metadata": {
        "id": "I-zZMs1xd2uI"
      }
    },
    {
      "cell_type": "code",
      "source": [
        "# Set params\n",
        "input_shape = (500,1) # ( T/S, d_model )\n",
        "n_classes = 2\n",
        "N = 4\n",
        "h = 4\n",
        "d_k = 128\n",
        "d_ff = 4\n",
        "# Set Input\n",
        "inputs = layers.Input(shape = input_shape)\n",
        "\n",
        "# Encoder Block\n",
        "y = inputs\n",
        "for i in range(N):\n",
        "  encoder = encoder_block(input_shape, h, d_k, d_ff, dropout=0.25, name=f'encoder_{i}')\n",
        "  y = encoder(y)\n",
        "\n",
        "# Classifier\n",
        "y = layers.GlobalAveragePooling1D(data_format='channels_first')(y)\n",
        "y = layers.Dense(128, activation = 'relu')(y)\n",
        "y = layers.Dropout(0.5)(y)\n",
        "y = layers.Dense(n_classes, activation = 'softmax')(y)\n",
        "# Final model\n",
        "model = models.Model(inputs, y, name = 'TransformerEncoderCfy')\n",
        "model.summary()"
      ],
      "metadata": {
        "id": "1D4ITo01Z0HX",
        "colab": {
          "base_uri": "https://localhost:8080/"
        },
        "outputId": "5c3783f1-5e19-4266-83bd-066a14c14851"
      },
      "execution_count": null,
      "outputs": [
        {
          "output_type": "stream",
          "name": "stdout",
          "text": [
            "Model: \"TransformerEncoderCfy\"\n",
            "_________________________________________________________________\n",
            " Layer (type)                Output Shape              Param #   \n",
            "=================================================================\n",
            " input_45 (InputLayer)       [(None, 500, 1)]          0         \n",
            "                                                                 \n",
            " encoder_0 (Functional)      (None, 500, 1)            3602      \n",
            "                                                                 \n",
            " encoder_1 (Functional)      (None, 500, 1)            3602      \n",
            "                                                                 \n",
            " encoder_2 (Functional)      (None, 500, 1)            3602      \n",
            "                                                                 \n",
            " encoder_3 (Functional)      (None, 500, 1)            3602      \n",
            "                                                                 \n",
            " global_average_pooling1d_3   (None, 500)              0         \n",
            " (GlobalAveragePooling1D)                                        \n",
            "                                                                 \n",
            " dense_1 (Dense)             (None, 128)               64128     \n",
            "                                                                 \n",
            " dropout_66 (Dropout)        (None, 128)               0         \n",
            "                                                                 \n",
            " dense_2 (Dense)             (None, 2)                 258       \n",
            "                                                                 \n",
            "=================================================================\n",
            "Total params: 78,794\n",
            "Trainable params: 78,794\n",
            "Non-trainable params: 0\n",
            "_________________________________________________________________\n"
          ]
        }
      ]
    },
    {
      "cell_type": "code",
      "source": [
        "model.compile(loss = 'sparse_categorical_crossentropy',\n",
        "              optimizer = tf.keras.optimizers.Adam(0.0001),\n",
        "              metrics = 'acc')\n",
        "es = tf.keras.callbacks.EarlyStopping(patience=8, restore_best_weights=True)\n",
        "model.fit(x_train, y_train,\n",
        "          validation_data = [x_test, y_test],\n",
        "          epochs = 50,\n",
        "          batch_size = 64,\n",
        "          callbacks=[es])"
      ],
      "metadata": {
        "id": "hOpei2oVnJmo",
        "colab": {
          "base_uri": "https://localhost:8080/"
        },
        "outputId": "0504940f-c631-42b2-e0f9-4f787d48e6be"
      },
      "execution_count": null,
      "outputs": [
        {
          "output_type": "stream",
          "name": "stdout",
          "text": [
            "Epoch 1/50\n",
            "57/57 [==============================] - 28s 207ms/step - loss: 1.0555 - acc: 0.5171 - val_loss: 0.7381 - val_acc: 0.5811\n",
            "Epoch 2/50\n",
            "57/57 [==============================] - 11s 196ms/step - loss: 0.9023 - acc: 0.5587 - val_loss: 0.6752 - val_acc: 0.6030\n",
            "Epoch 3/50\n",
            "57/57 [==============================] - 11s 196ms/step - loss: 0.8550 - acc: 0.5818 - val_loss: 0.6400 - val_acc: 0.6371\n",
            "Epoch 4/50\n",
            "57/57 [==============================] - 11s 196ms/step - loss: 0.7981 - acc: 0.5996 - val_loss: 0.6146 - val_acc: 0.6576\n",
            "Epoch 5/50\n",
            "57/57 [==============================] - 11s 197ms/step - loss: 0.7571 - acc: 0.6209 - val_loss: 0.5994 - val_acc: 0.6735\n",
            "Epoch 6/50\n",
            "57/57 [==============================] - 11s 197ms/step - loss: 0.7016 - acc: 0.6423 - val_loss: 0.5863 - val_acc: 0.6818\n",
            "Epoch 7/50\n",
            "57/57 [==============================] - 11s 196ms/step - loss: 0.6767 - acc: 0.6582 - val_loss: 0.5729 - val_acc: 0.7038\n",
            "Epoch 8/50\n",
            "57/57 [==============================] - 11s 196ms/step - loss: 0.6652 - acc: 0.6601 - val_loss: 0.5631 - val_acc: 0.7008\n",
            "Epoch 9/50\n",
            "57/57 [==============================] - 11s 196ms/step - loss: 0.6406 - acc: 0.6723 - val_loss: 0.5511 - val_acc: 0.7189\n",
            "Epoch 10/50\n",
            "57/57 [==============================] - 11s 196ms/step - loss: 0.6171 - acc: 0.6931 - val_loss: 0.5425 - val_acc: 0.7273\n",
            "Epoch 11/50\n",
            "57/57 [==============================] - 11s 196ms/step - loss: 0.6068 - acc: 0.6915 - val_loss: 0.5344 - val_acc: 0.7265\n",
            "Epoch 12/50\n",
            "57/57 [==============================] - 11s 196ms/step - loss: 0.5728 - acc: 0.7148 - val_loss: 0.5276 - val_acc: 0.7386\n",
            "Epoch 13/50\n",
            "57/57 [==============================] - 11s 197ms/step - loss: 0.5608 - acc: 0.7209 - val_loss: 0.5212 - val_acc: 0.7432\n",
            "Epoch 14/50\n",
            "57/57 [==============================] - 11s 197ms/step - loss: 0.5405 - acc: 0.7295 - val_loss: 0.5153 - val_acc: 0.7530\n",
            "Epoch 15/50\n",
            "57/57 [==============================] - 11s 196ms/step - loss: 0.5492 - acc: 0.7240 - val_loss: 0.5089 - val_acc: 0.7561\n",
            "Epoch 16/50\n",
            "57/57 [==============================] - 11s 196ms/step - loss: 0.5146 - acc: 0.7506 - val_loss: 0.5020 - val_acc: 0.7636\n",
            "Epoch 17/50\n",
            "57/57 [==============================] - 11s 197ms/step - loss: 0.5170 - acc: 0.7476 - val_loss: 0.4981 - val_acc: 0.7682\n",
            "Epoch 18/50\n",
            "57/57 [==============================] - 11s 196ms/step - loss: 0.5026 - acc: 0.7495 - val_loss: 0.4906 - val_acc: 0.7712\n",
            "Epoch 19/50\n",
            "57/57 [==============================] - 11s 196ms/step - loss: 0.4878 - acc: 0.7753 - val_loss: 0.4861 - val_acc: 0.7758\n",
            "Epoch 20/50\n",
            "57/57 [==============================] - 11s 196ms/step - loss: 0.4686 - acc: 0.7698 - val_loss: 0.4803 - val_acc: 0.7848\n",
            "Epoch 21/50\n",
            "57/57 [==============================] - 11s 196ms/step - loss: 0.4807 - acc: 0.7792 - val_loss: 0.4758 - val_acc: 0.7871\n",
            "Epoch 22/50\n",
            "57/57 [==============================] - 11s 196ms/step - loss: 0.4513 - acc: 0.7884 - val_loss: 0.4718 - val_acc: 0.7992\n",
            "Epoch 23/50\n",
            "57/57 [==============================] - 11s 196ms/step - loss: 0.4555 - acc: 0.7901 - val_loss: 0.4675 - val_acc: 0.7970\n",
            "Epoch 24/50\n",
            "57/57 [==============================] - 11s 196ms/step - loss: 0.4354 - acc: 0.7973 - val_loss: 0.4631 - val_acc: 0.8061\n",
            "Epoch 25/50\n",
            "57/57 [==============================] - 11s 197ms/step - loss: 0.4370 - acc: 0.8034 - val_loss: 0.4598 - val_acc: 0.8068\n",
            "Epoch 26/50\n",
            "57/57 [==============================] - 11s 196ms/step - loss: 0.4314 - acc: 0.8084 - val_loss: 0.4549 - val_acc: 0.8076\n",
            "Epoch 27/50\n",
            "57/57 [==============================] - 11s 197ms/step - loss: 0.4237 - acc: 0.8101 - val_loss: 0.4526 - val_acc: 0.8121\n",
            "Epoch 28/50\n",
            "57/57 [==============================] - 11s 196ms/step - loss: 0.4131 - acc: 0.8173 - val_loss: 0.4497 - val_acc: 0.8121\n",
            "Epoch 29/50\n",
            "57/57 [==============================] - 11s 197ms/step - loss: 0.4071 - acc: 0.8256 - val_loss: 0.4448 - val_acc: 0.8129\n",
            "Epoch 30/50\n",
            "57/57 [==============================] - 11s 196ms/step - loss: 0.4113 - acc: 0.8170 - val_loss: 0.4419 - val_acc: 0.8167\n",
            "Epoch 31/50\n",
            "57/57 [==============================] - 11s 196ms/step - loss: 0.3983 - acc: 0.8267 - val_loss: 0.4387 - val_acc: 0.8167\n",
            "Epoch 32/50\n",
            "57/57 [==============================] - 11s 196ms/step - loss: 0.3971 - acc: 0.8253 - val_loss: 0.4357 - val_acc: 0.8182\n",
            "Epoch 33/50\n",
            "57/57 [==============================] - 11s 196ms/step - loss: 0.3846 - acc: 0.8389 - val_loss: 0.4317 - val_acc: 0.8189\n",
            "Epoch 34/50\n",
            "57/57 [==============================] - 11s 196ms/step - loss: 0.3789 - acc: 0.8381 - val_loss: 0.4268 - val_acc: 0.8212\n",
            "Epoch 35/50\n",
            "57/57 [==============================] - 11s 196ms/step - loss: 0.3730 - acc: 0.8439 - val_loss: 0.4224 - val_acc: 0.8303\n",
            "Epoch 36/50\n",
            "57/57 [==============================] - 11s 197ms/step - loss: 0.3704 - acc: 0.8475 - val_loss: 0.4202 - val_acc: 0.8273\n",
            "Epoch 37/50\n",
            "57/57 [==============================] - 11s 196ms/step - loss: 0.3638 - acc: 0.8517 - val_loss: 0.4184 - val_acc: 0.8295\n",
            "Epoch 38/50\n",
            "57/57 [==============================] - 11s 196ms/step - loss: 0.3618 - acc: 0.8520 - val_loss: 0.4159 - val_acc: 0.8326\n",
            "Epoch 39/50\n",
            "57/57 [==============================] - 11s 196ms/step - loss: 0.3574 - acc: 0.8573 - val_loss: 0.4139 - val_acc: 0.8280\n",
            "Epoch 40/50\n",
            "57/57 [==============================] - 11s 196ms/step - loss: 0.3436 - acc: 0.8584 - val_loss: 0.4122 - val_acc: 0.8295\n",
            "Epoch 41/50\n",
            "57/57 [==============================] - 11s 197ms/step - loss: 0.3401 - acc: 0.8600 - val_loss: 0.4089 - val_acc: 0.8303\n",
            "Epoch 42/50\n",
            "57/57 [==============================] - 11s 197ms/step - loss: 0.3401 - acc: 0.8656 - val_loss: 0.4048 - val_acc: 0.8318\n",
            "Epoch 43/50\n",
            "57/57 [==============================] - 11s 196ms/step - loss: 0.3406 - acc: 0.8648 - val_loss: 0.4024 - val_acc: 0.8311\n",
            "Epoch 44/50\n",
            "57/57 [==============================] - 11s 196ms/step - loss: 0.3384 - acc: 0.8595 - val_loss: 0.4008 - val_acc: 0.8326\n",
            "Epoch 45/50\n",
            "57/57 [==============================] - 11s 196ms/step - loss: 0.3407 - acc: 0.8667 - val_loss: 0.3977 - val_acc: 0.8371\n",
            "Epoch 46/50\n",
            "57/57 [==============================] - 11s 196ms/step - loss: 0.3330 - acc: 0.8645 - val_loss: 0.3964 - val_acc: 0.8356\n",
            "Epoch 47/50\n",
            "57/57 [==============================] - 11s 196ms/step - loss: 0.3235 - acc: 0.8698 - val_loss: 0.3932 - val_acc: 0.8356\n",
            "Epoch 48/50\n",
            "57/57 [==============================] - 11s 197ms/step - loss: 0.3279 - acc: 0.8678 - val_loss: 0.3926 - val_acc: 0.8371\n",
            "Epoch 49/50\n",
            "57/57 [==============================] - 11s 196ms/step - loss: 0.3209 - acc: 0.8720 - val_loss: 0.3865 - val_acc: 0.8379\n",
            "Epoch 50/50\n",
            "57/57 [==============================] - 11s 196ms/step - loss: 0.3093 - acc: 0.8811 - val_loss: 0.3861 - val_acc: 0.8394\n"
          ]
        },
        {
          "output_type": "execute_result",
          "data": {
            "text/plain": [
              "<keras.callbacks.History at 0x7f78eea93e10>"
            ]
          },
          "metadata": {},
          "execution_count": 37
        }
      ]
    },
    {
      "cell_type": "code",
      "source": [],
      "metadata": {
        "id": "cwOBhu0XsBbp"
      },
      "execution_count": null,
      "outputs": []
    },
    {
      "cell_type": "markdown",
      "source": [
        "## 실습2. IMDB 텍스트 분류\n",
        "---"
      ],
      "metadata": {
        "id": "6A9BPqyPrVo4"
      }
    },
    {
      "cell_type": "markdown",
      "source": [
        "### **| IMDB 데이터셋**\n"
      ],
      "metadata": {
        "id": "xnVcneSwigM3"
      }
    },
    {
      "cell_type": "code",
      "source": [
        "vocab_size = 20000  \n",
        "maxlen = 200  \n",
        "\n",
        "(x_train, y_train), (x_val, y_val) = tf.keras.datasets.imdb.load_data(num_words=vocab_size)\n",
        "print(len(x_train), \"Training sequences\")\n",
        "print(len(x_val), \"Validation sequences\")\n",
        "x_train = tf.keras.preprocessing.sequence.pad_sequences(x_train, maxlen=maxlen)\n",
        "x_val = tf.keras.preprocessing.sequence.pad_sequences(x_val, maxlen=maxlen)\n",
        "print(x_train.shape, x_val.shape)"
      ],
      "metadata": {
        "id": "zanVdSOvfEMx",
        "colab": {
          "base_uri": "https://localhost:8080/"
        },
        "outputId": "254eb9f9-6a34-4d51-8b10-65415561fb47"
      },
      "execution_count": 14,
      "outputs": [
        {
          "output_type": "stream",
          "name": "stdout",
          "text": [
            "Downloading data from https://storage.googleapis.com/tensorflow/tf-keras-datasets/imdb.npz\n",
            "17465344/17464789 [==============================] - 0s 0us/step\n",
            "17473536/17464789 [==============================] - 0s 0us/step\n",
            "25000 Training sequences\n",
            "25000 Validation sequences\n",
            "(25000, 200) (25000, 200)\n"
          ]
        }
      ]
    },
    {
      "cell_type": "code",
      "source": [
        "# 데이터가 정하는 값\n",
        "maxlen = 200\n",
        "vocab_size = 20000\n",
        "# 하이퍼 파라미터\n",
        "embed_dim = 128\n",
        "\n",
        "x = layers.Input(shape = (maxlen,))\n",
        "x_em = layers.Embedding(input_dim = vocab_size, \n",
        "                        output_dim = embed_dim)(x)\n",
        "print(x.shape, x_em.shape)"
      ],
      "metadata": {
        "colab": {
          "base_uri": "https://localhost:8080/"
        },
        "id": "E5qN2-UoTaoI",
        "outputId": "baeaabb4-d511-4cd0-965b-938de6aad2ab"
      },
      "execution_count": 16,
      "outputs": [
        {
          "output_type": "stream",
          "name": "stdout",
          "text": [
            "(None, 200) (None, 200, 128)\n"
          ]
        }
      ]
    },
    {
      "cell_type": "code",
      "source": [
        "class TokenAndPositionEmbedding(layers.Layer): # 상속 : tf.keras.layers\n",
        "    def __init__(self, maxlen, vocab_size, embed_dim):\n",
        "        super(TokenAndPositionEmbedding, self).__init__() # 부모 클래스 layers\n",
        "        self.token_emb = layers.Embedding(input_dim=vocab_size, output_dim=embed_dim) # 기본 임베딩\n",
        "        self.pos_emb = layers.Embedding(input_dim=maxlen, output_dim=embed_dim) # positional encoding\n",
        "\n",
        "    def call(self, x):\n",
        "        # maxlen = tf.shape(x)[-1]\n",
        "        positions = tf.range(start=0, limit=maxlen, delta=1)\n",
        "        positions = self.pos_emb(positions)\n",
        "        x = self.token_emb(x)\n",
        "        return x + positions"
      ],
      "metadata": {
        "id": "S2LReh_CfiG4"
      },
      "execution_count": 15,
      "outputs": []
    },
    {
      "cell_type": "code",
      "source": [
        "# embed = TokenAndPositionEmbedding(maxlen, vocab_size, embed_dim)\n",
        "# embed(x) # call에 해당하는 부분 실행됨\n",
        "\n",
        "x_embed = TokenAndPositionEmbedding(maxlen, vocab_size, embed_dim)(x) # call에 해당하는 부분 실행됨\n",
        "print(x_embed)"
      ],
      "metadata": {
        "colab": {
          "base_uri": "https://localhost:8080/"
        },
        "id": "d6FJgFskVS_g",
        "outputId": "52e186df-9844-4bc8-e721-a48df5ccd663"
      },
      "execution_count": 20,
      "outputs": [
        {
          "output_type": "stream",
          "name": "stdout",
          "text": [
            "KerasTensor(type_spec=TensorSpec(shape=(None, 200, 128), dtype=tf.float32, name=None), name='token_and_position_embedding_2/add:0', description=\"created by layer 'token_and_position_embedding_2'\")\n"
          ]
        }
      ]
    },
    {
      "cell_type": "code",
      "source": [],
      "metadata": {
        "id": "BZqMRNCyW4_X"
      },
      "execution_count": null,
      "outputs": []
    },
    {
      "cell_type": "markdown",
      "source": [
        "\n",
        "### **| 모델 구현**"
      ],
      "metadata": {
        "id": "KZzxMCQDK5c7"
      }
    },
    {
      "cell_type": "code",
      "source": [
        "# Set params\n",
        "maxlen = 200\n",
        "vocab_size = 20000\n",
        "embed_dim = 32\n",
        "n_classes = 2\n",
        "\n",
        "N = 4\n",
        "h = 4\n",
        "d_k = 32\n",
        "d_ff = 32\n",
        "\n",
        "# Set Input\n",
        "inputs = layers.Input(shape = (maxlen,))\n",
        "\n",
        "# Embeding : maxlen - (maxlen,embed_dim)\n",
        "y_emb = TokenAndPositionEmbedding(maxlen, vocab_size, embed_dim)(inputs)\n",
        "\n",
        "# Encoder Block\n",
        "y = y_emb\n",
        "for i in range(N):\n",
        "  encoder = encoder_block(y.shape[1:], h, d_k, d_ff, dropout=0.25, name=f'encoder_{i}')\n",
        "  y = encoder(y)\n",
        "\n",
        "# Classifier\n",
        "y = layers.GlobalAveragePooling1D(data_format='channels_first')(y)\n",
        "y = layers.Dense(128, activation = 'relu')(y)\n",
        "y = layers.Dropout(0.5)(y)\n",
        "y = layers.Dense(n_classes, activation = 'softmax')(y)\n",
        "# Final model\n",
        "model = models.Model(inputs, y, name = 'TransformerEncoderCfy')\n",
        "model.summary()"
      ],
      "metadata": {
        "id": "RY3759qfK5c7",
        "colab": {
          "base_uri": "https://localhost:8080/"
        },
        "outputId": "9731aa57-8e9d-4b30-9dbb-974937aa73c5"
      },
      "execution_count": 23,
      "outputs": [
        {
          "output_type": "stream",
          "name": "stdout",
          "text": [
            "Model: \"TransformerEncoderCfy\"\n",
            "_________________________________________________________________\n",
            " Layer (type)                Output Shape              Param #   \n",
            "=================================================================\n",
            " input_5 (InputLayer)        [(None, 200)]             0         \n",
            "                                                                 \n",
            " token_and_position_embeddin  (None, 200, 32)          646400    \n",
            " g_3 (TokenAndPositionEmbedd                                     \n",
            " ing)                                                            \n",
            "                                                                 \n",
            " encoder_0 (Functional)      (None, 200, 32)           19040     \n",
            "                                                                 \n",
            " encoder_1 (Functional)      (None, 200, 32)           19040     \n",
            "                                                                 \n",
            " encoder_2 (Functional)      (None, 200, 32)           19040     \n",
            "                                                                 \n",
            " encoder_3 (Functional)      (None, 200, 32)           19040     \n",
            "                                                                 \n",
            " global_average_pooling1d (G  (None, 200)              0         \n",
            " lobalAveragePooling1D)                                          \n",
            "                                                                 \n",
            " dense (Dense)               (None, 128)               25728     \n",
            "                                                                 \n",
            " dropout_10 (Dropout)        (None, 128)               0         \n",
            "                                                                 \n",
            " dense_1 (Dense)             (None, 2)                 258       \n",
            "                                                                 \n",
            "=================================================================\n",
            "Total params: 748,546\n",
            "Trainable params: 748,546\n",
            "Non-trainable params: 0\n",
            "_________________________________________________________________\n"
          ]
        }
      ]
    },
    {
      "cell_type": "markdown",
      "source": [
        "### **| 학습**"
      ],
      "metadata": {
        "id": "3bS4AnGMd65o"
      }
    },
    {
      "cell_type": "code",
      "source": [
        "model.compile(loss = 'sparse_categorical_crossentropy',\n",
        "              optimizer = tf.keras.optimizers.Adam(0.0001),\n",
        "              metrics = 'acc')\n",
        "es = tf.keras.callbacks.EarlyStopping(patience=8, restore_best_weights=True)\n",
        "model.fit(x_train, y_train,\n",
        "          validation_data = [x_val, y_val],\n",
        "          epochs = 50,\n",
        "          batch_size = 64,\n",
        "          callbacks=[es])"
      ],
      "metadata": {
        "id": "mOCrC4IdW-if",
        "colab": {
          "base_uri": "https://localhost:8080/"
        },
        "outputId": "799a5c7a-e593-40d7-a522-18c45a4efdbf"
      },
      "execution_count": 26,
      "outputs": [
        {
          "output_type": "stream",
          "name": "stdout",
          "text": [
            "Epoch 1/50\n",
            "391/391 [==============================] - 23s 50ms/step - loss: 0.5961 - acc: 0.6564 - val_loss: 0.4127 - val_acc: 0.8272\n",
            "Epoch 2/50\n",
            "391/391 [==============================] - 19s 48ms/step - loss: 0.3063 - acc: 0.8733 - val_loss: 0.3175 - val_acc: 0.8627\n",
            "Epoch 3/50\n",
            "391/391 [==============================] - 19s 48ms/step - loss: 0.2217 - acc: 0.9138 - val_loss: 0.3883 - val_acc: 0.8554\n",
            "Epoch 4/50\n",
            "391/391 [==============================] - 19s 48ms/step - loss: 0.1708 - acc: 0.9380 - val_loss: 0.4085 - val_acc: 0.8632\n",
            "Epoch 5/50\n",
            "391/391 [==============================] - 19s 48ms/step - loss: 0.1367 - acc: 0.9524 - val_loss: 0.4151 - val_acc: 0.8589\n",
            "Epoch 6/50\n",
            "391/391 [==============================] - 19s 48ms/step - loss: 0.1100 - acc: 0.9633 - val_loss: 0.4718 - val_acc: 0.8648\n",
            "Epoch 7/50\n",
            "391/391 [==============================] - 19s 48ms/step - loss: 0.0830 - acc: 0.9748 - val_loss: 0.5524 - val_acc: 0.8597\n",
            "Epoch 8/50\n",
            "391/391 [==============================] - 19s 48ms/step - loss: 0.0710 - acc: 0.9781 - val_loss: 0.5544 - val_acc: 0.8568\n",
            "Epoch 9/50\n",
            "391/391 [==============================] - 19s 48ms/step - loss: 0.0640 - acc: 0.9810 - val_loss: 0.6645 - val_acc: 0.8513\n",
            "Epoch 10/50\n",
            "391/391 [==============================] - 19s 49ms/step - loss: 0.0546 - acc: 0.9846 - val_loss: 0.7452 - val_acc: 0.8524\n"
          ]
        },
        {
          "output_type": "execute_result",
          "data": {
            "text/plain": [
              "<keras.callbacks.History at 0x7ff5036e9bd0>"
            ]
          },
          "metadata": {},
          "execution_count": 26
        }
      ]
    },
    {
      "cell_type": "code",
      "source": [],
      "metadata": {
        "id": "_zuy7UIjmQOH"
      },
      "execution_count": null,
      "outputs": []
    },
    {
      "cell_type": "code",
      "source": [],
      "metadata": {
        "id": "uiqzzBnNXEg2"
      },
      "execution_count": null,
      "outputs": []
    },
    {
      "cell_type": "markdown",
      "source": [
        "## 실습3. Vision Transformer\n",
        "---"
      ],
      "metadata": {
        "id": "Ga27rKRsuKgg"
      }
    },
    {
      "cell_type": "code",
      "source": [
        "def display_img_patches(img, patches):\n",
        "\n",
        "  # origin image\n",
        "\n",
        "\n",
        "  # patches\n",
        "\n",
        "  # real patches\n"
      ],
      "metadata": {
        "id": "jyvroA8DLeIZ"
      },
      "execution_count": null,
      "outputs": []
    },
    {
      "cell_type": "code",
      "source": [],
      "metadata": {
        "id": "-BTU3lHQuMO1"
      },
      "execution_count": null,
      "outputs": []
    },
    {
      "cell_type": "code",
      "source": [],
      "metadata": {
        "id": "BW_l5s3_EnjR"
      },
      "execution_count": null,
      "outputs": []
    },
    {
      "cell_type": "code",
      "source": [],
      "metadata": {
        "id": "njrj1EnTPfBw"
      },
      "execution_count": null,
      "outputs": []
    },
    {
      "cell_type": "markdown",
      "source": [
        "### **| 이미지 증강**"
      ],
      "metadata": {
        "id": "ayGzpMWKLMgL"
      }
    },
    {
      "cell_type": "code",
      "source": [],
      "metadata": {
        "id": "UMdNJVrZPxyh"
      },
      "execution_count": null,
      "outputs": []
    },
    {
      "cell_type": "markdown",
      "source": [
        "### **| Patch 생성**"
      ],
      "metadata": {
        "id": "o7bXeAwN_mwZ"
      }
    },
    {
      "cell_type": "code",
      "source": [],
      "metadata": {
        "id": "ApoNC3tUv0dB"
      },
      "execution_count": null,
      "outputs": []
    },
    {
      "cell_type": "code",
      "source": [],
      "metadata": {
        "id": "jWt00XZDv37Y"
      },
      "execution_count": null,
      "outputs": []
    },
    {
      "cell_type": "markdown",
      "source": [
        "### **| Patch Encoder**"
      ],
      "metadata": {
        "id": "NDDhrJtb_rKp"
      }
    },
    {
      "cell_type": "code",
      "source": [],
      "metadata": {
        "id": "4TF3PvGB_kuJ"
      },
      "execution_count": null,
      "outputs": []
    },
    {
      "cell_type": "code",
      "source": [],
      "metadata": {
        "id": "Lf1Z-aaYBWUR"
      },
      "execution_count": null,
      "outputs": []
    },
    {
      "cell_type": "markdown",
      "source": [
        "\n",
        "### **| 모델 구현**"
      ],
      "metadata": {
        "id": "9DnMP2RyLFmD"
      }
    },
    {
      "cell_type": "code",
      "source": [
        "# Set params\n",
        "\n",
        "\n",
        "# Set Input\n",
        "\n",
        "# Encoder Block\n",
        "\n",
        "\n",
        "# Classifier\n",
        "\n",
        "# Final model\n"
      ],
      "metadata": {
        "id": "mcmD_hQtLFmI"
      },
      "execution_count": null,
      "outputs": []
    }
  ]
}